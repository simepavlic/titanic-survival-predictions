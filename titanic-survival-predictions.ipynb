{
 "cells": [
  {
   "cell_type": "code",
   "execution_count": 1,
   "id": "atomic-nomination",
   "metadata": {
    "_cell_guid": "b1076dfc-b9ad-4769-8c92-a6c4dae69d19",
    "_uuid": "8f2839f25d086af736a60e9eeb907d3b93b6e0e5",
    "execution": {
     "iopub.execute_input": "2022-02-25T19:30:05.918149Z",
     "iopub.status.busy": "2022-02-25T19:30:05.917539Z",
     "iopub.status.idle": "2022-02-25T19:30:07.178597Z",
     "shell.execute_reply": "2022-02-25T19:30:07.177878Z",
     "shell.execute_reply.started": "2022-02-25T19:19:28.438504Z"
    },
    "papermill": {
     "duration": 1.317372,
     "end_time": "2022-02-25T19:30:07.178776",
     "exception": false,
     "start_time": "2022-02-25T19:30:05.861404",
     "status": "completed"
    },
    "tags": []
   },
   "outputs": [
    {
     "data": {
      "text/html": [
       "        <script type=\"text/javascript\">\n",
       "        window.PlotlyConfig = {MathJaxConfig: 'local'};\n",
       "        if (window.MathJax) {MathJax.Hub.Config({SVG: {font: \"STIX-Web\"}});}\n",
       "        if (typeof require !== 'undefined') {\n",
       "        require.undef(\"plotly\");\n",
       "        requirejs.config({\n",
       "            paths: {\n",
       "                'plotly': ['https://cdn.plot.ly/plotly-latest.min']\n",
       "            }\n",
       "        });\n",
       "        require(['plotly'], function(Plotly) {\n",
       "            window._Plotly = Plotly;\n",
       "        });\n",
       "        }\n",
       "        </script>\n",
       "        "
      ]
     },
     "metadata": {},
     "output_type": "display_data"
    },
    {
     "name": "stdout",
     "output_type": "stream",
     "text": [
      "./__notebook__.ipynb\n"
     ]
    }
   ],
   "source": [
    "# This Python 3 environment comes with many helpful analytics libraries installed\n",
    "# It is defined by the kaggle/python Docker image: https://github.com/kaggle/docker-python\n",
    "# For example, here's several helpful packages to load\n",
    "\n",
    "import numpy as np # linear algebra\n",
    "import pandas as pd # data processing, CSV file I/O (e.g. pd.read_csv)\n",
    "from scipy import stats\n",
    "import seaborn as sns\n",
    "from matplotlib import pyplot as plt\n",
    "from matplotlib import rcParams\n",
    "from sklearn.model_selection import KFold\n",
    "\n",
    "import plotly.offline as py\n",
    "py.init_notebook_mode(connected=True)\n",
    "import plotly.graph_objs as go\n",
    "\n",
    "# Input data files are available in the read-only \"../input/\" directory\n",
    "# For example, running this (by clicking run or pressing Shift+Enter) will list all files under the input directory\n",
    "\n",
    "import os\n",
    "for dirname, _, filenames in os.walk('.'):\n",
    "    for filename in filenames:\n",
    "        print(os.path.join(dirname, filename))\n",
    "\n",
    "# You can write up to 20GB to the current directory (/kaggle/working/) that gets preserved as output when you create a version using \"Save & Run All\" \n",
    "# You can also write temporary files to /kaggle/temp/, but they won't be saved outside of the current session"
   ]
  },
  {
   "cell_type": "code",
   "execution_count": 2,
   "id": "female-vietnam",
   "metadata": {
    "execution": {
     "iopub.execute_input": "2022-02-25T19:30:07.335042Z",
     "iopub.status.busy": "2022-02-25T19:30:07.334143Z",
     "iopub.status.idle": "2022-02-25T19:30:07.395156Z",
     "shell.execute_reply": "2022-02-25T19:30:07.394592Z",
     "shell.execute_reply.started": "2022-02-25T19:19:29.549643Z"
    },
    "papermill": {
     "duration": 0.142333,
     "end_time": "2022-02-25T19:30:07.395299",
     "exception": false,
     "start_time": "2022-02-25T19:30:07.252966",
     "status": "completed"
    },
    "tags": []
   },
   "outputs": [
    {
     "data": {
      "text/html": [
       "<div>\n",
       "<style scoped>\n",
       "    .dataframe tbody tr th:only-of-type {\n",
       "        vertical-align: middle;\n",
       "    }\n",
       "\n",
       "    .dataframe tbody tr th {\n",
       "        vertical-align: top;\n",
       "    }\n",
       "\n",
       "    .dataframe thead th {\n",
       "        text-align: right;\n",
       "    }\n",
       "</style>\n",
       "<table border=\"1\" class=\"dataframe\">\n",
       "  <thead>\n",
       "    <tr style=\"text-align: right;\">\n",
       "      <th></th>\n",
       "      <th>PassengerId</th>\n",
       "      <th>Survived</th>\n",
       "      <th>Pclass</th>\n",
       "      <th>Name</th>\n",
       "      <th>Sex</th>\n",
       "      <th>Age</th>\n",
       "      <th>SibSp</th>\n",
       "      <th>Parch</th>\n",
       "      <th>Ticket</th>\n",
       "      <th>Fare</th>\n",
       "      <th>Cabin</th>\n",
       "      <th>Embarked</th>\n",
       "    </tr>\n",
       "  </thead>\n",
       "  <tbody>\n",
       "    <tr>\n",
       "      <th>0</th>\n",
       "      <td>1</td>\n",
       "      <td>0</td>\n",
       "      <td>3</td>\n",
       "      <td>Braund, Mr. Owen Harris</td>\n",
       "      <td>male</td>\n",
       "      <td>22.0</td>\n",
       "      <td>1</td>\n",
       "      <td>0</td>\n",
       "      <td>A/5 21171</td>\n",
       "      <td>7.2500</td>\n",
       "      <td>NaN</td>\n",
       "      <td>S</td>\n",
       "    </tr>\n",
       "    <tr>\n",
       "      <th>1</th>\n",
       "      <td>2</td>\n",
       "      <td>1</td>\n",
       "      <td>1</td>\n",
       "      <td>Cumings, Mrs. John Bradley (Florence Briggs Th...</td>\n",
       "      <td>female</td>\n",
       "      <td>38.0</td>\n",
       "      <td>1</td>\n",
       "      <td>0</td>\n",
       "      <td>PC 17599</td>\n",
       "      <td>71.2833</td>\n",
       "      <td>C85</td>\n",
       "      <td>C</td>\n",
       "    </tr>\n",
       "    <tr>\n",
       "      <th>2</th>\n",
       "      <td>3</td>\n",
       "      <td>1</td>\n",
       "      <td>3</td>\n",
       "      <td>Heikkinen, Miss. Laina</td>\n",
       "      <td>female</td>\n",
       "      <td>26.0</td>\n",
       "      <td>0</td>\n",
       "      <td>0</td>\n",
       "      <td>STON/O2. 3101282</td>\n",
       "      <td>7.9250</td>\n",
       "      <td>NaN</td>\n",
       "      <td>S</td>\n",
       "    </tr>\n",
       "    <tr>\n",
       "      <th>3</th>\n",
       "      <td>4</td>\n",
       "      <td>1</td>\n",
       "      <td>1</td>\n",
       "      <td>Futrelle, Mrs. Jacques Heath (Lily May Peel)</td>\n",
       "      <td>female</td>\n",
       "      <td>35.0</td>\n",
       "      <td>1</td>\n",
       "      <td>0</td>\n",
       "      <td>113803</td>\n",
       "      <td>53.1000</td>\n",
       "      <td>C123</td>\n",
       "      <td>S</td>\n",
       "    </tr>\n",
       "    <tr>\n",
       "      <th>4</th>\n",
       "      <td>5</td>\n",
       "      <td>0</td>\n",
       "      <td>3</td>\n",
       "      <td>Allen, Mr. William Henry</td>\n",
       "      <td>male</td>\n",
       "      <td>35.0</td>\n",
       "      <td>0</td>\n",
       "      <td>0</td>\n",
       "      <td>373450</td>\n",
       "      <td>8.0500</td>\n",
       "      <td>NaN</td>\n",
       "      <td>S</td>\n",
       "    </tr>\n",
       "  </tbody>\n",
       "</table>\n",
       "</div>"
      ],
      "text/plain": [
       "   PassengerId  Survived  Pclass  \\\n",
       "0            1         0       3   \n",
       "1            2         1       1   \n",
       "2            3         1       3   \n",
       "3            4         1       1   \n",
       "4            5         0       3   \n",
       "\n",
       "                                                Name     Sex   Age  SibSp  \\\n",
       "0                            Braund, Mr. Owen Harris    male  22.0      1   \n",
       "1  Cumings, Mrs. John Bradley (Florence Briggs Th...  female  38.0      1   \n",
       "2                             Heikkinen, Miss. Laina  female  26.0      0   \n",
       "3       Futrelle, Mrs. Jacques Heath (Lily May Peel)  female  35.0      1   \n",
       "4                           Allen, Mr. William Henry    male  35.0      0   \n",
       "\n",
       "   Parch            Ticket     Fare Cabin Embarked  \n",
       "0      0         A/5 21171   7.2500   NaN        S  \n",
       "1      0          PC 17599  71.2833   C85        C  \n",
       "2      0  STON/O2. 3101282   7.9250   NaN        S  \n",
       "3      0            113803  53.1000  C123        S  \n",
       "4      0            373450   8.0500   NaN        S  "
      ]
     },
     "execution_count": 2,
     "metadata": {},
     "output_type": "execute_result"
    }
   ],
   "source": [
    "data_path = \"../input/titanic/train.csv\"\n",
    "df = pd.read_csv(data_path)\n",
    "data_path_test = \"../input/titanic/test.csv\"\n",
    "df_test = pd.read_csv(data_path_test)\n",
    "df.head()"
   ]
  },
  {
   "cell_type": "code",
   "execution_count": 3,
   "id": "immune-citation",
   "metadata": {
    "execution": {
     "iopub.execute_input": "2022-02-25T19:30:07.551151Z",
     "iopub.status.busy": "2022-02-25T19:30:07.550452Z",
     "iopub.status.idle": "2022-02-25T19:30:07.568535Z",
     "shell.execute_reply": "2022-02-25T19:30:07.569164Z",
     "shell.execute_reply.started": "2022-02-25T19:19:29.600965Z"
    },
    "papermill": {
     "duration": 0.101446,
     "end_time": "2022-02-25T19:30:07.569337",
     "exception": false,
     "start_time": "2022-02-25T19:30:07.467891",
     "status": "completed"
    },
    "tags": []
   },
   "outputs": [
    {
     "name": "stdout",
     "output_type": "stream",
     "text": [
      "<class 'pandas.core.frame.DataFrame'>\n",
      "RangeIndex: 891 entries, 0 to 890\n",
      "Data columns (total 12 columns):\n",
      " #   Column       Non-Null Count  Dtype  \n",
      "---  ------       --------------  -----  \n",
      " 0   PassengerId  891 non-null    int64  \n",
      " 1   Survived     891 non-null    int64  \n",
      " 2   Pclass       891 non-null    int64  \n",
      " 3   Name         891 non-null    object \n",
      " 4   Sex          891 non-null    object \n",
      " 5   Age          714 non-null    float64\n",
      " 6   SibSp        891 non-null    int64  \n",
      " 7   Parch        891 non-null    int64  \n",
      " 8   Ticket       891 non-null    object \n",
      " 9   Fare         891 non-null    float64\n",
      " 10  Cabin        204 non-null    object \n",
      " 11  Embarked     889 non-null    object \n",
      "dtypes: float64(2), int64(5), object(5)\n",
      "memory usage: 83.7+ KB\n"
     ]
    }
   ],
   "source": [
    "df.info()"
   ]
  },
  {
   "cell_type": "markdown",
   "id": "respiratory-calgary",
   "metadata": {
    "papermill": {
     "duration": 0.075525,
     "end_time": "2022-02-25T19:30:07.716070",
     "exception": false,
     "start_time": "2022-02-25T19:30:07.640545",
     "status": "completed"
    },
    "tags": []
   },
   "source": [
    "Drop the passenger id, as it brings no value to us"
   ]
  },
  {
   "cell_type": "code",
   "execution_count": 4,
   "id": "successful-irish",
   "metadata": {
    "execution": {
     "iopub.execute_input": "2022-02-25T19:30:07.873297Z",
     "iopub.status.busy": "2022-02-25T19:30:07.872614Z",
     "iopub.status.idle": "2022-02-25T19:30:07.900636Z",
     "shell.execute_reply": "2022-02-25T19:30:07.900204Z",
     "shell.execute_reply.started": "2022-02-25T19:19:29.62307Z"
    },
    "papermill": {
     "duration": 0.110589,
     "end_time": "2022-02-25T19:30:07.900782",
     "exception": false,
     "start_time": "2022-02-25T19:30:07.790193",
     "status": "completed"
    },
    "tags": []
   },
   "outputs": [
    {
     "data": {
      "text/html": [
       "<div>\n",
       "<style scoped>\n",
       "    .dataframe tbody tr th:only-of-type {\n",
       "        vertical-align: middle;\n",
       "    }\n",
       "\n",
       "    .dataframe tbody tr th {\n",
       "        vertical-align: top;\n",
       "    }\n",
       "\n",
       "    .dataframe thead th {\n",
       "        text-align: right;\n",
       "    }\n",
       "</style>\n",
       "<table border=\"1\" class=\"dataframe\">\n",
       "  <thead>\n",
       "    <tr style=\"text-align: right;\">\n",
       "      <th></th>\n",
       "      <th>Survived</th>\n",
       "      <th>Pclass</th>\n",
       "      <th>Age</th>\n",
       "      <th>SibSp</th>\n",
       "      <th>Parch</th>\n",
       "      <th>Fare</th>\n",
       "    </tr>\n",
       "  </thead>\n",
       "  <tbody>\n",
       "    <tr>\n",
       "      <th>count</th>\n",
       "      <td>891.000000</td>\n",
       "      <td>891.000000</td>\n",
       "      <td>714.000000</td>\n",
       "      <td>891.000000</td>\n",
       "      <td>891.000000</td>\n",
       "      <td>891.000000</td>\n",
       "    </tr>\n",
       "    <tr>\n",
       "      <th>mean</th>\n",
       "      <td>0.383838</td>\n",
       "      <td>2.308642</td>\n",
       "      <td>29.699118</td>\n",
       "      <td>0.523008</td>\n",
       "      <td>0.381594</td>\n",
       "      <td>32.204208</td>\n",
       "    </tr>\n",
       "    <tr>\n",
       "      <th>std</th>\n",
       "      <td>0.486592</td>\n",
       "      <td>0.836071</td>\n",
       "      <td>14.526497</td>\n",
       "      <td>1.102743</td>\n",
       "      <td>0.806057</td>\n",
       "      <td>49.693429</td>\n",
       "    </tr>\n",
       "    <tr>\n",
       "      <th>min</th>\n",
       "      <td>0.000000</td>\n",
       "      <td>1.000000</td>\n",
       "      <td>0.420000</td>\n",
       "      <td>0.000000</td>\n",
       "      <td>0.000000</td>\n",
       "      <td>0.000000</td>\n",
       "    </tr>\n",
       "    <tr>\n",
       "      <th>25%</th>\n",
       "      <td>0.000000</td>\n",
       "      <td>2.000000</td>\n",
       "      <td>20.125000</td>\n",
       "      <td>0.000000</td>\n",
       "      <td>0.000000</td>\n",
       "      <td>7.910400</td>\n",
       "    </tr>\n",
       "    <tr>\n",
       "      <th>50%</th>\n",
       "      <td>0.000000</td>\n",
       "      <td>3.000000</td>\n",
       "      <td>28.000000</td>\n",
       "      <td>0.000000</td>\n",
       "      <td>0.000000</td>\n",
       "      <td>14.454200</td>\n",
       "    </tr>\n",
       "    <tr>\n",
       "      <th>75%</th>\n",
       "      <td>1.000000</td>\n",
       "      <td>3.000000</td>\n",
       "      <td>38.000000</td>\n",
       "      <td>1.000000</td>\n",
       "      <td>0.000000</td>\n",
       "      <td>31.000000</td>\n",
       "    </tr>\n",
       "    <tr>\n",
       "      <th>max</th>\n",
       "      <td>1.000000</td>\n",
       "      <td>3.000000</td>\n",
       "      <td>80.000000</td>\n",
       "      <td>8.000000</td>\n",
       "      <td>6.000000</td>\n",
       "      <td>512.329200</td>\n",
       "    </tr>\n",
       "  </tbody>\n",
       "</table>\n",
       "</div>"
      ],
      "text/plain": [
       "         Survived      Pclass         Age       SibSp       Parch        Fare\n",
       "count  891.000000  891.000000  714.000000  891.000000  891.000000  891.000000\n",
       "mean     0.383838    2.308642   29.699118    0.523008    0.381594   32.204208\n",
       "std      0.486592    0.836071   14.526497    1.102743    0.806057   49.693429\n",
       "min      0.000000    1.000000    0.420000    0.000000    0.000000    0.000000\n",
       "25%      0.000000    2.000000   20.125000    0.000000    0.000000    7.910400\n",
       "50%      0.000000    3.000000   28.000000    0.000000    0.000000   14.454200\n",
       "75%      1.000000    3.000000   38.000000    1.000000    0.000000   31.000000\n",
       "max      1.000000    3.000000   80.000000    8.000000    6.000000  512.329200"
      ]
     },
     "execution_count": 4,
     "metadata": {},
     "output_type": "execute_result"
    }
   ],
   "source": [
    "df = df.drop('PassengerId', axis=1)\n",
    "df.describe()"
   ]
  },
  {
   "cell_type": "code",
   "execution_count": 5,
   "id": "becoming-house",
   "metadata": {
    "execution": {
     "iopub.execute_input": "2022-02-25T19:30:07.998253Z",
     "iopub.status.busy": "2022-02-25T19:30:07.997575Z",
     "iopub.status.idle": "2022-02-25T19:30:08.010633Z",
     "shell.execute_reply": "2022-02-25T19:30:08.010087Z",
     "shell.execute_reply.started": "2022-02-25T19:19:29.656616Z"
    },
    "papermill": {
     "duration": 0.062836,
     "end_time": "2022-02-25T19:30:08.010776",
     "exception": false,
     "start_time": "2022-02-25T19:30:07.947940",
     "status": "completed"
    },
    "tags": []
   },
   "outputs": [
    {
     "name": "stdout",
     "output_type": "stream",
     "text": [
      "<class 'pandas.core.frame.DataFrame'>\n",
      "RangeIndex: 418 entries, 0 to 417\n",
      "Data columns (total 11 columns):\n",
      " #   Column       Non-Null Count  Dtype  \n",
      "---  ------       --------------  -----  \n",
      " 0   PassengerId  418 non-null    int64  \n",
      " 1   Pclass       418 non-null    int64  \n",
      " 2   Name         418 non-null    object \n",
      " 3   Sex          418 non-null    object \n",
      " 4   Age          332 non-null    float64\n",
      " 5   SibSp        418 non-null    int64  \n",
      " 6   Parch        418 non-null    int64  \n",
      " 7   Ticket       418 non-null    object \n",
      " 8   Fare         417 non-null    float64\n",
      " 9   Cabin        91 non-null     object \n",
      " 10  Embarked     418 non-null    object \n",
      "dtypes: float64(2), int64(4), object(5)\n",
      "memory usage: 36.0+ KB\n"
     ]
    }
   ],
   "source": [
    "df_test.info()"
   ]
  },
  {
   "cell_type": "code",
   "execution_count": 6,
   "id": "handed-pittsburgh",
   "metadata": {
    "execution": {
     "iopub.execute_input": "2022-02-25T19:30:08.111724Z",
     "iopub.status.busy": "2022-02-25T19:30:08.111216Z",
     "iopub.status.idle": "2022-02-25T19:30:08.117239Z",
     "shell.execute_reply": "2022-02-25T19:30:08.117707Z",
     "shell.execute_reply.started": "2022-02-25T19:19:29.677436Z"
    },
    "papermill": {
     "duration": 0.058273,
     "end_time": "2022-02-25T19:30:08.117847",
     "exception": false,
     "start_time": "2022-02-25T19:30:08.059574",
     "status": "completed"
    },
    "tags": []
   },
   "outputs": [
    {
     "data": {
      "text/plain": [
       "array([nan, 'C85', 'C123', 'E46', 'G6', 'C103', 'D56', 'A6',\n",
       "       'C23 C25 C27', 'B78', 'D33', 'B30', 'C52', 'B28', 'C83', 'F33',\n",
       "       'F G73', 'E31', 'A5', 'D10 D12', 'D26', 'C110', 'B58 B60', 'E101',\n",
       "       'F E69', 'D47', 'B86', 'F2', 'C2', 'E33', 'B19', 'A7', 'C49', 'F4',\n",
       "       'A32', 'B4', 'B80', 'A31', 'D36', 'D15', 'C93', 'C78', 'D35',\n",
       "       'C87', 'B77', 'E67', 'B94', 'C125', 'C99', 'C118', 'D7', 'A19',\n",
       "       'B49', 'D', 'C22 C26', 'C106', 'C65', 'E36', 'C54',\n",
       "       'B57 B59 B63 B66', 'C7', 'E34', 'C32', 'B18', 'C124', 'C91', 'E40',\n",
       "       'T', 'C128', 'D37', 'B35', 'E50', 'C82', 'B96 B98', 'E10', 'E44',\n",
       "       'A34', 'C104', 'C111', 'C92', 'E38', 'D21', 'E12', 'E63', 'A14',\n",
       "       'B37', 'C30', 'D20', 'B79', 'E25', 'D46', 'B73', 'C95', 'B38',\n",
       "       'B39', 'B22', 'C86', 'C70', 'A16', 'C101', 'C68', 'A10', 'E68',\n",
       "       'B41', 'A20', 'D19', 'D50', 'D9', 'A23', 'B50', 'A26', 'D48',\n",
       "       'E58', 'C126', 'B71', 'B51 B53 B55', 'D49', 'B5', 'B20', 'F G63',\n",
       "       'C62 C64', 'E24', 'C90', 'C45', 'E8', 'B101', 'D45', 'C46', 'D30',\n",
       "       'E121', 'D11', 'E77', 'F38', 'B3', 'D6', 'B82 B84', 'D17', 'A36',\n",
       "       'B102', 'B69', 'E49', 'C47', 'D28', 'E17', 'A24', 'C50', 'B42',\n",
       "       'C148'], dtype=object)"
      ]
     },
     "execution_count": 6,
     "metadata": {},
     "output_type": "execute_result"
    }
   ],
   "source": [
    "df.Cabin.unique()"
   ]
  },
  {
   "cell_type": "code",
   "execution_count": 7,
   "id": "hawaiian-belle",
   "metadata": {
    "execution": {
     "iopub.execute_input": "2022-02-25T19:30:08.218357Z",
     "iopub.status.busy": "2022-02-25T19:30:08.217650Z",
     "iopub.status.idle": "2022-02-25T19:30:08.221354Z",
     "shell.execute_reply": "2022-02-25T19:30:08.221721Z",
     "shell.execute_reply.started": "2022-02-25T19:19:29.688744Z"
    },
    "papermill": {
     "duration": 0.057288,
     "end_time": "2022-02-25T19:30:08.221874",
     "exception": false,
     "start_time": "2022-02-25T19:30:08.164586",
     "status": "completed"
    },
    "tags": []
   },
   "outputs": [],
   "source": [
    "df['HasCabin'] = (df['Cabin'].notnull()).astype(np.uint8)\n",
    "df = df.drop('Cabin', axis=1)\n",
    "df_test['HasCabin'] = (df_test['Cabin'].notnull()).astype(np.uint8)\n",
    "df_test = df_test.drop('Cabin', axis=1)"
   ]
  },
  {
   "cell_type": "code",
   "execution_count": 8,
   "id": "departmental-thong",
   "metadata": {
    "execution": {
     "iopub.execute_input": "2022-02-25T19:30:08.321499Z",
     "iopub.status.busy": "2022-02-25T19:30:08.320917Z",
     "iopub.status.idle": "2022-02-25T19:30:08.325659Z",
     "shell.execute_reply": "2022-02-25T19:30:08.325244Z",
     "shell.execute_reply.started": "2022-02-25T19:19:29.702412Z"
    },
    "papermill": {
     "duration": 0.056543,
     "end_time": "2022-02-25T19:30:08.325813",
     "exception": false,
     "start_time": "2022-02-25T19:30:08.269270",
     "status": "completed"
    },
    "tags": []
   },
   "outputs": [
    {
     "data": {
      "text/plain": [
       "204"
      ]
     },
     "execution_count": 8,
     "metadata": {},
     "output_type": "execute_result"
    }
   ],
   "source": [
    "df.HasCabin.sum()"
   ]
  },
  {
   "cell_type": "markdown",
   "id": "polished-rehabilitation",
   "metadata": {
    "papermill": {
     "duration": 0.047549,
     "end_time": "2022-02-25T19:30:08.422081",
     "exception": false,
     "start_time": "2022-02-25T19:30:08.374532",
     "status": "completed"
    },
    "tags": []
   },
   "source": [
    "We can delete inputs without Embarked since there are only 2 of them."
   ]
  },
  {
   "cell_type": "code",
   "execution_count": 9,
   "id": "nutritional-liberty",
   "metadata": {
    "execution": {
     "iopub.execute_input": "2022-02-25T19:30:08.526926Z",
     "iopub.status.busy": "2022-02-25T19:30:08.526380Z",
     "iopub.status.idle": "2022-02-25T19:30:08.531924Z",
     "shell.execute_reply": "2022-02-25T19:30:08.532523Z",
     "shell.execute_reply.started": "2022-02-25T19:19:29.712823Z"
    },
    "papermill": {
     "duration": 0.062689,
     "end_time": "2022-02-25T19:30:08.532726",
     "exception": false,
     "start_time": "2022-02-25T19:30:08.470037",
     "status": "completed"
    },
    "tags": []
   },
   "outputs": [],
   "source": [
    "df = df[df['Embarked'].notna()]"
   ]
  },
  {
   "cell_type": "code",
   "execution_count": 10,
   "id": "devoted-welding",
   "metadata": {
    "execution": {
     "iopub.execute_input": "2022-02-25T19:30:08.642503Z",
     "iopub.status.busy": "2022-02-25T19:30:08.642037Z",
     "iopub.status.idle": "2022-02-25T19:30:08.676581Z",
     "shell.execute_reply": "2022-02-25T19:30:08.676110Z",
     "shell.execute_reply.started": "2022-02-25T19:19:29.724424Z"
    },
    "papermill": {
     "duration": 0.085068,
     "end_time": "2022-02-25T19:30:08.676725",
     "exception": false,
     "start_time": "2022-02-25T19:30:08.591657",
     "status": "completed"
    },
    "tags": []
   },
   "outputs": [
    {
     "data": {
      "text/html": [
       "<div>\n",
       "<style scoped>\n",
       "    .dataframe tbody tr th:only-of-type {\n",
       "        vertical-align: middle;\n",
       "    }\n",
       "\n",
       "    .dataframe tbody tr th {\n",
       "        vertical-align: top;\n",
       "    }\n",
       "\n",
       "    .dataframe thead th {\n",
       "        text-align: right;\n",
       "    }\n",
       "</style>\n",
       "<table border=\"1\" class=\"dataframe\">\n",
       "  <thead>\n",
       "    <tr style=\"text-align: right;\">\n",
       "      <th></th>\n",
       "      <th>Survived</th>\n",
       "      <th>Pclass</th>\n",
       "      <th>Age</th>\n",
       "      <th>SibSp</th>\n",
       "      <th>Parch</th>\n",
       "      <th>Fare</th>\n",
       "      <th>HasCabin</th>\n",
       "    </tr>\n",
       "  </thead>\n",
       "  <tbody>\n",
       "    <tr>\n",
       "      <th>count</th>\n",
       "      <td>889.000000</td>\n",
       "      <td>889.000000</td>\n",
       "      <td>712.000000</td>\n",
       "      <td>889.000000</td>\n",
       "      <td>889.000000</td>\n",
       "      <td>889.000000</td>\n",
       "      <td>889.000000</td>\n",
       "    </tr>\n",
       "    <tr>\n",
       "      <th>mean</th>\n",
       "      <td>0.382452</td>\n",
       "      <td>2.311586</td>\n",
       "      <td>29.642093</td>\n",
       "      <td>0.524184</td>\n",
       "      <td>0.382452</td>\n",
       "      <td>32.096681</td>\n",
       "      <td>0.227222</td>\n",
       "    </tr>\n",
       "    <tr>\n",
       "      <th>std</th>\n",
       "      <td>0.486260</td>\n",
       "      <td>0.834700</td>\n",
       "      <td>14.492933</td>\n",
       "      <td>1.103705</td>\n",
       "      <td>0.806761</td>\n",
       "      <td>49.697504</td>\n",
       "      <td>0.419273</td>\n",
       "    </tr>\n",
       "    <tr>\n",
       "      <th>min</th>\n",
       "      <td>0.000000</td>\n",
       "      <td>1.000000</td>\n",
       "      <td>0.420000</td>\n",
       "      <td>0.000000</td>\n",
       "      <td>0.000000</td>\n",
       "      <td>0.000000</td>\n",
       "      <td>0.000000</td>\n",
       "    </tr>\n",
       "    <tr>\n",
       "      <th>25%</th>\n",
       "      <td>0.000000</td>\n",
       "      <td>2.000000</td>\n",
       "      <td>20.000000</td>\n",
       "      <td>0.000000</td>\n",
       "      <td>0.000000</td>\n",
       "      <td>7.895800</td>\n",
       "      <td>0.000000</td>\n",
       "    </tr>\n",
       "    <tr>\n",
       "      <th>50%</th>\n",
       "      <td>0.000000</td>\n",
       "      <td>3.000000</td>\n",
       "      <td>28.000000</td>\n",
       "      <td>0.000000</td>\n",
       "      <td>0.000000</td>\n",
       "      <td>14.454200</td>\n",
       "      <td>0.000000</td>\n",
       "    </tr>\n",
       "    <tr>\n",
       "      <th>75%</th>\n",
       "      <td>1.000000</td>\n",
       "      <td>3.000000</td>\n",
       "      <td>38.000000</td>\n",
       "      <td>1.000000</td>\n",
       "      <td>0.000000</td>\n",
       "      <td>31.000000</td>\n",
       "      <td>0.000000</td>\n",
       "    </tr>\n",
       "    <tr>\n",
       "      <th>max</th>\n",
       "      <td>1.000000</td>\n",
       "      <td>3.000000</td>\n",
       "      <td>80.000000</td>\n",
       "      <td>8.000000</td>\n",
       "      <td>6.000000</td>\n",
       "      <td>512.329200</td>\n",
       "      <td>1.000000</td>\n",
       "    </tr>\n",
       "  </tbody>\n",
       "</table>\n",
       "</div>"
      ],
      "text/plain": [
       "         Survived      Pclass         Age       SibSp       Parch        Fare  \\\n",
       "count  889.000000  889.000000  712.000000  889.000000  889.000000  889.000000   \n",
       "mean     0.382452    2.311586   29.642093    0.524184    0.382452   32.096681   \n",
       "std      0.486260    0.834700   14.492933    1.103705    0.806761   49.697504   \n",
       "min      0.000000    1.000000    0.420000    0.000000    0.000000    0.000000   \n",
       "25%      0.000000    2.000000   20.000000    0.000000    0.000000    7.895800   \n",
       "50%      0.000000    3.000000   28.000000    0.000000    0.000000   14.454200   \n",
       "75%      1.000000    3.000000   38.000000    1.000000    0.000000   31.000000   \n",
       "max      1.000000    3.000000   80.000000    8.000000    6.000000  512.329200   \n",
       "\n",
       "         HasCabin  \n",
       "count  889.000000  \n",
       "mean     0.227222  \n",
       "std      0.419273  \n",
       "min      0.000000  \n",
       "25%      0.000000  \n",
       "50%      0.000000  \n",
       "75%      0.000000  \n",
       "max      1.000000  "
      ]
     },
     "execution_count": 10,
     "metadata": {},
     "output_type": "execute_result"
    }
   ],
   "source": [
    "df.describe()"
   ]
  },
  {
   "cell_type": "code",
   "execution_count": 11,
   "id": "friendly-blank",
   "metadata": {
    "execution": {
     "iopub.execute_input": "2022-02-25T19:30:08.776495Z",
     "iopub.status.busy": "2022-02-25T19:30:08.776018Z",
     "iopub.status.idle": "2022-02-25T19:30:08.797003Z",
     "shell.execute_reply": "2022-02-25T19:30:08.797368Z",
     "shell.execute_reply.started": "2022-02-25T19:19:29.76058Z"
    },
    "papermill": {
     "duration": 0.072511,
     "end_time": "2022-02-25T19:30:08.797505",
     "exception": false,
     "start_time": "2022-02-25T19:30:08.724994",
     "status": "completed"
    },
    "tags": []
   },
   "outputs": [],
   "source": [
    "df['FamilySize'] = df['SibSp'] + df['Parch']\n",
    "df_test['FamilySize'] = df_test['SibSp'] + df_test['Parch']"
   ]
  },
  {
   "cell_type": "code",
   "execution_count": 12,
   "id": "painful-static",
   "metadata": {
    "execution": {
     "iopub.execute_input": "2022-02-25T19:30:08.901236Z",
     "iopub.status.busy": "2022-02-25T19:30:08.900754Z",
     "iopub.status.idle": "2022-02-25T19:30:08.932716Z",
     "shell.execute_reply": "2022-02-25T19:30:08.933067Z",
     "shell.execute_reply.started": "2022-02-25T19:19:29.780943Z"
    },
    "papermill": {
     "duration": 0.086443,
     "end_time": "2022-02-25T19:30:08.933202",
     "exception": false,
     "start_time": "2022-02-25T19:30:08.846759",
     "status": "completed"
    },
    "tags": []
   },
   "outputs": [
    {
     "data": {
      "text/html": [
       "<div>\n",
       "<style scoped>\n",
       "    .dataframe tbody tr th:only-of-type {\n",
       "        vertical-align: middle;\n",
       "    }\n",
       "\n",
       "    .dataframe tbody tr th {\n",
       "        vertical-align: top;\n",
       "    }\n",
       "\n",
       "    .dataframe thead th {\n",
       "        text-align: right;\n",
       "    }\n",
       "</style>\n",
       "<table border=\"1\" class=\"dataframe\">\n",
       "  <thead>\n",
       "    <tr style=\"text-align: right;\">\n",
       "      <th></th>\n",
       "      <th>Survived</th>\n",
       "      <th>Pclass</th>\n",
       "      <th>Age</th>\n",
       "      <th>SibSp</th>\n",
       "      <th>Parch</th>\n",
       "      <th>Fare</th>\n",
       "      <th>HasCabin</th>\n",
       "      <th>FamilySize</th>\n",
       "    </tr>\n",
       "  </thead>\n",
       "  <tbody>\n",
       "    <tr>\n",
       "      <th>count</th>\n",
       "      <td>889.000000</td>\n",
       "      <td>889.000000</td>\n",
       "      <td>712.000000</td>\n",
       "      <td>889.000000</td>\n",
       "      <td>889.000000</td>\n",
       "      <td>889.000000</td>\n",
       "      <td>889.000000</td>\n",
       "      <td>889.000000</td>\n",
       "    </tr>\n",
       "    <tr>\n",
       "      <th>mean</th>\n",
       "      <td>0.382452</td>\n",
       "      <td>2.311586</td>\n",
       "      <td>29.642093</td>\n",
       "      <td>0.524184</td>\n",
       "      <td>0.382452</td>\n",
       "      <td>32.096681</td>\n",
       "      <td>0.227222</td>\n",
       "      <td>0.906637</td>\n",
       "    </tr>\n",
       "    <tr>\n",
       "      <th>std</th>\n",
       "      <td>0.486260</td>\n",
       "      <td>0.834700</td>\n",
       "      <td>14.492933</td>\n",
       "      <td>1.103705</td>\n",
       "      <td>0.806761</td>\n",
       "      <td>49.697504</td>\n",
       "      <td>0.419273</td>\n",
       "      <td>1.614703</td>\n",
       "    </tr>\n",
       "    <tr>\n",
       "      <th>min</th>\n",
       "      <td>0.000000</td>\n",
       "      <td>1.000000</td>\n",
       "      <td>0.420000</td>\n",
       "      <td>0.000000</td>\n",
       "      <td>0.000000</td>\n",
       "      <td>0.000000</td>\n",
       "      <td>0.000000</td>\n",
       "      <td>0.000000</td>\n",
       "    </tr>\n",
       "    <tr>\n",
       "      <th>25%</th>\n",
       "      <td>0.000000</td>\n",
       "      <td>2.000000</td>\n",
       "      <td>20.000000</td>\n",
       "      <td>0.000000</td>\n",
       "      <td>0.000000</td>\n",
       "      <td>7.895800</td>\n",
       "      <td>0.000000</td>\n",
       "      <td>0.000000</td>\n",
       "    </tr>\n",
       "    <tr>\n",
       "      <th>50%</th>\n",
       "      <td>0.000000</td>\n",
       "      <td>3.000000</td>\n",
       "      <td>28.000000</td>\n",
       "      <td>0.000000</td>\n",
       "      <td>0.000000</td>\n",
       "      <td>14.454200</td>\n",
       "      <td>0.000000</td>\n",
       "      <td>0.000000</td>\n",
       "    </tr>\n",
       "    <tr>\n",
       "      <th>75%</th>\n",
       "      <td>1.000000</td>\n",
       "      <td>3.000000</td>\n",
       "      <td>38.000000</td>\n",
       "      <td>1.000000</td>\n",
       "      <td>0.000000</td>\n",
       "      <td>31.000000</td>\n",
       "      <td>0.000000</td>\n",
       "      <td>1.000000</td>\n",
       "    </tr>\n",
       "    <tr>\n",
       "      <th>max</th>\n",
       "      <td>1.000000</td>\n",
       "      <td>3.000000</td>\n",
       "      <td>80.000000</td>\n",
       "      <td>8.000000</td>\n",
       "      <td>6.000000</td>\n",
       "      <td>512.329200</td>\n",
       "      <td>1.000000</td>\n",
       "      <td>10.000000</td>\n",
       "    </tr>\n",
       "  </tbody>\n",
       "</table>\n",
       "</div>"
      ],
      "text/plain": [
       "         Survived      Pclass         Age       SibSp       Parch        Fare  \\\n",
       "count  889.000000  889.000000  712.000000  889.000000  889.000000  889.000000   \n",
       "mean     0.382452    2.311586   29.642093    0.524184    0.382452   32.096681   \n",
       "std      0.486260    0.834700   14.492933    1.103705    0.806761   49.697504   \n",
       "min      0.000000    1.000000    0.420000    0.000000    0.000000    0.000000   \n",
       "25%      0.000000    2.000000   20.000000    0.000000    0.000000    7.895800   \n",
       "50%      0.000000    3.000000   28.000000    0.000000    0.000000   14.454200   \n",
       "75%      1.000000    3.000000   38.000000    1.000000    0.000000   31.000000   \n",
       "max      1.000000    3.000000   80.000000    8.000000    6.000000  512.329200   \n",
       "\n",
       "         HasCabin  FamilySize  \n",
       "count  889.000000  889.000000  \n",
       "mean     0.227222    0.906637  \n",
       "std      0.419273    1.614703  \n",
       "min      0.000000    0.000000  \n",
       "25%      0.000000    0.000000  \n",
       "50%      0.000000    0.000000  \n",
       "75%      0.000000    1.000000  \n",
       "max      1.000000   10.000000  "
      ]
     },
     "execution_count": 12,
     "metadata": {},
     "output_type": "execute_result"
    }
   ],
   "source": [
    "df.describe()"
   ]
  },
  {
   "cell_type": "code",
   "execution_count": 13,
   "id": "horizontal-developer",
   "metadata": {
    "execution": {
     "iopub.execute_input": "2022-02-25T19:30:09.032731Z",
     "iopub.status.busy": "2022-02-25T19:30:09.030331Z",
     "iopub.status.idle": "2022-02-25T19:30:09.035103Z",
     "shell.execute_reply": "2022-02-25T19:30:09.035516Z",
     "shell.execute_reply.started": "2022-02-25T19:19:29.815231Z"
    },
    "papermill": {
     "duration": 0.054891,
     "end_time": "2022-02-25T19:30:09.035645",
     "exception": false,
     "start_time": "2022-02-25T19:30:08.980754",
     "status": "completed"
    },
    "tags": []
   },
   "outputs": [],
   "source": [
    "import re\n",
    "def get_title(name):\n",
    "    title_search = re.search(' ([A-Za-z]+)\\.', name)\n",
    "    if title_search:\n",
    "        return title_search.group(1)\n",
    "    return \"\""
   ]
  },
  {
   "cell_type": "code",
   "execution_count": 14,
   "id": "august-percentage",
   "metadata": {
    "execution": {
     "iopub.execute_input": "2022-02-25T19:30:09.135317Z",
     "iopub.status.busy": "2022-02-25T19:30:09.134871Z",
     "iopub.status.idle": "2022-02-25T19:30:09.157858Z",
     "shell.execute_reply": "2022-02-25T19:30:09.158223Z",
     "shell.execute_reply.started": "2022-02-25T19:19:29.820976Z"
    },
    "papermill": {
     "duration": 0.07449,
     "end_time": "2022-02-25T19:30:09.158353",
     "exception": false,
     "start_time": "2022-02-25T19:30:09.083863",
     "status": "completed"
    },
    "tags": []
   },
   "outputs": [
    {
     "data": {
      "text/html": [
       "<div>\n",
       "<style scoped>\n",
       "    .dataframe tbody tr th:only-of-type {\n",
       "        vertical-align: middle;\n",
       "    }\n",
       "\n",
       "    .dataframe tbody tr th {\n",
       "        vertical-align: top;\n",
       "    }\n",
       "\n",
       "    .dataframe thead th {\n",
       "        text-align: right;\n",
       "    }\n",
       "</style>\n",
       "<table border=\"1\" class=\"dataframe\">\n",
       "  <thead>\n",
       "    <tr style=\"text-align: right;\">\n",
       "      <th></th>\n",
       "      <th>Survived</th>\n",
       "      <th>Pclass</th>\n",
       "      <th>Name</th>\n",
       "      <th>Sex</th>\n",
       "      <th>Age</th>\n",
       "      <th>SibSp</th>\n",
       "      <th>Parch</th>\n",
       "      <th>Ticket</th>\n",
       "      <th>Fare</th>\n",
       "      <th>Embarked</th>\n",
       "      <th>HasCabin</th>\n",
       "      <th>FamilySize</th>\n",
       "      <th>Title</th>\n",
       "    </tr>\n",
       "  </thead>\n",
       "  <tbody>\n",
       "    <tr>\n",
       "      <th>0</th>\n",
       "      <td>0</td>\n",
       "      <td>3</td>\n",
       "      <td>Braund, Mr. Owen Harris</td>\n",
       "      <td>male</td>\n",
       "      <td>22.0</td>\n",
       "      <td>1</td>\n",
       "      <td>0</td>\n",
       "      <td>A/5 21171</td>\n",
       "      <td>7.2500</td>\n",
       "      <td>S</td>\n",
       "      <td>0</td>\n",
       "      <td>1</td>\n",
       "      <td>Mr</td>\n",
       "    </tr>\n",
       "    <tr>\n",
       "      <th>1</th>\n",
       "      <td>1</td>\n",
       "      <td>1</td>\n",
       "      <td>Cumings, Mrs. John Bradley (Florence Briggs Th...</td>\n",
       "      <td>female</td>\n",
       "      <td>38.0</td>\n",
       "      <td>1</td>\n",
       "      <td>0</td>\n",
       "      <td>PC 17599</td>\n",
       "      <td>71.2833</td>\n",
       "      <td>C</td>\n",
       "      <td>1</td>\n",
       "      <td>1</td>\n",
       "      <td>Mrs</td>\n",
       "    </tr>\n",
       "    <tr>\n",
       "      <th>2</th>\n",
       "      <td>1</td>\n",
       "      <td>3</td>\n",
       "      <td>Heikkinen, Miss. Laina</td>\n",
       "      <td>female</td>\n",
       "      <td>26.0</td>\n",
       "      <td>0</td>\n",
       "      <td>0</td>\n",
       "      <td>STON/O2. 3101282</td>\n",
       "      <td>7.9250</td>\n",
       "      <td>S</td>\n",
       "      <td>0</td>\n",
       "      <td>0</td>\n",
       "      <td>Miss</td>\n",
       "    </tr>\n",
       "    <tr>\n",
       "      <th>3</th>\n",
       "      <td>1</td>\n",
       "      <td>1</td>\n",
       "      <td>Futrelle, Mrs. Jacques Heath (Lily May Peel)</td>\n",
       "      <td>female</td>\n",
       "      <td>35.0</td>\n",
       "      <td>1</td>\n",
       "      <td>0</td>\n",
       "      <td>113803</td>\n",
       "      <td>53.1000</td>\n",
       "      <td>S</td>\n",
       "      <td>1</td>\n",
       "      <td>1</td>\n",
       "      <td>Mrs</td>\n",
       "    </tr>\n",
       "    <tr>\n",
       "      <th>4</th>\n",
       "      <td>0</td>\n",
       "      <td>3</td>\n",
       "      <td>Allen, Mr. William Henry</td>\n",
       "      <td>male</td>\n",
       "      <td>35.0</td>\n",
       "      <td>0</td>\n",
       "      <td>0</td>\n",
       "      <td>373450</td>\n",
       "      <td>8.0500</td>\n",
       "      <td>S</td>\n",
       "      <td>0</td>\n",
       "      <td>0</td>\n",
       "      <td>Mr</td>\n",
       "    </tr>\n",
       "  </tbody>\n",
       "</table>\n",
       "</div>"
      ],
      "text/plain": [
       "   Survived  Pclass                                               Name  \\\n",
       "0         0       3                            Braund, Mr. Owen Harris   \n",
       "1         1       1  Cumings, Mrs. John Bradley (Florence Briggs Th...   \n",
       "2         1       3                             Heikkinen, Miss. Laina   \n",
       "3         1       1       Futrelle, Mrs. Jacques Heath (Lily May Peel)   \n",
       "4         0       3                           Allen, Mr. William Henry   \n",
       "\n",
       "      Sex   Age  SibSp  Parch            Ticket     Fare Embarked  HasCabin  \\\n",
       "0    male  22.0      1      0         A/5 21171   7.2500        S         0   \n",
       "1  female  38.0      1      0          PC 17599  71.2833        C         1   \n",
       "2  female  26.0      0      0  STON/O2. 3101282   7.9250        S         0   \n",
       "3  female  35.0      1      0            113803  53.1000        S         1   \n",
       "4    male  35.0      0      0            373450   8.0500        S         0   \n",
       "\n",
       "   FamilySize Title  \n",
       "0           1    Mr  \n",
       "1           1   Mrs  \n",
       "2           0  Miss  \n",
       "3           1   Mrs  \n",
       "4           0    Mr  "
      ]
     },
     "execution_count": 14,
     "metadata": {},
     "output_type": "execute_result"
    }
   ],
   "source": [
    "df['Title'] = df['Name'].apply(get_title)\n",
    "df_test['Title'] = df_test['Name'].apply(get_title)\n",
    "df.head()"
   ]
  },
  {
   "cell_type": "code",
   "execution_count": 15,
   "id": "adverse-colors",
   "metadata": {
    "execution": {
     "iopub.execute_input": "2022-02-25T19:30:09.258115Z",
     "iopub.status.busy": "2022-02-25T19:30:09.257420Z",
     "iopub.status.idle": "2022-02-25T19:30:09.263355Z",
     "shell.execute_reply": "2022-02-25T19:30:09.263720Z",
     "shell.execute_reply.started": "2022-02-25T19:19:29.850284Z"
    },
    "papermill": {
     "duration": 0.056996,
     "end_time": "2022-02-25T19:30:09.263855",
     "exception": false,
     "start_time": "2022-02-25T19:30:09.206859",
     "status": "completed"
    },
    "tags": []
   },
   "outputs": [
    {
     "data": {
      "text/plain": [
       "Mr          517\n",
       "Miss        181\n",
       "Mrs         124\n",
       "Master       40\n",
       "Dr            7\n",
       "Rev           6\n",
       "Col           2\n",
       "Major         2\n",
       "Mlle          2\n",
       "Jonkheer      1\n",
       "Capt          1\n",
       "Lady          1\n",
       "Sir           1\n",
       "Countess      1\n",
       "Mme           1\n",
       "Don           1\n",
       "Ms            1\n",
       "Name: Title, dtype: int64"
      ]
     },
     "execution_count": 15,
     "metadata": {},
     "output_type": "execute_result"
    }
   ],
   "source": [
    "df.Title.value_counts()"
   ]
  },
  {
   "cell_type": "code",
   "execution_count": 16,
   "id": "inside-harvard",
   "metadata": {
    "execution": {
     "iopub.execute_input": "2022-02-25T19:30:09.368127Z",
     "iopub.status.busy": "2022-02-25T19:30:09.367444Z",
     "iopub.status.idle": "2022-02-25T19:30:09.374339Z",
     "shell.execute_reply": "2022-02-25T19:30:09.374746Z",
     "shell.execute_reply.started": "2022-02-25T19:19:29.859436Z"
    },
    "papermill": {
     "duration": 0.062525,
     "end_time": "2022-02-25T19:30:09.374895",
     "exception": false,
     "start_time": "2022-02-25T19:30:09.312370",
     "status": "completed"
    },
    "tags": []
   },
   "outputs": [
    {
     "data": {
      "text/plain": [
       "Mr        240\n",
       "Miss       78\n",
       "Mrs        72\n",
       "Master     21\n",
       "Col         2\n",
       "Rev         2\n",
       "Dr          1\n",
       "Dona        1\n",
       "Ms          1\n",
       "Name: Title, dtype: int64"
      ]
     },
     "execution_count": 16,
     "metadata": {},
     "output_type": "execute_result"
    }
   ],
   "source": [
    "df_test.Title.value_counts()"
   ]
  },
  {
   "cell_type": "code",
   "execution_count": 17,
   "id": "ordinary-freeze",
   "metadata": {
    "execution": {
     "iopub.execute_input": "2022-02-25T19:30:09.476456Z",
     "iopub.status.busy": "2022-02-25T19:30:09.475817Z",
     "iopub.status.idle": "2022-02-25T19:30:09.485838Z",
     "shell.execute_reply": "2022-02-25T19:30:09.486197Z",
     "shell.execute_reply.started": "2022-02-25T19:19:29.871479Z"
    },
    "papermill": {
     "duration": 0.062482,
     "end_time": "2022-02-25T19:30:09.486330",
     "exception": false,
     "start_time": "2022-02-25T19:30:09.423848",
     "status": "completed"
    },
    "tags": []
   },
   "outputs": [],
   "source": [
    "df['Title'] = df['Title'].replace(['Dr', 'Rev', 'Major', 'Col', 'Countess', 'Capt', 'Sir', 'Lady', 'Don', 'Jonkheer', 'Dona'], 'Rare')\n",
    "df['Title'] = df['Title'].replace(['Mlle', 'Ms'], 'Miss')\n",
    "df['Title'] = df['Title'].replace('Mme', 'Mrs')\n",
    "df_test['Title'] = df_test['Title'].replace(['Dr', 'Rev', 'Major', 'Col', 'Countess', 'Capt', 'Sir', 'Lady', 'Don', 'Jonkheer', 'Dona'], 'Rare')\n",
    "df_test['Title'] = df_test['Title'].replace(['Mlle', 'Ms'], 'Miss')\n",
    "df_test['Title'] = df_test['Title'].replace('Mme', 'Mrs')    "
   ]
  },
  {
   "cell_type": "code",
   "execution_count": 18,
   "id": "medical-spencer",
   "metadata": {
    "execution": {
     "iopub.execute_input": "2022-02-25T19:30:09.593874Z",
     "iopub.status.busy": "2022-02-25T19:30:09.592031Z",
     "iopub.status.idle": "2022-02-25T19:30:09.597560Z",
     "shell.execute_reply": "2022-02-25T19:30:09.598016Z",
     "shell.execute_reply.started": "2022-02-25T19:19:29.891079Z"
    },
    "papermill": {
     "duration": 0.061654,
     "end_time": "2022-02-25T19:30:09.598149",
     "exception": false,
     "start_time": "2022-02-25T19:30:09.536495",
     "status": "completed"
    },
    "tags": []
   },
   "outputs": [
    {
     "data": {
      "text/plain": [
       "Mr        517\n",
       "Miss      184\n",
       "Mrs       125\n",
       "Master     40\n",
       "Rare       23\n",
       "Name: Title, dtype: int64"
      ]
     },
     "execution_count": 18,
     "metadata": {},
     "output_type": "execute_result"
    }
   ],
   "source": [
    "df.Title.value_counts()"
   ]
  },
  {
   "cell_type": "code",
   "execution_count": 19,
   "id": "generous-notion",
   "metadata": {
    "execution": {
     "iopub.execute_input": "2022-02-25T19:30:09.702936Z",
     "iopub.status.busy": "2022-02-25T19:30:09.702463Z",
     "iopub.status.idle": "2022-02-25T19:30:09.862771Z",
     "shell.execute_reply": "2022-02-25T19:30:09.863132Z",
     "shell.execute_reply.started": "2022-02-25T19:19:29.905541Z"
    },
    "papermill": {
     "duration": 0.213743,
     "end_time": "2022-02-25T19:30:09.863270",
     "exception": false,
     "start_time": "2022-02-25T19:30:09.649527",
     "status": "completed"
    },
    "tags": []
   },
   "outputs": [],
   "source": [
    "from sklearn.impute import KNNImputer\n",
    "from sklearn.impute import SimpleImputer"
   ]
  },
  {
   "cell_type": "code",
   "execution_count": 20,
   "id": "starting-vault",
   "metadata": {
    "execution": {
     "iopub.execute_input": "2022-02-25T19:30:09.967635Z",
     "iopub.status.busy": "2022-02-25T19:30:09.967119Z",
     "iopub.status.idle": "2022-02-25T19:30:09.999212Z",
     "shell.execute_reply": "2022-02-25T19:30:09.999716Z",
     "shell.execute_reply.started": "2022-02-25T19:19:30.068791Z"
    },
    "papermill": {
     "duration": 0.087491,
     "end_time": "2022-02-25T19:30:09.999882",
     "exception": false,
     "start_time": "2022-02-25T19:30:09.912391",
     "status": "completed"
    },
    "tags": []
   },
   "outputs": [],
   "source": [
    "imputer = KNNImputer()\n",
    "imputed_data = imputer.fit_transform(df[['Pclass', 'SibSp', 'Parch', 'Fare', 'Age', 'FamilySize']])\n",
    "df_temp = pd.DataFrame(imputed_data)\n",
    "df_temp.columns = ['Pclass', 'SibSp', 'Parch', 'Fare', 'Age', 'FamilySize']\n",
    "df['Age'] = df_temp['Age']\n",
    "imputed_data_test = imputer.transform(df_test[['Pclass', 'SibSp', 'Parch', 'Fare', 'Age', 'FamilySize']])\n",
    "df_temp = pd.DataFrame(imputed_data)\n",
    "df_temp.columns = ['Pclass', 'SibSp', 'Parch', 'Fare', 'Age', 'FamilySize']\n",
    "df_test['Age'] = df_temp['Age']"
   ]
  },
  {
   "cell_type": "code",
   "execution_count": 21,
   "id": "important-oriental",
   "metadata": {
    "execution": {
     "iopub.execute_input": "2022-02-25T19:30:10.132440Z",
     "iopub.status.busy": "2022-02-25T19:30:10.131943Z",
     "iopub.status.idle": "2022-02-25T19:30:10.145587Z",
     "shell.execute_reply": "2022-02-25T19:30:10.145133Z",
     "shell.execute_reply.started": "2022-02-25T19:19:30.132796Z"
    },
    "papermill": {
     "duration": 0.080163,
     "end_time": "2022-02-25T19:30:10.145711",
     "exception": false,
     "start_time": "2022-02-25T19:30:10.065548",
     "status": "completed"
    },
    "tags": []
   },
   "outputs": [],
   "source": [
    "imputer = SimpleImputer(missing_values=np.nan, strategy='mean')\n",
    "imputer = imputer.fit(df[[\"Fare\"]])\n",
    "df_test['Fare'] = imputer.transform(df_test[[\"Fare\"]]).ravel()\n",
    "df['Age'] = imputer.fit_transform(df[[\"Age\"]]);\n"
   ]
  },
  {
   "cell_type": "code",
   "execution_count": 22,
   "id": "crucial-cigarette",
   "metadata": {
    "execution": {
     "iopub.execute_input": "2022-02-25T19:30:10.248014Z",
     "iopub.status.busy": "2022-02-25T19:30:10.247555Z",
     "iopub.status.idle": "2022-02-25T19:30:10.279304Z",
     "shell.execute_reply": "2022-02-25T19:30:10.278925Z",
     "shell.execute_reply.started": "2022-02-25T19:19:30.168953Z"
    },
    "papermill": {
     "duration": 0.084024,
     "end_time": "2022-02-25T19:30:10.279410",
     "exception": false,
     "start_time": "2022-02-25T19:30:10.195386",
     "status": "completed"
    },
    "tags": []
   },
   "outputs": [
    {
     "data": {
      "text/html": [
       "<div>\n",
       "<style scoped>\n",
       "    .dataframe tbody tr th:only-of-type {\n",
       "        vertical-align: middle;\n",
       "    }\n",
       "\n",
       "    .dataframe tbody tr th {\n",
       "        vertical-align: top;\n",
       "    }\n",
       "\n",
       "    .dataframe thead th {\n",
       "        text-align: right;\n",
       "    }\n",
       "</style>\n",
       "<table border=\"1\" class=\"dataframe\">\n",
       "  <thead>\n",
       "    <tr style=\"text-align: right;\">\n",
       "      <th></th>\n",
       "      <th>Survived</th>\n",
       "      <th>Pclass</th>\n",
       "      <th>Age</th>\n",
       "      <th>SibSp</th>\n",
       "      <th>Parch</th>\n",
       "      <th>Fare</th>\n",
       "      <th>HasCabin</th>\n",
       "      <th>FamilySize</th>\n",
       "    </tr>\n",
       "  </thead>\n",
       "  <tbody>\n",
       "    <tr>\n",
       "      <th>count</th>\n",
       "      <td>889.000000</td>\n",
       "      <td>889.000000</td>\n",
       "      <td>889.000000</td>\n",
       "      <td>889.000000</td>\n",
       "      <td>889.000000</td>\n",
       "      <td>889.000000</td>\n",
       "      <td>889.000000</td>\n",
       "      <td>889.000000</td>\n",
       "    </tr>\n",
       "    <tr>\n",
       "      <th>mean</th>\n",
       "      <td>0.382452</td>\n",
       "      <td>2.311586</td>\n",
       "      <td>30.107112</td>\n",
       "      <td>0.524184</td>\n",
       "      <td>0.382452</td>\n",
       "      <td>32.096681</td>\n",
       "      <td>0.227222</td>\n",
       "      <td>0.906637</td>\n",
       "    </tr>\n",
       "    <tr>\n",
       "      <th>std</th>\n",
       "      <td>0.486260</td>\n",
       "      <td>0.834700</td>\n",
       "      <td>13.376148</td>\n",
       "      <td>1.103705</td>\n",
       "      <td>0.806761</td>\n",
       "      <td>49.697504</td>\n",
       "      <td>0.419273</td>\n",
       "      <td>1.614703</td>\n",
       "    </tr>\n",
       "    <tr>\n",
       "      <th>min</th>\n",
       "      <td>0.000000</td>\n",
       "      <td>1.000000</td>\n",
       "      <td>0.420000</td>\n",
       "      <td>0.000000</td>\n",
       "      <td>0.000000</td>\n",
       "      <td>0.000000</td>\n",
       "      <td>0.000000</td>\n",
       "      <td>0.000000</td>\n",
       "    </tr>\n",
       "    <tr>\n",
       "      <th>25%</th>\n",
       "      <td>0.000000</td>\n",
       "      <td>2.000000</td>\n",
       "      <td>21.700000</td>\n",
       "      <td>0.000000</td>\n",
       "      <td>0.000000</td>\n",
       "      <td>7.895800</td>\n",
       "      <td>0.000000</td>\n",
       "      <td>0.000000</td>\n",
       "    </tr>\n",
       "    <tr>\n",
       "      <th>50%</th>\n",
       "      <td>0.000000</td>\n",
       "      <td>3.000000</td>\n",
       "      <td>29.200000</td>\n",
       "      <td>0.000000</td>\n",
       "      <td>0.000000</td>\n",
       "      <td>14.454200</td>\n",
       "      <td>0.000000</td>\n",
       "      <td>0.000000</td>\n",
       "    </tr>\n",
       "    <tr>\n",
       "      <th>75%</th>\n",
       "      <td>1.000000</td>\n",
       "      <td>3.000000</td>\n",
       "      <td>38.300000</td>\n",
       "      <td>1.000000</td>\n",
       "      <td>0.000000</td>\n",
       "      <td>31.000000</td>\n",
       "      <td>0.000000</td>\n",
       "      <td>1.000000</td>\n",
       "    </tr>\n",
       "    <tr>\n",
       "      <th>max</th>\n",
       "      <td>1.000000</td>\n",
       "      <td>3.000000</td>\n",
       "      <td>80.000000</td>\n",
       "      <td>8.000000</td>\n",
       "      <td>6.000000</td>\n",
       "      <td>512.329200</td>\n",
       "      <td>1.000000</td>\n",
       "      <td>10.000000</td>\n",
       "    </tr>\n",
       "  </tbody>\n",
       "</table>\n",
       "</div>"
      ],
      "text/plain": [
       "         Survived      Pclass         Age       SibSp       Parch        Fare  \\\n",
       "count  889.000000  889.000000  889.000000  889.000000  889.000000  889.000000   \n",
       "mean     0.382452    2.311586   30.107112    0.524184    0.382452   32.096681   \n",
       "std      0.486260    0.834700   13.376148    1.103705    0.806761   49.697504   \n",
       "min      0.000000    1.000000    0.420000    0.000000    0.000000    0.000000   \n",
       "25%      0.000000    2.000000   21.700000    0.000000    0.000000    7.895800   \n",
       "50%      0.000000    3.000000   29.200000    0.000000    0.000000   14.454200   \n",
       "75%      1.000000    3.000000   38.300000    1.000000    0.000000   31.000000   \n",
       "max      1.000000    3.000000   80.000000    8.000000    6.000000  512.329200   \n",
       "\n",
       "         HasCabin  FamilySize  \n",
       "count  889.000000  889.000000  \n",
       "mean     0.227222    0.906637  \n",
       "std      0.419273    1.614703  \n",
       "min      0.000000    0.000000  \n",
       "25%      0.000000    0.000000  \n",
       "50%      0.000000    0.000000  \n",
       "75%      0.000000    1.000000  \n",
       "max      1.000000   10.000000  "
      ]
     },
     "execution_count": 22,
     "metadata": {},
     "output_type": "execute_result"
    }
   ],
   "source": [
    "df.describe()"
   ]
  },
  {
   "cell_type": "code",
   "execution_count": 23,
   "id": "nasty-benefit",
   "metadata": {
    "execution": {
     "iopub.execute_input": "2022-02-25T19:30:10.383492Z",
     "iopub.status.busy": "2022-02-25T19:30:10.382853Z",
     "iopub.status.idle": "2022-02-25T19:30:10.407027Z",
     "shell.execute_reply": "2022-02-25T19:30:10.407589Z",
     "shell.execute_reply.started": "2022-02-25T19:19:30.232061Z"
    },
    "papermill": {
     "duration": 0.078192,
     "end_time": "2022-02-25T19:30:10.407774",
     "exception": false,
     "start_time": "2022-02-25T19:30:10.329582",
     "status": "completed"
    },
    "tags": []
   },
   "outputs": [
    {
     "data": {
      "text/html": [
       "<div>\n",
       "<style scoped>\n",
       "    .dataframe tbody tr th:only-of-type {\n",
       "        vertical-align: middle;\n",
       "    }\n",
       "\n",
       "    .dataframe tbody tr th {\n",
       "        vertical-align: top;\n",
       "    }\n",
       "\n",
       "    .dataframe thead th {\n",
       "        text-align: right;\n",
       "    }\n",
       "</style>\n",
       "<table border=\"1\" class=\"dataframe\">\n",
       "  <thead>\n",
       "    <tr style=\"text-align: right;\">\n",
       "      <th></th>\n",
       "      <th>PassengerId</th>\n",
       "      <th>Pclass</th>\n",
       "      <th>Age</th>\n",
       "      <th>SibSp</th>\n",
       "      <th>Parch</th>\n",
       "      <th>Fare</th>\n",
       "      <th>HasCabin</th>\n",
       "      <th>FamilySize</th>\n",
       "    </tr>\n",
       "  </thead>\n",
       "  <tbody>\n",
       "    <tr>\n",
       "      <th>count</th>\n",
       "      <td>418.000000</td>\n",
       "      <td>418.000000</td>\n",
       "      <td>418.000000</td>\n",
       "      <td>418.000000</td>\n",
       "      <td>418.000000</td>\n",
       "      <td>418.000000</td>\n",
       "      <td>418.000000</td>\n",
       "      <td>418.000000</td>\n",
       "    </tr>\n",
       "    <tr>\n",
       "      <th>mean</th>\n",
       "      <td>1100.500000</td>\n",
       "      <td>2.265550</td>\n",
       "      <td>29.308455</td>\n",
       "      <td>0.447368</td>\n",
       "      <td>0.392344</td>\n",
       "      <td>35.618742</td>\n",
       "      <td>0.217703</td>\n",
       "      <td>0.839713</td>\n",
       "    </tr>\n",
       "    <tr>\n",
       "      <th>std</th>\n",
       "      <td>120.810458</td>\n",
       "      <td>0.841838</td>\n",
       "      <td>13.203072</td>\n",
       "      <td>0.896760</td>\n",
       "      <td>0.981429</td>\n",
       "      <td>55.840767</td>\n",
       "      <td>0.413179</td>\n",
       "      <td>1.519072</td>\n",
       "    </tr>\n",
       "    <tr>\n",
       "      <th>min</th>\n",
       "      <td>892.000000</td>\n",
       "      <td>1.000000</td>\n",
       "      <td>0.830000</td>\n",
       "      <td>0.000000</td>\n",
       "      <td>0.000000</td>\n",
       "      <td>0.000000</td>\n",
       "      <td>0.000000</td>\n",
       "      <td>0.000000</td>\n",
       "    </tr>\n",
       "    <tr>\n",
       "      <th>25%</th>\n",
       "      <td>996.250000</td>\n",
       "      <td>1.000000</td>\n",
       "      <td>21.100000</td>\n",
       "      <td>0.000000</td>\n",
       "      <td>0.000000</td>\n",
       "      <td>7.895800</td>\n",
       "      <td>0.000000</td>\n",
       "      <td>0.000000</td>\n",
       "    </tr>\n",
       "    <tr>\n",
       "      <th>50%</th>\n",
       "      <td>1100.500000</td>\n",
       "      <td>3.000000</td>\n",
       "      <td>28.900000</td>\n",
       "      <td>0.000000</td>\n",
       "      <td>0.000000</td>\n",
       "      <td>14.454200</td>\n",
       "      <td>0.000000</td>\n",
       "      <td>0.000000</td>\n",
       "    </tr>\n",
       "    <tr>\n",
       "      <th>75%</th>\n",
       "      <td>1204.750000</td>\n",
       "      <td>3.000000</td>\n",
       "      <td>37.600000</td>\n",
       "      <td>1.000000</td>\n",
       "      <td>0.000000</td>\n",
       "      <td>31.500000</td>\n",
       "      <td>0.000000</td>\n",
       "      <td>1.000000</td>\n",
       "    </tr>\n",
       "    <tr>\n",
       "      <th>max</th>\n",
       "      <td>1309.000000</td>\n",
       "      <td>3.000000</td>\n",
       "      <td>71.000000</td>\n",
       "      <td>8.000000</td>\n",
       "      <td>9.000000</td>\n",
       "      <td>512.329200</td>\n",
       "      <td>1.000000</td>\n",
       "      <td>10.000000</td>\n",
       "    </tr>\n",
       "  </tbody>\n",
       "</table>\n",
       "</div>"
      ],
      "text/plain": [
       "       PassengerId      Pclass         Age       SibSp       Parch  \\\n",
       "count   418.000000  418.000000  418.000000  418.000000  418.000000   \n",
       "mean   1100.500000    2.265550   29.308455    0.447368    0.392344   \n",
       "std     120.810458    0.841838   13.203072    0.896760    0.981429   \n",
       "min     892.000000    1.000000    0.830000    0.000000    0.000000   \n",
       "25%     996.250000    1.000000   21.100000    0.000000    0.000000   \n",
       "50%    1100.500000    3.000000   28.900000    0.000000    0.000000   \n",
       "75%    1204.750000    3.000000   37.600000    1.000000    0.000000   \n",
       "max    1309.000000    3.000000   71.000000    8.000000    9.000000   \n",
       "\n",
       "             Fare    HasCabin  FamilySize  \n",
       "count  418.000000  418.000000  418.000000  \n",
       "mean    35.618742    0.217703    0.839713  \n",
       "std     55.840767    0.413179    1.519072  \n",
       "min      0.000000    0.000000    0.000000  \n",
       "25%      7.895800    0.000000    0.000000  \n",
       "50%     14.454200    0.000000    0.000000  \n",
       "75%     31.500000    0.000000    1.000000  \n",
       "max    512.329200    1.000000   10.000000  "
      ]
     },
     "execution_count": 23,
     "metadata": {},
     "output_type": "execute_result"
    }
   ],
   "source": [
    "df_test.describe()"
   ]
  },
  {
   "cell_type": "markdown",
   "id": "wired-eight",
   "metadata": {
    "papermill": {
     "duration": 0.074734,
     "end_time": "2022-02-25T19:30:10.557395",
     "exception": false,
     "start_time": "2022-02-25T19:30:10.482661",
     "status": "completed"
    },
    "tags": []
   },
   "source": [
    "## Graphs"
   ]
  },
  {
   "cell_type": "code",
   "execution_count": 24,
   "id": "liberal-fortune",
   "metadata": {
    "execution": {
     "iopub.execute_input": "2022-02-25T19:30:10.708299Z",
     "iopub.status.busy": "2022-02-25T19:30:10.707660Z",
     "iopub.status.idle": "2022-02-25T19:30:10.711746Z",
     "shell.execute_reply": "2022-02-25T19:30:10.712273Z",
     "shell.execute_reply.started": "2022-02-25T19:19:30.270899Z"
    },
    "papermill": {
     "duration": 0.080943,
     "end_time": "2022-02-25T19:30:10.712422",
     "exception": false,
     "start_time": "2022-02-25T19:30:10.631479",
     "status": "completed"
    },
    "tags": []
   },
   "outputs": [],
   "source": [
    "rcParams['figure.figsize'] = (10, 5)"
   ]
  },
  {
   "cell_type": "code",
   "execution_count": 25,
   "id": "legislative-confusion",
   "metadata": {
    "execution": {
     "iopub.execute_input": "2022-02-25T19:30:10.871702Z",
     "iopub.status.busy": "2022-02-25T19:30:10.871055Z",
     "iopub.status.idle": "2022-02-25T19:30:10.884324Z",
     "shell.execute_reply": "2022-02-25T19:30:10.884879Z",
     "shell.execute_reply.started": "2022-02-25T19:19:30.277176Z"
    },
    "papermill": {
     "duration": 0.095918,
     "end_time": "2022-02-25T19:30:10.885057",
     "exception": false,
     "start_time": "2022-02-25T19:30:10.789139",
     "status": "completed"
    },
    "tags": []
   },
   "outputs": [
    {
     "data": {
      "text/html": [
       "<div>\n",
       "<style scoped>\n",
       "    .dataframe tbody tr th:only-of-type {\n",
       "        vertical-align: middle;\n",
       "    }\n",
       "\n",
       "    .dataframe tbody tr th {\n",
       "        vertical-align: top;\n",
       "    }\n",
       "\n",
       "    .dataframe thead th {\n",
       "        text-align: right;\n",
       "    }\n",
       "</style>\n",
       "<table border=\"1\" class=\"dataframe\">\n",
       "  <thead>\n",
       "    <tr style=\"text-align: right;\">\n",
       "      <th></th>\n",
       "      <th>Survived</th>\n",
       "      <th>Pclass</th>\n",
       "      <th>Name</th>\n",
       "      <th>Sex</th>\n",
       "      <th>Age</th>\n",
       "      <th>SibSp</th>\n",
       "      <th>Parch</th>\n",
       "      <th>Ticket</th>\n",
       "      <th>Fare</th>\n",
       "      <th>Embarked</th>\n",
       "      <th>HasCabin</th>\n",
       "      <th>FamilySize</th>\n",
       "      <th>Title</th>\n",
       "    </tr>\n",
       "  </thead>\n",
       "  <tbody>\n",
       "    <tr>\n",
       "      <th>0</th>\n",
       "      <td>0</td>\n",
       "      <td>3</td>\n",
       "      <td>Braund, Mr. Owen Harris</td>\n",
       "      <td>male</td>\n",
       "      <td>22.0</td>\n",
       "      <td>1</td>\n",
       "      <td>0</td>\n",
       "      <td>A/5 21171</td>\n",
       "      <td>7.2500</td>\n",
       "      <td>S</td>\n",
       "      <td>0</td>\n",
       "      <td>1</td>\n",
       "      <td>Mr</td>\n",
       "    </tr>\n",
       "    <tr>\n",
       "      <th>1</th>\n",
       "      <td>1</td>\n",
       "      <td>1</td>\n",
       "      <td>Cumings, Mrs. John Bradley (Florence Briggs Th...</td>\n",
       "      <td>female</td>\n",
       "      <td>38.0</td>\n",
       "      <td>1</td>\n",
       "      <td>0</td>\n",
       "      <td>PC 17599</td>\n",
       "      <td>71.2833</td>\n",
       "      <td>C</td>\n",
       "      <td>1</td>\n",
       "      <td>1</td>\n",
       "      <td>Mrs</td>\n",
       "    </tr>\n",
       "    <tr>\n",
       "      <th>2</th>\n",
       "      <td>1</td>\n",
       "      <td>3</td>\n",
       "      <td>Heikkinen, Miss. Laina</td>\n",
       "      <td>female</td>\n",
       "      <td>26.0</td>\n",
       "      <td>0</td>\n",
       "      <td>0</td>\n",
       "      <td>STON/O2. 3101282</td>\n",
       "      <td>7.9250</td>\n",
       "      <td>S</td>\n",
       "      <td>0</td>\n",
       "      <td>0</td>\n",
       "      <td>Miss</td>\n",
       "    </tr>\n",
       "    <tr>\n",
       "      <th>3</th>\n",
       "      <td>1</td>\n",
       "      <td>1</td>\n",
       "      <td>Futrelle, Mrs. Jacques Heath (Lily May Peel)</td>\n",
       "      <td>female</td>\n",
       "      <td>35.0</td>\n",
       "      <td>1</td>\n",
       "      <td>0</td>\n",
       "      <td>113803</td>\n",
       "      <td>53.1000</td>\n",
       "      <td>S</td>\n",
       "      <td>1</td>\n",
       "      <td>1</td>\n",
       "      <td>Mrs</td>\n",
       "    </tr>\n",
       "    <tr>\n",
       "      <th>4</th>\n",
       "      <td>0</td>\n",
       "      <td>3</td>\n",
       "      <td>Allen, Mr. William Henry</td>\n",
       "      <td>male</td>\n",
       "      <td>35.0</td>\n",
       "      <td>0</td>\n",
       "      <td>0</td>\n",
       "      <td>373450</td>\n",
       "      <td>8.0500</td>\n",
       "      <td>S</td>\n",
       "      <td>0</td>\n",
       "      <td>0</td>\n",
       "      <td>Mr</td>\n",
       "    </tr>\n",
       "  </tbody>\n",
       "</table>\n",
       "</div>"
      ],
      "text/plain": [
       "   Survived  Pclass                                               Name  \\\n",
       "0         0       3                            Braund, Mr. Owen Harris   \n",
       "1         1       1  Cumings, Mrs. John Bradley (Florence Briggs Th...   \n",
       "2         1       3                             Heikkinen, Miss. Laina   \n",
       "3         1       1       Futrelle, Mrs. Jacques Heath (Lily May Peel)   \n",
       "4         0       3                           Allen, Mr. William Henry   \n",
       "\n",
       "      Sex   Age  SibSp  Parch            Ticket     Fare Embarked  HasCabin  \\\n",
       "0    male  22.0      1      0         A/5 21171   7.2500        S         0   \n",
       "1  female  38.0      1      0          PC 17599  71.2833        C         1   \n",
       "2  female  26.0      0      0  STON/O2. 3101282   7.9250        S         0   \n",
       "3  female  35.0      1      0            113803  53.1000        S         1   \n",
       "4    male  35.0      0      0            373450   8.0500        S         0   \n",
       "\n",
       "   FamilySize Title  \n",
       "0           1    Mr  \n",
       "1           1   Mrs  \n",
       "2           0  Miss  \n",
       "3           1   Mrs  \n",
       "4           0    Mr  "
      ]
     },
     "execution_count": 25,
     "metadata": {},
     "output_type": "execute_result"
    }
   ],
   "source": [
    "df.head()"
   ]
  },
  {
   "cell_type": "markdown",
   "id": "micro-rebecca",
   "metadata": {
    "papermill": {
     "duration": 0.079613,
     "end_time": "2022-02-25T19:30:11.043979",
     "exception": false,
     "start_time": "2022-02-25T19:30:10.964366",
     "status": "completed"
    },
    "tags": []
   },
   "source": []
  },
  {
   "cell_type": "code",
   "execution_count": 26,
   "id": "possible-samuel",
   "metadata": {
    "execution": {
     "iopub.execute_input": "2022-02-25T19:30:11.204945Z",
     "iopub.status.busy": "2022-02-25T19:30:11.204334Z",
     "iopub.status.idle": "2022-02-25T19:30:11.319954Z",
     "shell.execute_reply": "2022-02-25T19:30:11.319328Z",
     "shell.execute_reply.started": "2022-02-25T19:19:30.303416Z"
    },
    "papermill": {
     "duration": 0.196252,
     "end_time": "2022-02-25T19:30:11.320123",
     "exception": false,
     "start_time": "2022-02-25T19:30:11.123871",
     "status": "completed"
    },
    "tags": []
   },
   "outputs": [
    {
     "data": {
      "image/png": "[encoded data removed]",
      "text/plain": [
       "<Figure size 720x360 with 1 Axes>"
      ]
     },
     "metadata": {},
     "output_type": "display_data"
    }
   ],
   "source": [
    "survival_numbers = df['Survived'].value_counts()\n",
    "plt.pie(survival_numbers.values, labels=survival_numbers.index, autopct='%1.1f%%', colors=[\"orange\", \"green\"])\n",
    "plt.title(\"Survival distribution\")\n",
    "plt.show()"
   ]
  },
  {
   "cell_type": "code",
   "execution_count": 27,
   "id": "british-newcastle",
   "metadata": {
    "execution": {
     "iopub.execute_input": "2022-02-25T19:30:11.500718Z",
     "iopub.status.busy": "2022-02-25T19:30:11.497843Z",
     "iopub.status.idle": "2022-02-25T19:30:11.552945Z",
     "shell.execute_reply": "2022-02-25T19:30:11.552260Z",
     "shell.execute_reply.started": "2022-02-25T19:19:30.417348Z"
    },
    "papermill": {
     "duration": 0.154648,
     "end_time": "2022-02-25T19:30:11.553080",
     "exception": false,
     "start_time": "2022-02-25T19:30:11.398432",
     "status": "completed"
    },
    "tags": []
   },
   "outputs": [
    {
     "data": {
      "image/png": "[encoded data removed]",
      "text/plain": [
       "<Figure size 720x360 with 1 Axes>"
      ]
     },
     "metadata": {},
     "output_type": "display_data"
    }
   ],
   "source": [
    "sex_numbers = df['Sex'].value_counts()\n",
    "plt.pie(sex_numbers.values, labels=sex_numbers.index, autopct='%1.1f%%', colors=[\"red\", \"yellow\"])\n",
    "plt.title(\"Gender distribution\")\n",
    "plt.show()"
   ]
  },
  {
   "cell_type": "code",
   "execution_count": 28,
   "id": "earned-premium",
   "metadata": {
    "execution": {
     "iopub.execute_input": "2022-02-25T19:30:11.740986Z",
     "iopub.status.busy": "2022-02-25T19:30:11.720599Z",
     "iopub.status.idle": "2022-02-25T19:30:11.795584Z",
     "shell.execute_reply": "2022-02-25T19:30:11.794875Z",
     "shell.execute_reply.started": "2022-02-25T19:19:30.499038Z"
    },
    "papermill": {
     "duration": 0.163102,
     "end_time": "2022-02-25T19:30:11.795736",
     "exception": false,
     "start_time": "2022-02-25T19:30:11.632634",
     "status": "completed"
    },
    "tags": []
   },
   "outputs": [
    {
     "data": {
      "image/png": "[encoded data removed]",
      "text/plain": [
       "<Figure size 720x360 with 1 Axes>"
      ]
     },
     "metadata": {},
     "output_type": "display_data"
    }
   ],
   "source": [
    "pclass_numbers = df['Pclass'].value_counts()\n",
    "plt.pie(pclass_numbers.values, labels=pclass_numbers.index, autopct='%1.1f%%')\n",
    "plt.title(\"Class distribution\")\n",
    "plt.show()"
   ]
  },
  {
   "cell_type": "code",
   "execution_count": 29,
   "id": "incomplete-laser",
   "metadata": {
    "execution": {
     "iopub.execute_input": "2022-02-25T19:30:11.969385Z",
     "iopub.status.busy": "2022-02-25T19:30:11.966315Z",
     "iopub.status.idle": "2022-02-25T19:30:12.093322Z",
     "shell.execute_reply": "2022-02-25T19:30:12.093917Z",
     "shell.execute_reply.started": "2022-02-25T19:19:30.587817Z"
    },
    "papermill": {
     "duration": 0.216147,
     "end_time": "2022-02-25T19:30:12.094075",
     "exception": false,
     "start_time": "2022-02-25T19:30:11.877928",
     "status": "completed"
    },
    "tags": []
   },
   "outputs": [
    {
     "data": {
      "image/png": "[encoded data removed]",
      "text/plain": [
       "<Figure size 720x360 with 1 Axes>"
      ]
     },
     "metadata": {
      "needs_background": "light"
     },
     "output_type": "display_data"
    }
   ],
   "source": [
    "sns.countplot(x=\"FamilySize\", data=df);"
   ]
  },
  {
   "cell_type": "code",
   "execution_count": 30,
   "id": "residential-keeping",
   "metadata": {
    "execution": {
     "iopub.execute_input": "2022-02-25T19:30:12.253731Z",
     "iopub.status.busy": "2022-02-25T19:30:12.253154Z",
     "iopub.status.idle": "2022-02-25T19:30:12.362074Z",
     "shell.execute_reply": "2022-02-25T19:30:12.362591Z",
     "shell.execute_reply.started": "2022-02-25T19:19:30.73741Z"
    },
    "papermill": {
     "duration": 0.190395,
     "end_time": "2022-02-25T19:30:12.362778",
     "exception": false,
     "start_time": "2022-02-25T19:30:12.172383",
     "status": "completed"
    },
    "tags": []
   },
   "outputs": [
    {
     "data": {
      "image/png": "[encoded data removed]",
      "text/plain": [
       "<Figure size 720x360 with 1 Axes>"
      ]
     },
     "metadata": {
      "needs_background": "light"
     },
     "output_type": "display_data"
    }
   ],
   "source": [
    "sns.countplot(x=\"Title\", data=df);"
   ]
  },
  {
   "cell_type": "code",
   "execution_count": 31,
   "id": "imperial-determination",
   "metadata": {
    "execution": {
     "iopub.execute_input": "2022-02-25T19:30:12.487634Z",
     "iopub.status.busy": "2022-02-25T19:30:12.487118Z",
     "iopub.status.idle": "2022-02-25T19:30:12.607765Z",
     "shell.execute_reply": "2022-02-25T19:30:12.608229Z",
     "shell.execute_reply.started": "2022-02-25T19:19:30.86533Z"
    },
    "papermill": {
     "duration": 0.180248,
     "end_time": "2022-02-25T19:30:12.608372",
     "exception": false,
     "start_time": "2022-02-25T19:30:12.428124",
     "status": "completed"
    },
    "tags": []
   },
   "outputs": [
    {
     "data": {
      "image/png": "[encoded data removed]",
      "text/plain": [
       "<Figure size 720x360 with 1 Axes>"
      ]
     },
     "metadata": {
      "needs_background": "light"
     },
     "output_type": "display_data"
    }
   ],
   "source": [
    "sns.countplot(x=\"Embarked\", data=df);"
   ]
  },
  {
   "cell_type": "code",
   "execution_count": 32,
   "id": "backed-stanley",
   "metadata": {
    "execution": {
     "iopub.execute_input": "2022-02-25T19:30:12.721787Z",
     "iopub.status.busy": "2022-02-25T19:30:12.721101Z",
     "iopub.status.idle": "2022-02-25T19:30:13.305323Z",
     "shell.execute_reply": "2022-02-25T19:30:13.304878Z",
     "shell.execute_reply.started": "2022-02-25T19:19:30.99002Z"
    },
    "papermill": {
     "duration": 0.64227,
     "end_time": "2022-02-25T19:30:13.305443",
     "exception": false,
     "start_time": "2022-02-25T19:30:12.663173",
     "status": "completed"
    },
    "tags": []
   },
   "outputs": [
    {
     "data": {
      "image/png": "[encoded data removed]",
      "text/plain": [
       "<Figure size 360x360 with 1 Axes>"
      ]
     },
     "metadata": {
      "needs_background": "light"
     },
     "output_type": "display_data"
    },
    {
     "data": {
      "image/png": "[encoded data removed]",
      "text/plain": [
       "<Figure size 720x360 with 1 Axes>"
      ]
     },
     "metadata": {
      "needs_background": "light"
     },
     "output_type": "display_data"
    }
   ],
   "source": [
    "sns.displot(df['Age']);\n",
    "fig = plt.figure()\n",
    "res = stats.probplot(df['Age'], plot=plt)"
   ]
  },
  {
   "cell_type": "code",
   "execution_count": 33,
   "id": "certain-setup",
   "metadata": {
    "execution": {
     "iopub.execute_input": "2022-02-25T19:30:13.420453Z",
     "iopub.status.busy": "2022-02-25T19:30:13.419901Z",
     "iopub.status.idle": "2022-02-25T19:30:13.424911Z",
     "shell.execute_reply": "2022-02-25T19:30:13.425383Z",
     "shell.execute_reply.started": "2022-02-25T19:19:31.525837Z"
    },
    "papermill": {
     "duration": 0.064538,
     "end_time": "2022-02-25T19:30:13.425529",
     "exception": false,
     "start_time": "2022-02-25T19:30:13.360991",
     "status": "completed"
    },
    "tags": []
   },
   "outputs": [
    {
     "name": "stdout",
     "output_type": "stream",
     "text": [
      "Skewness: 0.328628\n",
      "Kurtosis: 0.505784\n"
     ]
    }
   ],
   "source": [
    "print(\"Skewness: %f\" % df['Age'].skew())\n",
    "print(\"Kurtosis: %f\" % df['Age'].kurt())"
   ]
  },
  {
   "cell_type": "code",
   "execution_count": 34,
   "id": "varying-moment",
   "metadata": {
    "execution": {
     "iopub.execute_input": "2022-02-25T19:30:13.538775Z",
     "iopub.status.busy": "2022-02-25T19:30:13.538279Z",
     "iopub.status.idle": "2022-02-25T19:30:14.136852Z",
     "shell.execute_reply": "2022-02-25T19:30:14.137312Z",
     "shell.execute_reply.started": "2022-02-25T19:19:31.533541Z"
    },
    "papermill": {
     "duration": 0.656265,
     "end_time": "2022-02-25T19:30:14.137461",
     "exception": false,
     "start_time": "2022-02-25T19:30:13.481196",
     "status": "completed"
    },
    "tags": []
   },
   "outputs": [
    {
     "data": {
      "image/png": "[encoded data removed]",
      "text/plain": [
       "<Figure size 360x360 with 1 Axes>"
      ]
     },
     "metadata": {
      "needs_background": "light"
     },
     "output_type": "display_data"
    },
    {
     "data": {
      "image/png": "[encoded data removed]",
      "text/plain": [
       "<Figure size 720x360 with 1 Axes>"
      ]
     },
     "metadata": {
      "needs_background": "light"
     },
     "output_type": "display_data"
    }
   ],
   "source": [
    "sns.displot(df['Fare']);\n",
    "fig = plt.figure()\n",
    "res = stats.probplot(df['Fare'], plot=plt)"
   ]
  },
  {
   "cell_type": "code",
   "execution_count": 35,
   "id": "numerical-friend",
   "metadata": {
    "execution": {
     "iopub.execute_input": "2022-02-25T19:30:14.255491Z",
     "iopub.status.busy": "2022-02-25T19:30:14.255041Z",
     "iopub.status.idle": "2022-02-25T19:30:14.260567Z",
     "shell.execute_reply": "2022-02-25T19:30:14.261064Z",
     "shell.execute_reply.started": "2022-02-25T19:19:32.099547Z"
    },
    "papermill": {
     "duration": 0.065577,
     "end_time": "2022-02-25T19:30:14.261197",
     "exception": false,
     "start_time": "2022-02-25T19:30:14.195620",
     "status": "completed"
    },
    "tags": []
   },
   "outputs": [
    {
     "name": "stdout",
     "output_type": "stream",
     "text": [
      "Skewness: 4.801440\n",
      "Kurtosis: 33.508477\n"
     ]
    }
   ],
   "source": [
    "print(\"Skewness: %f\" % df['Fare'].skew())\n",
    "print(\"Kurtosis: %f\" % df['Fare'].kurt())"
   ]
  },
  {
   "cell_type": "code",
   "execution_count": 36,
   "id": "arabic-senator",
   "metadata": {
    "execution": {
     "iopub.execute_input": "2022-02-25T19:30:14.397742Z",
     "iopub.status.busy": "2022-02-25T19:30:14.397217Z",
     "iopub.status.idle": "2022-02-25T19:30:14.549878Z",
     "shell.execute_reply": "2022-02-25T19:30:14.549382Z",
     "shell.execute_reply.started": "2022-02-25T19:19:32.107892Z"
    },
    "papermill": {
     "duration": 0.231925,
     "end_time": "2022-02-25T19:30:14.550000",
     "exception": false,
     "start_time": "2022-02-25T19:30:14.318075",
     "status": "completed"
    },
    "tags": []
   },
   "outputs": [
    {
     "data": {
      "image/png": "[encoded data removed]",
      "text/plain": [
       "<Figure size 720x360 with 1 Axes>"
      ]
     },
     "metadata": {
      "needs_background": "light"
     },
     "output_type": "display_data"
    }
   ],
   "source": [
    "plt.title(\"describe - Fare\")\n",
    "sns.scatterplot(x=\"Age\", y=\"Fare\", data=df);"
   ]
  },
  {
   "cell_type": "code",
   "execution_count": 37,
   "id": "educated-dayton",
   "metadata": {
    "execution": {
     "iopub.execute_input": "2022-02-25T19:30:14.668800Z",
     "iopub.status.busy": "2022-02-25T19:30:14.668301Z",
     "iopub.status.idle": "2022-02-25T19:30:14.825554Z",
     "shell.execute_reply": "2022-02-25T19:30:14.824835Z",
     "shell.execute_reply.started": "2022-02-25T19:19:32.276465Z"
    },
    "papermill": {
     "duration": 0.217793,
     "end_time": "2022-02-25T19:30:14.825707",
     "exception": false,
     "start_time": "2022-02-25T19:30:14.607914",
     "status": "completed"
    },
    "tags": []
   },
   "outputs": [
    {
     "data": {
      "image/png": "[encoded data removed]",
      "text/plain": [
       "<Figure size 720x360 with 1 Axes>"
      ]
     },
     "metadata": {
      "needs_background": "light"
     },
     "output_type": "display_data"
    }
   ],
   "source": [
    "plt.title(\"Fare - Class\")\n",
    "sns.boxplot(x=\"Pclass\", y=\"Fare\", data=df);"
   ]
  },
  {
   "cell_type": "code",
   "execution_count": 38,
   "id": "specialized-courtesy",
   "metadata": {
    "execution": {
     "iopub.execute_input": "2022-02-25T19:30:14.945782Z",
     "iopub.status.busy": "2022-02-25T19:30:14.945273Z",
     "iopub.status.idle": "2022-02-25T19:30:15.866033Z",
     "shell.execute_reply": "2022-02-25T19:30:15.865477Z",
     "shell.execute_reply.started": "2022-02-25T19:19:32.424737Z"
    },
    "papermill": {
     "duration": 0.982636,
     "end_time": "2022-02-25T19:30:15.866147",
     "exception": false,
     "start_time": "2022-02-25T19:30:14.883511",
     "status": "completed"
    },
    "tags": []
   },
   "outputs": [
    {
     "data": {
      "image/png": "[encoded data removed]",
      "text/plain": [
       "<Figure size 720x360 with 2 Axes>"
      ]
     },
     "metadata": {
      "needs_background": "light"
     },
     "output_type": "display_data"
    }
   ],
   "source": [
    "sns.heatmap(df.apply(lambda x: x.factorize()[0]).corr(), annot=True);"
   ]
  },
  {
   "cell_type": "markdown",
   "id": "whole-cooperation",
   "metadata": {
    "papermill": {
     "duration": 0.061901,
     "end_time": "2022-02-25T19:30:15.990063",
     "exception": false,
     "start_time": "2022-02-25T19:30:15.928162",
     "status": "completed"
    },
    "tags": []
   },
   "source": [
    "## Encoding data"
   ]
  },
  {
   "cell_type": "code",
   "execution_count": 39,
   "id": "legal-shell",
   "metadata": {
    "execution": {
     "iopub.execute_input": "2022-02-25T19:30:16.123435Z",
     "iopub.status.busy": "2022-02-25T19:30:16.122950Z",
     "iopub.status.idle": "2022-02-25T19:30:16.126447Z",
     "shell.execute_reply": "2022-02-25T19:30:16.126954Z",
     "shell.execute_reply.started": "2022-02-25T19:19:33.369026Z"
    },
    "papermill": {
     "duration": 0.074211,
     "end_time": "2022-02-25T19:30:16.127108",
     "exception": false,
     "start_time": "2022-02-25T19:30:16.052897",
     "status": "completed"
    },
    "tags": []
   },
   "outputs": [],
   "source": [
    "df_encoded = df.copy()\n",
    "df_test_encoded = df_test.copy()\n",
    "df_encoded['Sex'] = (df_encoded['Sex'] == 'female').astype(np.uint8)\n",
    "df_test_encoded['Sex'] = (df_test_encoded['Sex'] == 'female').astype(np.uint8)"
   ]
  },
  {
   "cell_type": "code",
   "execution_count": 40,
   "id": "smoking-screening",
   "metadata": {
    "execution": {
     "iopub.execute_input": "2022-02-25T19:30:16.255504Z",
     "iopub.status.busy": "2022-02-25T19:30:16.254969Z",
     "iopub.status.idle": "2022-02-25T19:30:16.266453Z",
     "shell.execute_reply": "2022-02-25T19:30:16.266856Z",
     "shell.execute_reply.started": "2022-02-25T19:19:33.377842Z"
    },
    "papermill": {
     "duration": 0.079389,
     "end_time": "2022-02-25T19:30:16.267017",
     "exception": false,
     "start_time": "2022-02-25T19:30:16.187628",
     "status": "completed"
    },
    "tags": []
   },
   "outputs": [],
   "source": [
    "df_encoded = pd.get_dummies(df_encoded, columns=['Embarked'], prefix='Embarked', drop_first=True)\n",
    "df_test_encoded = pd.get_dummies(df_test_encoded, columns=['Embarked'], prefix='Embarked', drop_first=True)"
   ]
  },
  {
   "cell_type": "code",
   "execution_count": 41,
   "id": "opponent-comfort",
   "metadata": {
    "execution": {
     "iopub.execute_input": "2022-02-25T19:30:16.393803Z",
     "iopub.status.busy": "2022-02-25T19:30:16.393313Z",
     "iopub.status.idle": "2022-02-25T19:30:16.408903Z",
     "shell.execute_reply": "2022-02-25T19:30:16.409288Z",
     "shell.execute_reply.started": "2022-02-25T19:19:33.401249Z"
    },
    "papermill": {
     "duration": 0.080089,
     "end_time": "2022-02-25T19:30:16.409452",
     "exception": false,
     "start_time": "2022-02-25T19:30:16.329363",
     "status": "completed"
    },
    "tags": []
   },
   "outputs": [],
   "source": [
    "df_encoded = pd.get_dummies(df_encoded, columns=['Pclass'], prefix='Pclass', drop_first=True)\n",
    "df_test_encoded = pd.get_dummies(df_test_encoded, columns=['Pclass'], prefix='Pclass', drop_first=True)"
   ]
  },
  {
   "cell_type": "code",
   "execution_count": 42,
   "id": "first-expert",
   "metadata": {
    "execution": {
     "iopub.execute_input": "2022-02-25T19:30:16.539423Z",
     "iopub.status.busy": "2022-02-25T19:30:16.538911Z",
     "iopub.status.idle": "2022-02-25T19:30:16.555885Z",
     "shell.execute_reply": "2022-02-25T19:30:16.556288Z",
     "shell.execute_reply.started": "2022-02-25T19:19:33.422365Z"
    },
    "papermill": {
     "duration": 0.085989,
     "end_time": "2022-02-25T19:30:16.556430",
     "exception": false,
     "start_time": "2022-02-25T19:30:16.470441",
     "status": "completed"
    },
    "tags": []
   },
   "outputs": [],
   "source": [
    "df_encoded = pd.get_dummies(df_encoded, columns=['Title'], prefix='Title', drop_first=True)\n",
    "df_test_encoded = pd.get_dummies(df_test_encoded, columns=['Title'], prefix='Title', drop_first=True)"
   ]
  },
  {
   "cell_type": "code",
   "execution_count": 43,
   "id": "shared-selling",
   "metadata": {
    "execution": {
     "iopub.execute_input": "2022-02-25T19:30:16.678593Z",
     "iopub.status.busy": "2022-02-25T19:30:16.678155Z",
     "iopub.status.idle": "2022-02-25T19:30:16.686667Z",
     "shell.execute_reply": "2022-02-25T19:30:16.687100Z",
     "shell.execute_reply.started": "2022-02-25T19:19:33.441272Z"
    },
    "papermill": {
     "duration": 0.070386,
     "end_time": "2022-02-25T19:30:16.687252",
     "exception": false,
     "start_time": "2022-02-25T19:30:16.616866",
     "status": "completed"
    },
    "tags": []
   },
   "outputs": [
    {
     "data": {
      "text/plain": [
       "array(['A/5 21171', 'PC 17599', 'STON/O2. 3101282', '113803', '373450',\n",
       "       '330877', '17463', '349909', '347742', '237736', 'PP 9549',\n",
       "       '113783', 'A/5. 2151', '347082', '350406', '248706', '382652',\n",
       "       '244373', '345763', '2649', '239865', '248698', '330923', '113788',\n",
       "       '347077', '2631', '19950', '330959', '349216', 'PC 17601',\n",
       "       'PC 17569', '335677', 'C.A. 24579', 'PC 17604', '113789', '2677',\n",
       "       'A./5. 2152', '345764', '2651', '7546', '11668', '349253',\n",
       "       'SC/Paris 2123', '330958', 'S.C./A.4. 23567', '370371', '14311',\n",
       "       '2662', '349237', '3101295', 'A/4. 39886', 'PC 17572', '2926',\n",
       "       '113509', '19947', 'C.A. 31026', '2697', 'C.A. 34651', 'CA 2144',\n",
       "       '2669', '36973', '347088', 'PC 17605', '2661', 'C.A. 29395',\n",
       "       'S.P. 3464', '3101281', '315151', 'C.A. 33111', 'S.O.C. 14879',\n",
       "       '2680', '1601', '348123', '349208', '374746', '248738', '364516',\n",
       "       '345767', '345779', '330932', '113059', 'SO/C 14885', '3101278',\n",
       "       'W./C. 6608', 'SOTON/OQ 392086', '343275', '343276', '347466',\n",
       "       'W.E.P. 5734', 'C.A. 2315', '364500', '374910', 'PC 17754',\n",
       "       'PC 17759', '231919', '244367', '349245', '349215', '35281',\n",
       "       '7540', '3101276', '349207', '343120', '312991', '349249',\n",
       "       '371110', '110465', '2665', '324669', '4136', '2627',\n",
       "       'STON/O 2. 3101294', '370369', 'PC 17558', 'A4. 54510', '27267',\n",
       "       '370372', 'C 17369', '2668', '347061', '349241',\n",
       "       'SOTON/O.Q. 3101307', 'A/5. 3337', '228414', 'C.A. 29178',\n",
       "       'SC/PARIS 2133', '11752', '7534', 'PC 17593', '2678', '347081',\n",
       "       'STON/O2. 3101279', '365222', '231945', 'C.A. 33112', '350043',\n",
       "       '230080', '244310', 'S.O.P. 1166', '113776', 'A.5. 11206',\n",
       "       'A/5. 851', 'Fa 265302', 'PC 17597', '35851', 'SOTON/OQ 392090',\n",
       "       '315037', 'CA. 2343', '371362', 'C.A. 33595', '347068', '315093',\n",
       "       '363291', '113505', 'PC 17318', '111240', 'STON/O 2. 3101280',\n",
       "       '17764', '350404', '4133', 'PC 17595', '250653', 'LINE',\n",
       "       'SC/PARIS 2131', '230136', '315153', '113767', '370365', '111428',\n",
       "       '364849', '349247', '234604', '28424', '350046', 'PC 17610',\n",
       "       '368703', '4579', '370370', '248747', '345770', '3101264', '2628',\n",
       "       'A/5 3540', '347054', '2699', '367231', '112277',\n",
       "       'SOTON/O.Q. 3101311', 'F.C.C. 13528', 'A/5 21174', '250646',\n",
       "       '367229', '35273', 'STON/O2. 3101283', '243847', '11813',\n",
       "       'W/C 14208', 'SOTON/OQ 392089', '220367', '21440', '349234',\n",
       "       '19943', 'PP 4348', 'SW/PP 751', 'A/5 21173', '236171', '347067',\n",
       "       '237442', 'C.A. 29566', 'W./C. 6609', '26707', 'C.A. 31921',\n",
       "       '28665', 'SCO/W 1585', '367230', 'W./C. 14263',\n",
       "       'STON/O 2. 3101275', '2694', '19928', '347071', '250649', '11751',\n",
       "       '244252', '362316', '113514', 'A/5. 3336', '370129', '2650',\n",
       "       'PC 17585', '110152', 'PC 17755', '230433', '384461', '110413',\n",
       "       '112059', '382649', 'C.A. 17248', '347083', 'PC 17582', 'PC 17760',\n",
       "       '113798', '250644', 'PC 17596', '370375', '13502', '347073',\n",
       "       '239853', 'C.A. 2673', '336439', '347464', '345778', 'A/5. 10482',\n",
       "       '113056', '349239', '345774', '349206', '237798', '370373',\n",
       "       '19877', '11967', 'SC/Paris 2163', '349236', '349233', 'PC 17612',\n",
       "       '2693', '113781', '19988', '9234', '367226', '226593', 'A/5 2466',\n",
       "       '17421', 'PC 17758', 'P/PP 3381', 'PC 17485', '11767', 'PC 17608',\n",
       "       '250651', '349243', 'F.C.C. 13529', '347470', '29011', '36928',\n",
       "       '16966', 'A/5 21172', '349219', '234818', '345364', '28551',\n",
       "       '111361', '113043', 'PC 17611', '349225', '7598', '113784',\n",
       "       '248740', '244361', '229236', '248733', '31418', '386525',\n",
       "       'C.A. 37671', '315088', '7267', '113510', '2695', '2647', '345783',\n",
       "       '237671', '330931', '330980', 'SC/PARIS 2167', '2691',\n",
       "       'SOTON/O.Q. 3101310', 'C 7076', '110813', '2626', '14313',\n",
       "       'PC 17477', '11765', '3101267', '323951', 'C 7077', '113503',\n",
       "       '2648', '347069', 'PC 17757', '2653', 'STON/O 2. 3101293',\n",
       "       '349227', '27849', '367655', 'SC 1748', '113760', '350034',\n",
       "       '3101277', '350052', '350407', '28403', '244278', '240929',\n",
       "       'STON/O 2. 3101289', '341826', '4137', '315096', '28664', '347064',\n",
       "       '29106', '312992', '349222', '394140', 'STON/O 2. 3101269',\n",
       "       '343095', '28220', '250652', '28228', '345773', '349254',\n",
       "       'A/5. 13032', '315082', '347080', 'A/4. 34244', '2003', '250655',\n",
       "       '364851', 'SOTON/O.Q. 392078', '110564', '376564', 'SC/AH 3085',\n",
       "       'STON/O 2. 3101274', '13507', 'C.A. 18723', '345769', '347076',\n",
       "       '230434', '65306', '33638', '113794', '2666', '113786', '65303',\n",
       "       '113051', '17453', 'A/5 2817', '349240', '13509', '17464',\n",
       "       'F.C.C. 13531', '371060', '19952', '364506', '111320', '234360',\n",
       "       'A/S 2816', 'SOTON/O.Q. 3101306', '113792', '36209', '323592',\n",
       "       '315089', 'SC/AH Basle 541', '7553', '31027', '3460', '350060',\n",
       "       '3101298', '239854', 'A/5 3594', '4134', '11771', 'A.5. 18509',\n",
       "       '65304', 'SOTON/OQ 3101317', '113787', 'PC 17609', 'A/4 45380',\n",
       "       '36947', 'C.A. 6212', '350035', '315086', '364846', '330909',\n",
       "       '4135', '26360', '111427', 'C 4001', '382651', 'SOTON/OQ 3101316',\n",
       "       'PC 17473', 'PC 17603', '349209', '36967', 'C.A. 34260', '226875',\n",
       "       '349242', '12749', '349252', '2624', '2700', '367232',\n",
       "       'W./C. 14258', 'PC 17483', '3101296', '29104', '2641', '2690',\n",
       "       '315084', '113050', 'PC 17761', '364498', '13568', 'WE/P 5735',\n",
       "       '2908', '693', 'SC/PARIS 2146', '244358', '330979', '2620',\n",
       "       '347085', '113807', '11755', '345572', '372622', '349251',\n",
       "       '218629', 'SOTON/OQ 392082', 'SOTON/O.Q. 392087', 'A/4 48871',\n",
       "       '349205', '2686', '350417', 'S.W./PP 752', '11769', 'PC 17474',\n",
       "       '14312', 'A/4. 20589', '358585', '243880', '2689',\n",
       "       'STON/O 2. 3101286', '237789', '13049', '3411', '237565', '13567',\n",
       "       '14973', 'A./5. 3235', 'STON/O 2. 3101273', 'A/5 3902', '364848',\n",
       "       'SC/AH 29037', '248727', '2664', '349214', '113796', '364511',\n",
       "       '111426', '349910', '349246', '113804', 'SOTON/O.Q. 3101305',\n",
       "       '370377', '364512', '220845', '31028', '2659', '11753', '350029',\n",
       "       '54636', '36963', '219533', '349224', '334912', '27042', '347743',\n",
       "       '13214', '112052', '237668', 'STON/O 2. 3101292', '350050',\n",
       "       '349231', '13213', 'S.O./P.P. 751', 'CA. 2314', '349221', '8475',\n",
       "       '330919', '365226', '349223', '29751', '2623', '5727', '349210',\n",
       "       'STON/O 2. 3101285', '234686', '312993', 'A/5 3536', '19996',\n",
       "       '29750', 'F.C. 12750', 'C.A. 24580', '244270', '239856', '349912',\n",
       "       '342826', '4138', '330935', '6563', '349228', '350036', '24160',\n",
       "       '17474', '349256', '2672', '113800', '248731', '363592', '35852',\n",
       "       '348121', 'PC 17475', '36864', '350025', '223596', 'PC 17476',\n",
       "       'PC 17482', '113028', '7545', '250647', '348124', '34218', '36568',\n",
       "       '347062', '350048', '12233', '250643', '113806', '315094', '36866',\n",
       "       '236853', 'STON/O2. 3101271', '239855', '28425', '233639',\n",
       "       '349201', '349218', '16988', '376566', 'STON/O 2. 3101288',\n",
       "       '250648', '113773', '335097', '29103', '392096', '345780',\n",
       "       '349204', '350042', '29108', '363294', 'SOTON/O2 3101272', '2663',\n",
       "       '347074', '112379', '364850', '8471', '345781', '350047',\n",
       "       'S.O./P.P. 3', '2674', '29105', '347078', '383121', '36865',\n",
       "       '2687', '113501', 'W./C. 6607', 'SOTON/O.Q. 3101312', '374887',\n",
       "       '3101265', '12460', 'PC 17600', '349203', '28213', '17465',\n",
       "       '349244', '2685', '2625', '347089', '347063', '112050', '347087',\n",
       "       '248723', '3474', '28206', '364499', '112058', 'STON/O2. 3101290',\n",
       "       'S.C./PARIS 2079', 'C 7075', '315098', '19972', '368323', '367228',\n",
       "       '2671', '347468', '2223', 'PC 17756', '315097', '392092', '11774',\n",
       "       'SOTON/O2 3101287', '2683', '315090', 'C.A. 5547', '349213',\n",
       "       '347060', 'PC 17592', '392091', '113055', '2629', '350026',\n",
       "       '28134', '17466', '233866', '236852', 'SC/PARIS 2149', 'PC 17590',\n",
       "       '345777', '349248', '695', '345765', '2667', '349212', '349217',\n",
       "       '349257', '7552', 'C.A./SOTON 34068', 'SOTON/OQ 392076', '211536',\n",
       "       '112053', '111369', '370376'], dtype=object)"
      ]
     },
     "execution_count": 43,
     "metadata": {},
     "output_type": "execute_result"
    }
   ],
   "source": [
    "df.Ticket.unique()"
   ]
  },
  {
   "cell_type": "code",
   "execution_count": 44,
   "id": "representative-counter",
   "metadata": {
    "execution": {
     "iopub.execute_input": "2022-02-25T19:30:16.815252Z",
     "iopub.status.busy": "2022-02-25T19:30:16.814755Z",
     "iopub.status.idle": "2022-02-25T19:30:16.835980Z",
     "shell.execute_reply": "2022-02-25T19:30:16.836393Z",
     "shell.execute_reply.started": "2022-02-25T19:19:33.451273Z"
    },
    "papermill": {
     "duration": 0.087957,
     "end_time": "2022-02-25T19:30:16.836551",
     "exception": false,
     "start_time": "2022-02-25T19:30:16.748594",
     "status": "completed"
    },
    "tags": []
   },
   "outputs": [
    {
     "data": {
      "text/html": [
       "<div>\n",
       "<style scoped>\n",
       "    .dataframe tbody tr th:only-of-type {\n",
       "        vertical-align: middle;\n",
       "    }\n",
       "\n",
       "    .dataframe tbody tr th {\n",
       "        vertical-align: top;\n",
       "    }\n",
       "\n",
       "    .dataframe thead th {\n",
       "        text-align: right;\n",
       "    }\n",
       "</style>\n",
       "<table border=\"1\" class=\"dataframe\">\n",
       "  <thead>\n",
       "    <tr style=\"text-align: right;\">\n",
       "      <th></th>\n",
       "      <th>Survived</th>\n",
       "      <th>Sex</th>\n",
       "      <th>Age</th>\n",
       "      <th>Fare</th>\n",
       "      <th>HasCabin</th>\n",
       "      <th>FamilySize</th>\n",
       "      <th>Embarked_Q</th>\n",
       "      <th>Embarked_S</th>\n",
       "      <th>Pclass_2</th>\n",
       "      <th>Pclass_3</th>\n",
       "      <th>Title_Miss</th>\n",
       "      <th>Title_Mr</th>\n",
       "      <th>Title_Mrs</th>\n",
       "      <th>Title_Rare</th>\n",
       "    </tr>\n",
       "  </thead>\n",
       "  <tbody>\n",
       "    <tr>\n",
       "      <th>0</th>\n",
       "      <td>0</td>\n",
       "      <td>0</td>\n",
       "      <td>22.0</td>\n",
       "      <td>7.2500</td>\n",
       "      <td>0</td>\n",
       "      <td>1</td>\n",
       "      <td>0</td>\n",
       "      <td>1</td>\n",
       "      <td>0</td>\n",
       "      <td>1</td>\n",
       "      <td>0</td>\n",
       "      <td>1</td>\n",
       "      <td>0</td>\n",
       "      <td>0</td>\n",
       "    </tr>\n",
       "    <tr>\n",
       "      <th>1</th>\n",
       "      <td>1</td>\n",
       "      <td>1</td>\n",
       "      <td>38.0</td>\n",
       "      <td>71.2833</td>\n",
       "      <td>1</td>\n",
       "      <td>1</td>\n",
       "      <td>0</td>\n",
       "      <td>0</td>\n",
       "      <td>0</td>\n",
       "      <td>0</td>\n",
       "      <td>0</td>\n",
       "      <td>0</td>\n",
       "      <td>1</td>\n",
       "      <td>0</td>\n",
       "    </tr>\n",
       "    <tr>\n",
       "      <th>2</th>\n",
       "      <td>1</td>\n",
       "      <td>1</td>\n",
       "      <td>26.0</td>\n",
       "      <td>7.9250</td>\n",
       "      <td>0</td>\n",
       "      <td>0</td>\n",
       "      <td>0</td>\n",
       "      <td>1</td>\n",
       "      <td>0</td>\n",
       "      <td>1</td>\n",
       "      <td>1</td>\n",
       "      <td>0</td>\n",
       "      <td>0</td>\n",
       "      <td>0</td>\n",
       "    </tr>\n",
       "    <tr>\n",
       "      <th>3</th>\n",
       "      <td>1</td>\n",
       "      <td>1</td>\n",
       "      <td>35.0</td>\n",
       "      <td>53.1000</td>\n",
       "      <td>1</td>\n",
       "      <td>1</td>\n",
       "      <td>0</td>\n",
       "      <td>1</td>\n",
       "      <td>0</td>\n",
       "      <td>0</td>\n",
       "      <td>0</td>\n",
       "      <td>0</td>\n",
       "      <td>1</td>\n",
       "      <td>0</td>\n",
       "    </tr>\n",
       "    <tr>\n",
       "      <th>4</th>\n",
       "      <td>0</td>\n",
       "      <td>0</td>\n",
       "      <td>35.0</td>\n",
       "      <td>8.0500</td>\n",
       "      <td>0</td>\n",
       "      <td>0</td>\n",
       "      <td>0</td>\n",
       "      <td>1</td>\n",
       "      <td>0</td>\n",
       "      <td>1</td>\n",
       "      <td>0</td>\n",
       "      <td>1</td>\n",
       "      <td>0</td>\n",
       "      <td>0</td>\n",
       "    </tr>\n",
       "  </tbody>\n",
       "</table>\n",
       "</div>"
      ],
      "text/plain": [
       "   Survived  Sex   Age     Fare  HasCabin  FamilySize  Embarked_Q  Embarked_S  \\\n",
       "0         0    0  22.0   7.2500         0           1           0           1   \n",
       "1         1    1  38.0  71.2833         1           1           0           0   \n",
       "2         1    1  26.0   7.9250         0           0           0           1   \n",
       "3         1    1  35.0  53.1000         1           1           0           1   \n",
       "4         0    0  35.0   8.0500         0           0           0           1   \n",
       "\n",
       "   Pclass_2  Pclass_3  Title_Miss  Title_Mr  Title_Mrs  Title_Rare  \n",
       "0         0         1           0         1          0           0  \n",
       "1         0         0           0         0          1           0  \n",
       "2         0         1           1         0          0           0  \n",
       "3         0         0           0         0          1           0  \n",
       "4         0         1           0         1          0           0  "
      ]
     },
     "execution_count": 44,
     "metadata": {},
     "output_type": "execute_result"
    }
   ],
   "source": [
    "df_encoded = df_encoded.drop(['Name', 'Ticket', 'SibSp', 'Parch'], axis=1)\n",
    "df_test_encoded = df_test_encoded.drop(['Name', 'Ticket', 'SibSp', 'Parch'], axis=1)\n",
    "df_encoded.head()"
   ]
  },
  {
   "cell_type": "code",
   "execution_count": 45,
   "id": "rolled-orchestra",
   "metadata": {
    "execution": {
     "iopub.execute_input": "2022-02-25T19:30:16.963098Z",
     "iopub.status.busy": "2022-02-25T19:30:16.962537Z",
     "iopub.status.idle": "2022-02-25T19:30:16.966984Z",
     "shell.execute_reply": "2022-02-25T19:30:16.967370Z",
     "shell.execute_reply.started": "2022-02-25T19:19:33.474798Z"
    },
    "papermill": {
     "duration": 0.069125,
     "end_time": "2022-02-25T19:30:16.967519",
     "exception": false,
     "start_time": "2022-02-25T19:30:16.898394",
     "status": "completed"
    },
    "tags": []
   },
   "outputs": [],
   "source": [
    "from scipy.stats import zscore"
   ]
  },
  {
   "cell_type": "code",
   "execution_count": 46,
   "id": "cultural-sewing",
   "metadata": {
    "execution": {
     "iopub.execute_input": "2022-02-25T19:30:17.097906Z",
     "iopub.status.busy": "2022-02-25T19:30:17.097409Z",
     "iopub.status.idle": "2022-02-25T19:30:17.099808Z",
     "shell.execute_reply": "2022-02-25T19:30:17.100274Z",
     "shell.execute_reply.started": "2022-02-25T19:19:33.479647Z"
    },
    "papermill": {
     "duration": 0.071433,
     "end_time": "2022-02-25T19:30:17.100404",
     "exception": false,
     "start_time": "2022-02-25T19:30:17.028971",
     "status": "completed"
    },
    "tags": []
   },
   "outputs": [
    {
     "data": {
      "text/plain": [
       "27     263.0000\n",
       "88     263.0000\n",
       "118    247.5208\n",
       "258    512.3292\n",
       "299    247.5208\n",
       "311    262.3750\n",
       "341    263.0000\n",
       "377    211.5000\n",
       "380    227.5250\n",
       "438    263.0000\n",
       "527    221.7792\n",
       "557    227.5250\n",
       "679    512.3292\n",
       "689    211.3375\n",
       "700    227.5250\n",
       "716    227.5250\n",
       "730    211.3375\n",
       "737    512.3292\n",
       "742    262.3750\n",
       "779    211.3375\n",
       "Name: Fare, dtype: float64"
      ]
     },
     "execution_count": 46,
     "metadata": {},
     "output_type": "execute_result"
    }
   ],
   "source": [
    "fare_outliers = df_encoded[\"Fare\"][(np.abs(zscore(df[\"Fare\"])) > 3)]\n",
    "fare_outliers"
   ]
  },
  {
   "cell_type": "code",
   "execution_count": 47,
   "id": "focal-kuwait",
   "metadata": {
    "execution": {
     "iopub.execute_input": "2022-02-25T19:30:17.224930Z",
     "iopub.status.busy": "2022-02-25T19:30:17.224465Z",
     "iopub.status.idle": "2022-02-25T19:30:17.228944Z",
     "shell.execute_reply": "2022-02-25T19:30:17.229352Z",
     "shell.execute_reply.started": "2022-02-25T19:19:33.496118Z"
    },
    "papermill": {
     "duration": 0.068236,
     "end_time": "2022-02-25T19:30:17.229465",
     "exception": false,
     "start_time": "2022-02-25T19:30:17.161229",
     "status": "completed"
    },
    "tags": []
   },
   "outputs": [],
   "source": [
    "X = df_encoded.drop('Survived', axis=1)\n",
    "y = df_encoded.Survived\n",
    "X_test = df_test_encoded"
   ]
  },
  {
   "cell_type": "code",
   "execution_count": 48,
   "id": "explicit-protein",
   "metadata": {
    "execution": {
     "iopub.execute_input": "2022-02-25T19:30:17.356611Z",
     "iopub.status.busy": "2022-02-25T19:30:17.356096Z",
     "iopub.status.idle": "2022-02-25T19:30:17.357954Z",
     "shell.execute_reply": "2022-02-25T19:30:17.358326Z",
     "shell.execute_reply.started": "2022-02-25T19:19:33.506685Z"
    },
    "papermill": {
     "duration": 0.068162,
     "end_time": "2022-02-25T19:30:17.358476",
     "exception": false,
     "start_time": "2022-02-25T19:30:17.290314",
     "status": "completed"
    },
    "tags": []
   },
   "outputs": [],
   "source": [
    "from sklearn.preprocessing import StandardScaler, MinMaxScaler\n",
    "pd.options.mode.chained_assignment = None"
   ]
  },
  {
   "cell_type": "code",
   "execution_count": 49,
   "id": "silent-syndrome",
   "metadata": {
    "execution": {
     "iopub.execute_input": "2022-02-25T19:30:17.517940Z",
     "iopub.status.busy": "2022-02-25T19:30:17.517196Z",
     "iopub.status.idle": "2022-02-25T19:30:17.541427Z",
     "shell.execute_reply": "2022-02-25T19:30:17.541908Z",
     "shell.execute_reply.started": "2022-02-25T19:19:33.519586Z"
    },
    "papermill": {
     "duration": 0.116226,
     "end_time": "2022-02-25T19:30:17.542067",
     "exception": false,
     "start_time": "2022-02-25T19:30:17.425841",
     "status": "completed"
    },
    "tags": []
   },
   "outputs": [
    {
     "name": "stdout",
     "output_type": "stream",
     "text": [
      "count    8.890000e+02\n",
      "mean     1.092115e-16\n",
      "std      1.000563e+00\n",
      "min     -6.462044e-01\n",
      "25%     -4.872378e-01\n",
      "50%     -3.551972e-01\n",
      "75%     -2.207954e-02\n",
      "max      9.668551e+00\n",
      "Name: Fare, dtype: float64 count    8.890000e+02\n",
      "mean    -3.724680e-17\n",
      "std      1.000563e+00\n",
      "min     -2.220656e+00\n",
      "25%     -6.288690e-01\n",
      "50%     -6.785378e-02\n",
      "75%      6.128446e-01\n",
      "max      3.732089e+00\n",
      "Name: Age, dtype: float64\n"
     ]
    }
   ],
   "source": [
    "cols = [\"Age\", \"Fare\"]\n",
    "scaler = StandardScaler()\n",
    "\n",
    "for c in cols:\n",
    "    X[c] = scaler.fit_transform(X[[c]])\n",
    "    X_test[c] = scaler.transform(X_test[[c]])\n",
    "print('{} {}'.format(X.Fare.describe(), X.Age.describe()))"
   ]
  },
  {
   "cell_type": "markdown",
   "id": "polyphonic-decision",
   "metadata": {
    "papermill": {
     "duration": 0.095376,
     "end_time": "2022-02-25T19:30:17.726004",
     "exception": false,
     "start_time": "2022-02-25T19:30:17.630628",
     "status": "completed"
    },
    "tags": []
   },
   "source": [
    "## Models"
   ]
  },
  {
   "cell_type": "code",
   "execution_count": 50,
   "id": "greenhouse-blair",
   "metadata": {
    "execution": {
     "iopub.execute_input": "2022-02-25T19:30:17.923849Z",
     "iopub.status.busy": "2022-02-25T19:30:17.923094Z",
     "iopub.status.idle": "2022-02-25T19:30:18.279829Z",
     "shell.execute_reply": "2022-02-25T19:30:18.279146Z",
     "shell.execute_reply.started": "2022-02-25T19:19:33.549908Z"
    },
    "papermill": {
     "duration": 0.457605,
     "end_time": "2022-02-25T19:30:18.279970",
     "exception": false,
     "start_time": "2022-02-25T19:30:17.822365",
     "status": "completed"
    },
    "tags": []
   },
   "outputs": [],
   "source": [
    "from sklearn.metrics import confusion_matrix, classification_report, roc_auc_score, accuracy_score\n",
    "from sklearn.linear_model import LogisticRegression\n",
    "from sklearn.ensemble import RandomForestClassifier, AdaBoostClassifier, ExtraTreesClassifier, GradientBoostingClassifier\n",
    "from sklearn.neural_network import MLPClassifier\n",
    "from sklearn.neighbors import KNeighborsClassifier\n",
    "from sklearn.svm import SVC\n",
    "from xgboost import XGBClassifier\n",
    "from sklearn.model_selection import GridSearchCV"
   ]
  },
  {
   "cell_type": "code",
   "execution_count": 51,
   "id": "russian-distance",
   "metadata": {
    "execution": {
     "iopub.execute_input": "2022-02-25T19:30:18.477909Z",
     "iopub.status.busy": "2022-02-25T19:30:18.477274Z",
     "iopub.status.idle": "2022-02-25T19:30:18.480794Z",
     "shell.execute_reply": "2022-02-25T19:30:18.480202Z",
     "shell.execute_reply.started": "2022-02-25T19:19:33.875423Z"
    },
    "papermill": {
     "duration": 0.106006,
     "end_time": "2022-02-25T19:30:18.480932",
     "exception": false,
     "start_time": "2022-02-25T19:30:18.374926",
     "status": "completed"
    },
    "tags": []
   },
   "outputs": [],
   "source": [
    "class ClassifierDecorator(object):\n",
    "    def __init__(self, clf, seed=0, params=None):\n",
    "        if seed != -1:\n",
    "            params['random_state'] = seed\n",
    "        self.clf = clf(**params)\n",
    "        \n",
    "    def fit(self, x, y):\n",
    "        return self.clf.fit(x, y)\n",
    "    \n",
    "    def predict(self, x):\n",
    "        return self.clf.predict(x)\n",
    "    \n",
    "    def feature_importances(self, x, y):\n",
    "        importances = self.fit(x,y).feature_importances_\n",
    "        return importances\n",
    "    "
   ]
  },
  {
   "cell_type": "code",
   "execution_count": 52,
   "id": "twelve-vatican",
   "metadata": {
    "execution": {
     "iopub.execute_input": "2022-02-25T19:30:18.671190Z",
     "iopub.status.busy": "2022-02-25T19:30:18.670497Z",
     "iopub.status.idle": "2022-02-25T19:30:18.672933Z",
     "shell.execute_reply": "2022-02-25T19:30:18.672361Z",
     "shell.execute_reply.started": "2022-02-25T19:19:33.884867Z"
    },
    "papermill": {
     "duration": 0.10314,
     "end_time": "2022-02-25T19:30:18.673072",
     "exception": false,
     "start_time": "2022-02-25T19:30:18.569932",
     "status": "completed"
    },
    "tags": []
   },
   "outputs": [],
   "source": [
    "def get_oof(clf, x_train, y_train, x_test, nfolds, seed=0):\n",
    "    kf = KFold(nfolds, shuffle=True, random_state=seed)\n",
    "    oof_train = np.zeros((x_train.shape[0],))\n",
    "    oof_test = np.zeros((x_test.shape[0],))\n",
    "    oof_test_skf = np.empty((nfolds, x_test.shape[0]))\n",
    "    \n",
    "    for i, (train_index, test_index) in enumerate(kf.split(x_train)):\n",
    "        x_tr = x_train[train_index]\n",
    "        y_tr = y_train[train_index]\n",
    "        x_te = x_train[test_index]\n",
    "        \n",
    "        clf.fit(x_tr, y_tr)\n",
    "        \n",
    "        oof_train[test_index] = clf.predict(x_te)\n",
    "        oof_test_skf[i, :] = clf.predict(x_test)\n",
    "    \n",
    "    oof_test[:] = oof_test_skf.mean(axis=0)\n",
    "    return oof_train.reshape(-1, 1), oof_test.reshape(-1, 1)"
   ]
  },
  {
   "cell_type": "code",
   "execution_count": 53,
   "id": "aggregate-enterprise",
   "metadata": {
    "execution": {
     "iopub.execute_input": "2022-02-25T19:30:18.867020Z",
     "iopub.status.busy": "2022-02-25T19:30:18.866225Z",
     "iopub.status.idle": "2022-02-25T19:30:18.869036Z",
     "shell.execute_reply": "2022-02-25T19:30:18.868416Z",
     "shell.execute_reply.started": "2022-02-25T19:19:33.899047Z"
    },
    "papermill": {
     "duration": 0.102971,
     "end_time": "2022-02-25T19:30:18.869179",
     "exception": false,
     "start_time": "2022-02-25T19:30:18.766208",
     "status": "completed"
    },
    "tags": []
   },
   "outputs": [],
   "source": [
    "pass_ids = X_test.PassengerId\n",
    "X_test = X_test.drop('PassengerId', axis=1)"
   ]
  },
  {
   "cell_type": "code",
   "execution_count": 54,
   "id": "loose-cambodia",
   "metadata": {
    "execution": {
     "iopub.execute_input": "2022-02-25T19:30:19.066456Z",
     "iopub.status.busy": "2022-02-25T19:30:19.065773Z",
     "iopub.status.idle": "2022-02-25T19:30:19.067857Z",
     "shell.execute_reply": "2022-02-25T19:30:19.068446Z",
     "shell.execute_reply.started": "2022-02-25T19:19:33.913281Z"
    },
    "papermill": {
     "duration": 0.104748,
     "end_time": "2022-02-25T19:30:19.068625",
     "exception": false,
     "start_time": "2022-02-25T19:30:18.963877",
     "status": "completed"
    },
    "tags": []
   },
   "outputs": [],
   "source": [
    "# Random Forest parameters\n",
    "rf_params = {\n",
    "    'n_jobs': -1,\n",
    "    'n_estimators': 500,\n",
    "     'warm_start': False, \n",
    "     #'max_features': 0.2,\n",
    "    'max_depth': 6,\n",
    "    'min_samples_leaf': 2,\n",
    "    'max_features' : 'sqrt',\n",
    "    'verbose': 0\n",
    "}\n",
    "\n",
    "# Extra Trees Parameters\n",
    "et_params = {\n",
    "    'n_jobs': -1,\n",
    "    'n_estimators':500,\n",
    "    #'max_features': 0.5,\n",
    "    'max_depth': 8,\n",
    "    'min_samples_leaf': 2,\n",
    "    'verbose': 0\n",
    "}\n",
    "\n",
    "# AdaBoost parameters\n",
    "ada_params = {\n",
    "    'n_estimators': 500,\n",
    "    'learning_rate' : 0.75\n",
    "}\n",
    "\n",
    "# Gradient Boosting parameters\n",
    "gb_params = {\n",
    "    'n_estimators': 500,\n",
    "     #'max_features': 0.2,\n",
    "    'max_depth': 5,\n",
    "    'min_samples_leaf': 2,\n",
    "    'verbose': 0\n",
    "}\n",
    "\n",
    "# Support Vector Classifier parameters \n",
    "svc_params = {\n",
    "    'kernel' : 'linear',\n",
    "    'C' : 0.025\n",
    "    }\n",
    "\n",
    "# Logistic Regression parameters\n",
    "lr_params = {\n",
    "    'C' : 10,\n",
    "    'solver' : 'lbfgs',\n",
    "    'max_iter' : 1000\n",
    "}\n",
    "\n",
    "# MLPClassifier parameters\n",
    "mlp_params = {\n",
    "    'alpha' : 0.0001,\n",
    "    'hidden_layer_sizes' : (5,),\n",
    "    'learning_rate' : 'constant',\n",
    "    'max_iter' : 1000\n",
    "}\n",
    "\n",
    "# KNeighbors classifier parameters\n",
    "kn_params = {\n",
    "    'weights' : 'distance',\n",
    "}"
   ]
  },
  {
   "cell_type": "code",
   "execution_count": 55,
   "id": "fifth-services",
   "metadata": {
    "execution": {
     "iopub.execute_input": "2022-02-25T19:30:19.260020Z",
     "iopub.status.busy": "2022-02-25T19:30:19.259357Z",
     "iopub.status.idle": "2022-02-25T19:30:19.261716Z",
     "shell.execute_reply": "2022-02-25T19:30:19.261183Z",
     "shell.execute_reply.started": "2022-02-25T19:19:33.924234Z"
    },
    "papermill": {
     "duration": 0.10012,
     "end_time": "2022-02-25T19:30:19.261855",
     "exception": false,
     "start_time": "2022-02-25T19:30:19.161735",
     "status": "completed"
    },
    "tags": []
   },
   "outputs": [],
   "source": [
    "rf = ClassifierDecorator(clf=RandomForestClassifier, params=rf_params)\n",
    "et = ClassifierDecorator(clf=ExtraTreesClassifier, params=et_params)\n",
    "ada = ClassifierDecorator(clf=AdaBoostClassifier, params=ada_params)\n",
    "gb = ClassifierDecorator(clf=GradientBoostingClassifier, params=gb_params)\n",
    "svc = ClassifierDecorator(clf=SVC, params=svc_params)\n",
    "lr = ClassifierDecorator(clf=LogisticRegression, params=lr_params)\n",
    "mlp = ClassifierDecorator(clf=MLPClassifier, params=mlp_params)\n",
    "kn = ClassifierDecorator(clf=KNeighborsClassifier, seed=-1, params=kn_params)"
   ]
  },
  {
   "cell_type": "code",
   "execution_count": 56,
   "id": "diverse-distribution",
   "metadata": {
    "execution": {
     "iopub.execute_input": "2022-02-25T19:30:19.447338Z",
     "iopub.status.busy": "2022-02-25T19:30:19.446753Z",
     "iopub.status.idle": "2022-02-25T19:30:19.449190Z",
     "shell.execute_reply": "2022-02-25T19:30:19.448639Z",
     "shell.execute_reply.started": "2022-02-25T19:19:33.936154Z"
    },
    "papermill": {
     "duration": 0.097863,
     "end_time": "2022-02-25T19:30:19.449322",
     "exception": false,
     "start_time": "2022-02-25T19:30:19.351459",
     "status": "completed"
    },
    "tags": []
   },
   "outputs": [],
   "source": [
    "X_train = X.values\n",
    "X_test = X_test.values\n",
    "y = y.ravel()"
   ]
  },
  {
   "cell_type": "code",
   "execution_count": 57,
   "id": "bottom-drove",
   "metadata": {
    "execution": {
     "iopub.execute_input": "2022-02-25T19:30:19.650985Z",
     "iopub.status.busy": "2022-02-25T19:30:19.650326Z",
     "iopub.status.idle": "2022-02-25T19:30:48.569345Z",
     "shell.execute_reply": "2022-02-25T19:30:48.568651Z",
     "shell.execute_reply.started": "2022-02-25T19:19:33.951268Z"
    },
    "papermill": {
     "duration": 29.023075,
     "end_time": "2022-02-25T19:30:48.569511",
     "exception": false,
     "start_time": "2022-02-25T19:30:19.546436",
     "status": "completed"
    },
    "tags": []
   },
   "outputs": [],
   "source": [
    "rf_oof_train, rf_oof_test = get_oof(rf, X_train, y, X_test, 5)\n",
    "et_oof_train, et_oof_test = get_oof(et, X_train, y, X_test, 5)\n",
    "ada_oof_train, ada_oof_test = get_oof(ada, X_train, y, X_test, 5)\n",
    "gb_oof_train, gb_oof_test = get_oof(gb, X_train, y, X_test, 5)\n",
    "svc_oof_train, svc_oof_test = get_oof(svc, X_train, y, X_test, 5)\n",
    "lr_oof_train, lr_oof_test = get_oof(lr, X_train, y, X_test, 5)\n",
    "mlp_oof_train, mlp_oof_test = get_oof(mlp, X_train, y, X_test, 5)\n",
    "kn_oof_train, kn_oof_test = get_oof(kn, X_train, y, X_test, 5)"
   ]
  },
  {
   "cell_type": "code",
   "execution_count": 58,
   "id": "another-lawyer",
   "metadata": {
    "execution": {
     "iopub.execute_input": "2022-02-25T19:30:48.764781Z",
     "iopub.status.busy": "2022-02-25T19:30:48.763970Z",
     "iopub.status.idle": "2022-02-25T19:30:53.953630Z",
     "shell.execute_reply": "2022-02-25T19:30:53.953078Z",
     "shell.execute_reply.started": "2022-02-25T19:19:59.597433Z"
    },
    "papermill": {
     "duration": 5.290329,
     "end_time": "2022-02-25T19:30:53.953791",
     "exception": false,
     "start_time": "2022-02-25T19:30:48.663462",
     "status": "completed"
    },
    "tags": []
   },
   "outputs": [],
   "source": [
    "features = X.columns.values\n",
    "feature_df = pd.DataFrame(\n",
    "    {\n",
    "        'features': features,\n",
    "        'Random forest features': rf.feature_importances(X_train,y),\n",
    "        'Extra trees features': et.feature_importances(X_train,y),\n",
    "        'Ada boost features': ada.feature_importances(X_train,y),\n",
    "        'Gradient boosting features': gb.feature_importances(X_train,y),\n",
    "    }\n",
    ")"
   ]
  },
  {
   "cell_type": "code",
   "execution_count": 59,
   "id": "presidential-chancellor",
   "metadata": {
    "execution": {
     "iopub.execute_input": "2022-02-25T19:30:54.152743Z",
     "iopub.status.busy": "2022-02-25T19:30:54.151954Z",
     "iopub.status.idle": "2022-02-25T19:30:54.950430Z",
     "shell.execute_reply": "2022-02-25T19:30:54.950952Z",
     "shell.execute_reply.started": "2022-02-25T19:20:03.933152Z"
    },
    "papermill": {
     "duration": 0.900696,
     "end_time": "2022-02-25T19:30:54.951129",
     "exception": false,
     "start_time": "2022-02-25T19:30:54.050433",
     "status": "completed"
    },
    "tags": []
   },
   "outputs": [
    {
     "data": {
      "application/vnd.plotly.v1+json": {
       "config": {
        "linkText": "Export to plot.ly",
        "plotlyServerURL": "https://plot.ly",
        "showLink": false
       },
       "data": [
        {
         "marker": {
          "color": [
           0.10932307152064312,
           0.1264486086938682,
           0.2557255027156434,
           0.040865121614056546,
           0.058301069577268494,
           0.006487847786104679,
           0.016563589725213154,
           0.014238938780774604,
           0.06288851798881293,
           0.04016237713852287,
           0.21400161902088508,
           0.03415016126442775,
           0.020843574173779175
          ],
          "colorscale": [
           [
            0.0,
            "rgb(12,51,131)"
           ],
           [
            0.25,
            "rgb(10,136,186)"
           ],
           [
            0.5,
            "rgb(242,211,56)"
           ],
           [
            0.75,
            "rgb(242,143,56)"
           ],
           [
            1.0,
            "rgb(217,30,30)"
           ]
          ],
          "reversescale": false,
          "showscale": true
         },
         "opacity": 0.6,
         "type": "bar",
         "width": 0.5,
         "x": [
          "Sex",
          "Age",
          "Fare",
          "HasCabin",
          "FamilySize",
          "Embarked_Q",
          "Embarked_S",
          "Pclass_2",
          "Pclass_3",
          "Title_Miss",
          "Title_Mr",
          "Title_Mrs",
          "Title_Rare"
         ],
         "y": [
          0.10932307152064312,
          0.1264486086938682,
          0.2557255027156434,
          0.040865121614056546,
          0.058301069577268494,
          0.006487847786104679,
          0.016563589725213154,
          0.014238938780774604,
          0.06288851798881293,
          0.04016237713852287,
          0.21400161902088508,
          0.03415016126442775,
          0.020843574173779175
         ]
        }
       ],
       "layout": {
        "autosize": true,
        "hovermode": "closest",
        "showlegend": false,
        "template": {
         "data": {
          "bar": [
           {
            "error_x": {
             "color": "#2a3f5f"
            },
            "error_y": {
             "color": "#2a3f5f"
            },
            "marker": {
             "line": {
              "color": "#E5ECF6",
              "width": 0.5
             }
            },
            "type": "bar"
           }
          ],
          "barpolar": [
           {
            "marker": {
             "line": {
              "color": "#E5ECF6",
              "width": 0.5
             }
            },
            "type": "barpolar"
           }
          ],
          "carpet": [
           {
            "aaxis": {
             "endlinecolor": "#2a3f5f",
             "gridcolor": "white",
             "linecolor": "white",
             "minorgridcolor": "white",
             "startlinecolor": "#2a3f5f"
            },
            "baxis": {
             "endlinecolor": "#2a3f5f",
             "gridcolor": "white",
             "linecolor": "white",
             "minorgridcolor": "white",
             "startlinecolor": "#2a3f5f"
            },
            "type": "carpet"
           }
          ],
          "choropleth": [
           {
            "colorbar": {
             "outlinewidth": 0,
             "ticks": ""
            },
            "type": "choropleth"
           }
          ],
          "contour": [
           {
            "colorbar": {
             "outlinewidth": 0,
             "ticks": ""
            },
            "colorscale": [
             [
              0.0,
              "#0d0887"
             ],
             [
              0.1111111111111111,
              "#46039f"
             ],
             [
              0.2222222222222222,
              "#7201a8"
             ],
             [
              0.3333333333333333,
              "#9c179e"
             ],
             [
              0.4444444444444444,
              "#bd3786"
             ],
             [
              0.5555555555555556,
              "#d8576b"
             ],
             [
              0.6666666666666666,
              "#ed7953"
             ],
             [
              0.7777777777777778,
              "#fb9f3a"
             ],
             [
              0.8888888888888888,
              "#fdca26"
             ],
             [
              1.0,
              "#f0f921"
             ]
            ],
            "type": "contour"
           }
          ],
          "contourcarpet": [
           {
            "colorbar": {
             "outlinewidth": 0,
             "ticks": ""
            },
            "type": "contourcarpet"
           }
          ],
          "heatmap": [
           {
            "colorbar": {
             "outlinewidth": 0,
             "ticks": ""
            },
            "colorscale": [
             [
              0.0,
              "#0d0887"
             ],
             [
              0.1111111111111111,
              "#46039f"
             ],
             [
              0.2222222222222222,
              "#7201a8"
             ],
             [
              0.3333333333333333,
              "#9c179e"
             ],
             [
              0.4444444444444444,
              "#bd3786"
             ],
             [
              0.5555555555555556,
              "#d8576b"
             ],
             [
              0.6666666666666666,
              "#ed7953"
             ],
             [
              0.7777777777777778,
              "#fb9f3a"
             ],
             [
              0.8888888888888888,
              "#fdca26"
             ],
             [
              1.0,
              "#f0f921"
             ]
            ],
            "type": "heatmap"
           }
          ],
          "heatmapgl": [
           {
            "colorbar": {
             "outlinewidth": 0,
             "ticks": ""
            },
            "colorscale": [
             [
              0.0,
              "#0d0887"
             ],
             [
              0.1111111111111111,
              "#46039f"
             ],
             [
              0.2222222222222222,
              "#7201a8"
             ],
             [
              0.3333333333333333,
              "#9c179e"
             ],
             [
              0.4444444444444444,
              "#bd3786"
             ],
             [
              0.5555555555555556,
              "#d8576b"
             ],
             [
              0.6666666666666666,
              "#ed7953"
             ],
             [
              0.7777777777777778,
              "#fb9f3a"
             ],
             [
              0.8888888888888888,
              "#fdca26"
             ],
             [
              1.0,
              "#f0f921"
             ]
            ],
            "type": "heatmapgl"
           }
          ],
          "histogram": [
           {
            "marker": {
             "colorbar": {
              "outlinewidth": 0,
              "ticks": ""
             }
            },
            "type": "histogram"
           }
          ],
          "histogram2d": [
           {
            "colorbar": {
             "outlinewidth": 0,
             "ticks": ""
            },
            "colorscale": [
             [
              0.0,
              "#0d0887"
             ],
             [
              0.1111111111111111,
              "#46039f"
             ],
             [
              0.2222222222222222,
              "#7201a8"
             ],
             [
              0.3333333333333333,
              "#9c179e"
             ],
             [
              0.4444444444444444,
              "#bd3786"
             ],
             [
              0.5555555555555556,
              "#d8576b"
             ],
             [
              0.6666666666666666,
              "#ed7953"
             ],
             [
              0.7777777777777778,
              "#fb9f3a"
             ],
             [
              0.8888888888888888,
              "#fdca26"
             ],
             [
              1.0,
              "#f0f921"
             ]
            ],
            "type": "histogram2d"
           }
          ],
          "histogram2dcontour": [
           {
            "colorbar": {
             "outlinewidth": 0,
             "ticks": ""
            },
            "colorscale": [
             [
              0.0,
              "#0d0887"
             ],
             [
              0.1111111111111111,
              "#46039f"
             ],
             [
              0.2222222222222222,
              "#7201a8"
             ],
             [
              0.3333333333333333,
              "#9c179e"
             ],
             [
              0.4444444444444444,
              "#bd3786"
             ],
             [
              0.5555555555555556,
              "#d8576b"
             ],
             [
              0.6666666666666666,
              "#ed7953"
             ],
             [
              0.7777777777777778,
              "#fb9f3a"
             ],
             [
              0.8888888888888888,
              "#fdca26"
             ],
             [
              1.0,
              "#f0f921"
             ]
            ],
            "type": "histogram2dcontour"
           }
          ],
          "mesh3d": [
           {
            "colorbar": {
             "outlinewidth": 0,
             "ticks": ""
            },
            "type": "mesh3d"
           }
          ],
          "parcoords": [
           {
            "line": {
             "colorbar": {
              "outlinewidth": 0,
              "ticks": ""
             }
            },
            "type": "parcoords"
           }
          ],
          "pie": [
           {
            "automargin": true,
            "type": "pie"
           }
          ],
          "scatter": [
           {
            "marker": {
             "colorbar": {
              "outlinewidth": 0,
              "ticks": ""
             }
            },
            "type": "scatter"
           }
          ],
          "scatter3d": [
           {
            "line": {
             "colorbar": {
              "outlinewidth": 0,
              "ticks": ""
             }
            },
            "marker": {
             "colorbar": {
              "outlinewidth": 0,
              "ticks": ""
             }
            },
            "type": "scatter3d"
           }
          ],
          "scattercarpet": [
           {
            "marker": {
             "colorbar": {
              "outlinewidth": 0,
              "ticks": ""
             }
            },
            "type": "scattercarpet"
           }
          ],
          "scattergeo": [
           {
            "marker": {
             "colorbar": {
              "outlinewidth": 0,
              "ticks": ""
             }
            },
            "type": "scattergeo"
           }
          ],
          "scattergl": [
           {
            "marker": {
             "colorbar": {
              "outlinewidth": 0,
              "ticks": ""
             }
            },
            "type": "scattergl"
           }
          ],
          "scattermapbox": [
           {
            "marker": {
             "colorbar": {
              "outlinewidth": 0,
              "ticks": ""
             }
            },
            "type": "scattermapbox"
           }
          ],
          "scatterpolar": [
           {
            "marker": {
             "colorbar": {
              "outlinewidth": 0,
              "ticks": ""
             }
            },
            "type": "scatterpolar"
           }
          ],
          "scatterpolargl": [
           {
            "marker": {
             "colorbar": {
              "outlinewidth": 0,
              "ticks": ""
             }
            },
            "type": "scatterpolargl"
           }
          ],
          "scatterternary": [
           {
            "marker": {
             "colorbar": {
              "outlinewidth": 0,
              "ticks": ""
             }
            },
            "type": "scatterternary"
           }
          ],
          "surface": [
           {
            "colorbar": {
             "outlinewidth": 0,
             "ticks": ""
            },
            "colorscale": [
             [
              0.0,
              "#0d0887"
             ],
             [
              0.1111111111111111,
              "#46039f"
             ],
             [
              0.2222222222222222,
              "#7201a8"
             ],
             [
              0.3333333333333333,
              "#9c179e"
             ],
             [
              0.4444444444444444,
              "#bd3786"
             ],
             [
              0.5555555555555556,
              "#d8576b"
             ],
             [
              0.6666666666666666,
              "#ed7953"
             ],
             [
              0.7777777777777778,
              "#fb9f3a"
             ],
             [
              0.8888888888888888,
              "#fdca26"
             ],
             [
              1.0,
              "#f0f921"
             ]
            ],
            "type": "surface"
           }
          ],
          "table": [
           {
            "cells": {
             "fill": {
              "color": "#EBF0F8"
             },
             "line": {
              "color": "white"
             }
            },
            "header": {
             "fill": {
              "color": "#C8D4E3"
             },
             "line": {
              "color": "white"
             }
            },
            "type": "table"
           }
          ]
         },
         "layout": {
          "annotationdefaults": {
           "arrowcolor": "#2a3f5f",
           "arrowhead": 0,
           "arrowwidth": 1
          },
          "autotypenumbers": "strict",
          "coloraxis": {
           "colorbar": {
            "outlinewidth": 0,
            "ticks": ""
           }
          },
          "colorscale": {
           "diverging": [
            [
             0,
             "#8e0152"
            ],
            [
             0.1,
             "#c51b7d"
            ],
            [
             0.2,
             "#de77ae"
            ],
            [
             0.3,
             "#f1b6da"
            ],
            [
             0.4,
             "#fde0ef"
            ],
            [
             0.5,
             "#f7f7f7"
            ],
            [
             0.6,
             "#e6f5d0"
            ],
            [
             0.7,
             "#b8e186"
            ],
            [
             0.8,
             "#7fbc41"
            ],
            [
             0.9,
             "#4d9221"
            ],
            [
             1,
             "#276419"
            ]
           ],
           "sequential": [
            [
             0.0,
             "#0d0887"
            ],
            [
             0.1111111111111111,
             "#46039f"
            ],
            [
             0.2222222222222222,
             "#7201a8"
            ],
            [
             0.3333333333333333,
             "#9c179e"
            ],
            [
             0.4444444444444444,
             "#bd3786"
            ],
            [
             0.5555555555555556,
             "#d8576b"
            ],
            [
             0.6666666666666666,
             "#ed7953"
            ],
            [
             0.7777777777777778,
             "#fb9f3a"
            ],
            [
             0.8888888888888888,
             "#fdca26"
            ],
            [
             1.0,
             "#f0f921"
            ]
           ],
           "sequentialminus": [
            [
             0.0,
             "#0d0887"
            ],
            [
             0.1111111111111111,
             "#46039f"
            ],
            [
             0.2222222222222222,
             "#7201a8"
            ],
            [
             0.3333333333333333,
             "#9c179e"
            ],
            [
             0.4444444444444444,
             "#bd3786"
            ],
            [
             0.5555555555555556,
             "#d8576b"
            ],
            [
             0.6666666666666666,
             "#ed7953"
            ],
            [
             0.7777777777777778,
             "#fb9f3a"
            ],
            [
             0.8888888888888888,
             "#fdca26"
            ],
            [
             1.0,
             "#f0f921"
            ]
           ]
          },
          "colorway": [
           "#636efa",
           "#EF553B",
           "#00cc96",
           "#ab63fa",
           "#FFA15A",
           "#19d3f3",
           "#FF6692",
           "#B6E880",
           "#FF97FF",
           "#FECB52"
          ],
          "font": {
           "color": "#2a3f5f"
          },
          "geo": {
           "bgcolor": "white",
           "lakecolor": "white",
           "landcolor": "#E5ECF6",
           "showlakes": true,
           "showland": true,
           "subunitcolor": "white"
          },
          "hoverlabel": {
           "align": "left"
          },
          "hovermode": "closest",
          "mapbox": {
           "style": "light"
          },
          "paper_bgcolor": "white",
          "plot_bgcolor": "#E5ECF6",
          "polar": {
           "angularaxis": {
            "gridcolor": "white",
            "linecolor": "white",
            "ticks": ""
           },
           "bgcolor": "#E5ECF6",
           "radialaxis": {
            "gridcolor": "white",
            "linecolor": "white",
            "ticks": ""
           }
          },
          "scene": {
           "xaxis": {
            "backgroundcolor": "#E5ECF6",
            "gridcolor": "white",
            "gridwidth": 2,
            "linecolor": "white",
            "showbackground": true,
            "ticks": "",
            "zerolinecolor": "white"
           },
           "yaxis": {
            "backgroundcolor": "#E5ECF6",
            "gridcolor": "white",
            "gridwidth": 2,
            "linecolor": "white",
            "showbackground": true,
            "ticks": "",
            "zerolinecolor": "white"
           },
           "zaxis": {
            "backgroundcolor": "#E5ECF6",
            "gridcolor": "white",
            "gridwidth": 2,
            "linecolor": "white",
            "showbackground": true,
            "ticks": "",
            "zerolinecolor": "white"
           }
          },
          "shapedefaults": {
           "line": {
            "color": "#2a3f5f"
           }
          },
          "ternary": {
           "aaxis": {
            "gridcolor": "white",
            "linecolor": "white",
            "ticks": ""
           },
           "baxis": {
            "gridcolor": "white",
            "linecolor": "white",
            "ticks": ""
           },
           "bgcolor": "#E5ECF6",
           "caxis": {
            "gridcolor": "white",
            "linecolor": "white",
            "ticks": ""
           }
          },
          "title": {
           "x": 0.05
          },
          "xaxis": {
           "automargin": true,
           "gridcolor": "white",
           "linecolor": "white",
           "ticks": "",
           "title": {
            "standoff": 15
           },
           "zerolinecolor": "white",
           "zerolinewidth": 2
          },
          "yaxis": {
           "automargin": true,
           "gridcolor": "white",
           "linecolor": "white",
           "ticks": "",
           "title": {
            "standoff": 15
           },
           "zerolinecolor": "white",
           "zerolinewidth": 2
          }
         }
        },
        "title": {
         "text": "Barplots of Mean Feature Importance"
        },
        "yaxis": {
         "gridwidth": 2,
         "ticklen": 5,
         "title": {
          "text": "Feature Importance"
         }
        }
       }
      },
      "text/html": [
       "<div>                            <div id=\"a0c26e01-ed83-4270-bb81-986928786cc4\" class=\"plotly-graph-div\" style=\"height:525px; width:100%;\"></div>            <script type=\"text/javascript\">                require([\"plotly\"], function(Plotly) {                    window.PLOTLYENV=window.PLOTLYENV || {};                                    if (document.getElementById(\"a0c26e01-ed83-4270-bb81-986928786cc4\")) {                    Plotly.newPlot(                        \"a0c26e01-ed83-4270-bb81-986928786cc4\",                        [{\"marker\": {\"color\": [0.10932307152064312, 0.1264486086938682, 0.2557255027156434, 0.040865121614056546, 0.058301069577268494, 0.006487847786104679, 0.016563589725213154, 0.014238938780774604, 0.06288851798881293, 0.04016237713852287, 0.21400161902088508, 0.03415016126442775, 0.020843574173779175], \"colorscale\": [[0.0, \"rgb(12,51,131)\"], [0.25, \"rgb(10,136,186)\"], [0.5, \"rgb(242,211,56)\"], [0.75, \"rgb(242,143,56)\"], [1.0, \"rgb(217,30,30)\"]], \"reversescale\": false, \"showscale\": true}, \"opacity\": 0.6, \"type\": \"bar\", \"width\": 0.5, \"x\": [\"Sex\", \"Age\", \"Fare\", \"HasCabin\", \"FamilySize\", \"Embarked_Q\", \"Embarked_S\", \"Pclass_2\", \"Pclass_3\", \"Title_Miss\", \"Title_Mr\", \"Title_Mrs\", \"Title_Rare\"], \"y\": [0.10932307152064312, 0.1264486086938682, 0.2557255027156434, 0.040865121614056546, 0.058301069577268494, 0.006487847786104679, 0.016563589725213154, 0.014238938780774604, 0.06288851798881293, 0.04016237713852287, 0.21400161902088508, 0.03415016126442775, 0.020843574173779175]}],                        {\"autosize\": true, \"hovermode\": \"closest\", \"showlegend\": false, \"template\": {\"data\": {\"bar\": [{\"error_x\": {\"color\": \"#2a3f5f\"}, \"error_y\": {\"color\": \"#2a3f5f\"}, \"marker\": {\"line\": {\"color\": \"#E5ECF6\", \"width\": 0.5}}, \"type\": \"bar\"}], \"barpolar\": [{\"marker\": {\"line\": {\"color\": \"#E5ECF6\", \"width\": 0.5}}, \"type\": \"barpolar\"}], \"carpet\": [{\"aaxis\": {\"endlinecolor\": \"#2a3f5f\", \"gridcolor\": \"white\", \"linecolor\": \"white\", \"minorgridcolor\": \"white\", \"startlinecolor\": \"#2a3f5f\"}, \"baxis\": {\"endlinecolor\": \"#2a3f5f\", \"gridcolor\": \"white\", \"linecolor\": \"white\", \"minorgridcolor\": \"white\", \"startlinecolor\": \"#2a3f5f\"}, \"type\": \"carpet\"}], \"choropleth\": [{\"colorbar\": {\"outlinewidth\": 0, \"ticks\": \"\"}, \"type\": \"choropleth\"}], \"contour\": [{\"colorbar\": {\"outlinewidth\": 0, \"ticks\": \"\"}, \"colorscale\": [[0.0, \"#0d0887\"], [0.1111111111111111, \"#46039f\"], [0.2222222222222222, \"#7201a8\"], [0.3333333333333333, \"#9c179e\"], [0.4444444444444444, \"#bd3786\"], [0.5555555555555556, \"#d8576b\"], [0.6666666666666666, \"#ed7953\"], [0.7777777777777778, \"#fb9f3a\"], [0.8888888888888888, \"#fdca26\"], [1.0, \"#f0f921\"]], \"type\": \"contour\"}], \"contourcarpet\": [{\"colorbar\": {\"outlinewidth\": 0, \"ticks\": \"\"}, \"type\": \"contourcarpet\"}], \"heatmap\": [{\"colorbar\": {\"outlinewidth\": 0, \"ticks\": \"\"}, \"colorscale\": [[0.0, \"#0d0887\"], [0.1111111111111111, \"#46039f\"], [0.2222222222222222, \"#7201a8\"], [0.3333333333333333, \"#9c179e\"], [0.4444444444444444, \"#bd3786\"], [0.5555555555555556, \"#d8576b\"], [0.6666666666666666, \"#ed7953\"], [0.7777777777777778, \"#fb9f3a\"], [0.8888888888888888, \"#fdca26\"], [1.0, \"#f0f921\"]], \"type\": \"heatmap\"}], \"heatmapgl\": [{\"colorbar\": {\"outlinewidth\": 0, \"ticks\": \"\"}, \"colorscale\": [[0.0, \"#0d0887\"], [0.1111111111111111, \"#46039f\"], [0.2222222222222222, \"#7201a8\"], [0.3333333333333333, \"#9c179e\"], [0.4444444444444444, \"#bd3786\"], [0.5555555555555556, \"#d8576b\"], [0.6666666666666666, \"#ed7953\"], [0.7777777777777778, \"#fb9f3a\"], [0.8888888888888888, \"#fdca26\"], [1.0, \"#f0f921\"]], \"type\": \"heatmapgl\"}], \"histogram\": [{\"marker\": {\"colorbar\": {\"outlinewidth\": 0, \"ticks\": \"\"}}, \"type\": \"histogram\"}], \"histogram2d\": [{\"colorbar\": {\"outlinewidth\": 0, \"ticks\": \"\"}, \"colorscale\": [[0.0, \"#0d0887\"], [0.1111111111111111, \"#46039f\"], [0.2222222222222222, \"#7201a8\"], [0.3333333333333333, \"#9c179e\"], [0.4444444444444444, \"#bd3786\"], [0.5555555555555556, \"#d8576b\"], [0.6666666666666666, \"#ed7953\"], [0.7777777777777778, \"#fb9f3a\"], [0.8888888888888888, \"#fdca26\"], [1.0, \"#f0f921\"]], \"type\": \"histogram2d\"}], \"histogram2dcontour\": [{\"colorbar\": {\"outlinewidth\": 0, \"ticks\": \"\"}, \"colorscale\": [[0.0, \"#0d0887\"], [0.1111111111111111, \"#46039f\"], [0.2222222222222222, \"#7201a8\"], [0.3333333333333333, \"#9c179e\"], [0.4444444444444444, \"#bd3786\"], [0.5555555555555556, \"#d8576b\"], [0.6666666666666666, \"#ed7953\"], [0.7777777777777778, \"#fb9f3a\"], [0.8888888888888888, \"#fdca26\"], [1.0, \"#f0f921\"]], \"type\": \"histogram2dcontour\"}], \"mesh3d\": [{\"colorbar\": {\"outlinewidth\": 0, \"ticks\": \"\"}, \"type\": \"mesh3d\"}], \"parcoords\": [{\"line\": {\"colorbar\": {\"outlinewidth\": 0, \"ticks\": \"\"}}, \"type\": \"parcoords\"}], \"pie\": [{\"automargin\": true, \"type\": \"pie\"}], \"scatter\": [{\"marker\": {\"colorbar\": {\"outlinewidth\": 0, \"ticks\": \"\"}}, \"type\": \"scatter\"}], \"scatter3d\": [{\"line\": {\"colorbar\": {\"outlinewidth\": 0, \"ticks\": \"\"}}, \"marker\": {\"colorbar\": {\"outlinewidth\": 0, \"ticks\": \"\"}}, \"type\": \"scatter3d\"}], \"scattercarpet\": [{\"marker\": {\"colorbar\": {\"outlinewidth\": 0, \"ticks\": \"\"}}, \"type\": \"scattercarpet\"}], \"scattergeo\": [{\"marker\": {\"colorbar\": {\"outlinewidth\": 0, \"ticks\": \"\"}}, \"type\": \"scattergeo\"}], \"scattergl\": [{\"marker\": {\"colorbar\": {\"outlinewidth\": 0, \"ticks\": \"\"}}, \"type\": \"scattergl\"}], \"scattermapbox\": [{\"marker\": {\"colorbar\": {\"outlinewidth\": 0, \"ticks\": \"\"}}, \"type\": \"scattermapbox\"}], \"scatterpolar\": [{\"marker\": {\"colorbar\": {\"outlinewidth\": 0, \"ticks\": \"\"}}, \"type\": \"scatterpolar\"}], \"scatterpolargl\": [{\"marker\": {\"colorbar\": {\"outlinewidth\": 0, \"ticks\": \"\"}}, \"type\": \"scatterpolargl\"}], \"scatterternary\": [{\"marker\": {\"colorbar\": {\"outlinewidth\": 0, \"ticks\": \"\"}}, \"type\": \"scatterternary\"}], \"surface\": [{\"colorbar\": {\"outlinewidth\": 0, \"ticks\": \"\"}, \"colorscale\": [[0.0, \"#0d0887\"], [0.1111111111111111, \"#46039f\"], [0.2222222222222222, \"#7201a8\"], [0.3333333333333333, \"#9c179e\"], [0.4444444444444444, \"#bd3786\"], [0.5555555555555556, \"#d8576b\"], [0.6666666666666666, \"#ed7953\"], [0.7777777777777778, \"#fb9f3a\"], [0.8888888888888888, \"#fdca26\"], [1.0, \"#f0f921\"]], \"type\": \"surface\"}], \"table\": [{\"cells\": {\"fill\": {\"color\": \"#EBF0F8\"}, \"line\": {\"color\": \"white\"}}, \"header\": {\"fill\": {\"color\": \"#C8D4E3\"}, \"line\": {\"color\": \"white\"}}, \"type\": \"table\"}]}, \"layout\": {\"annotationdefaults\": {\"arrowcolor\": \"#2a3f5f\", \"arrowhead\": 0, \"arrowwidth\": 1}, \"autotypenumbers\": \"strict\", \"coloraxis\": {\"colorbar\": {\"outlinewidth\": 0, \"ticks\": \"\"}}, \"colorscale\": {\"diverging\": [[0, \"#8e0152\"], [0.1, \"#c51b7d\"], [0.2, \"#de77ae\"], [0.3, \"#f1b6da\"], [0.4, \"#fde0ef\"], [0.5, \"#f7f7f7\"], [0.6, \"#e6f5d0\"], [0.7, \"#b8e186\"], [0.8, \"#7fbc41\"], [0.9, \"#4d9221\"], [1, \"#276419\"]], \"sequential\": [[0.0, \"#0d0887\"], [0.1111111111111111, \"#46039f\"], [0.2222222222222222, \"#7201a8\"], [0.3333333333333333, \"#9c179e\"], [0.4444444444444444, \"#bd3786\"], [0.5555555555555556, \"#d8576b\"], [0.6666666666666666, \"#ed7953\"], [0.7777777777777778, \"#fb9f3a\"], [0.8888888888888888, \"#fdca26\"], [1.0, \"#f0f921\"]], \"sequentialminus\": [[0.0, \"#0d0887\"], [0.1111111111111111, \"#46039f\"], [0.2222222222222222, \"#7201a8\"], [0.3333333333333333, \"#9c179e\"], [0.4444444444444444, \"#bd3786\"], [0.5555555555555556, \"#d8576b\"], [0.6666666666666666, \"#ed7953\"], [0.7777777777777778, \"#fb9f3a\"], [0.8888888888888888, \"#fdca26\"], [1.0, \"#f0f921\"]]}, \"colorway\": [\"#636efa\", \"#EF553B\", \"#00cc96\", \"#ab63fa\", \"#FFA15A\", \"#19d3f3\", \"#FF6692\", \"#B6E880\", \"#FF97FF\", \"#FECB52\"], \"font\": {\"color\": \"#2a3f5f\"}, \"geo\": {\"bgcolor\": \"white\", \"lakecolor\": \"white\", \"landcolor\": \"#E5ECF6\", \"showlakes\": true, \"showland\": true, \"subunitcolor\": \"white\"}, \"hoverlabel\": {\"align\": \"left\"}, \"hovermode\": \"closest\", \"mapbox\": {\"style\": \"light\"}, \"paper_bgcolor\": \"white\", \"plot_bgcolor\": \"#E5ECF6\", \"polar\": {\"angularaxis\": {\"gridcolor\": \"white\", \"linecolor\": \"white\", \"ticks\": \"\"}, \"bgcolor\": \"#E5ECF6\", \"radialaxis\": {\"gridcolor\": \"white\", \"linecolor\": \"white\", \"ticks\": \"\"}}, \"scene\": {\"xaxis\": {\"backgroundcolor\": \"#E5ECF6\", \"gridcolor\": \"white\", \"gridwidth\": 2, \"linecolor\": \"white\", \"showbackground\": true, \"ticks\": \"\", \"zerolinecolor\": \"white\"}, \"yaxis\": {\"backgroundcolor\": \"#E5ECF6\", \"gridcolor\": \"white\", \"gridwidth\": 2, \"linecolor\": \"white\", \"showbackground\": true, \"ticks\": \"\", \"zerolinecolor\": \"white\"}, \"zaxis\": {\"backgroundcolor\": \"#E5ECF6\", \"gridcolor\": \"white\", \"gridwidth\": 2, \"linecolor\": \"white\", \"showbackground\": true, \"ticks\": \"\", \"zerolinecolor\": \"white\"}}, \"shapedefaults\": {\"line\": {\"color\": \"#2a3f5f\"}}, \"ternary\": {\"aaxis\": {\"gridcolor\": \"white\", \"linecolor\": \"white\", \"ticks\": \"\"}, \"baxis\": {\"gridcolor\": \"white\", \"linecolor\": \"white\", \"ticks\": \"\"}, \"bgcolor\": \"#E5ECF6\", \"caxis\": {\"gridcolor\": \"white\", \"linecolor\": \"white\", \"ticks\": \"\"}}, \"title\": {\"x\": 0.05}, \"xaxis\": {\"automargin\": true, \"gridcolor\": \"white\", \"linecolor\": \"white\", \"ticks\": \"\", \"title\": {\"standoff\": 15}, \"zerolinecolor\": \"white\", \"zerolinewidth\": 2}, \"yaxis\": {\"automargin\": true, \"gridcolor\": \"white\", \"linecolor\": \"white\", \"ticks\": \"\", \"title\": {\"standoff\": 15}, \"zerolinecolor\": \"white\", \"zerolinewidth\": 2}}}, \"title\": {\"text\": \"Barplots of Mean Feature Importance\"}, \"yaxis\": {\"gridwidth\": 2, \"ticklen\": 5, \"title\": {\"text\": \"Feature Importance\"}}},                        {\"responsive\": true}                    ).then(function(){\n",
       "                            \n",
       "var gd = document.getElementById('a0c26e01-ed83-4270-bb81-986928786cc4');\n",
       "var x = new MutationObserver(function (mutations, observer) {{\n",
       "        var display = window.getComputedStyle(gd).display;\n",
       "        if (!display || display === 'none') {{\n",
       "            console.log([gd, 'removed!']);\n",
       "            Plotly.purge(gd);\n",
       "            observer.disconnect();\n",
       "        }}\n",
       "}});\n",
       "\n",
       "// Listen for the removal of the full notebook cells\n",
       "var notebookContainer = gd.closest('#notebook-container');\n",
       "if (notebookContainer) {{\n",
       "    x.observe(notebookContainer, {childList: true});\n",
       "}}\n",
       "\n",
       "// Listen for the clearing of the current output cell\n",
       "var outputEl = gd.closest('.output');\n",
       "if (outputEl) {{\n",
       "    x.observe(outputEl, {childList: true});\n",
       "}}\n",
       "\n",
       "                        })                };                });            </script>        </div>"
      ]
     },
     "metadata": {},
     "output_type": "display_data"
    }
   ],
   "source": [
    "mean_features = feature_df.mean(axis=1)\n",
    "data = [go.Bar(\n",
    "            x= features,\n",
    "             y= mean_features,\n",
    "            width = 0.5,\n",
    "            marker=dict(\n",
    "               color = mean_features,\n",
    "            colorscale='Portland',\n",
    "            showscale=True,\n",
    "            reversescale = False\n",
    "            ),\n",
    "            opacity=0.6\n",
    "        )]\n",
    "\n",
    "layout= go.Layout(\n",
    "    autosize= True,\n",
    "    title= 'Barplots of Mean Feature Importance',\n",
    "    hovermode= 'closest',\n",
    "    yaxis=dict(\n",
    "        title= 'Feature Importance',\n",
    "        ticklen= 5,\n",
    "        gridwidth= 2\n",
    "    ),\n",
    "    showlegend= False\n",
    ")\n",
    "fig = go.Figure(data=data, layout=layout)\n",
    "py.iplot(fig, filename='bar-direct-labels')"
   ]
  },
  {
   "cell_type": "code",
   "execution_count": 60,
   "id": "continental-bedroom",
   "metadata": {
    "execution": {
     "iopub.execute_input": "2022-02-25T19:30:55.168158Z",
     "iopub.status.busy": "2022-02-25T19:30:55.167632Z",
     "iopub.status.idle": "2022-02-25T19:30:55.172015Z",
     "shell.execute_reply": "2022-02-25T19:30:55.171593Z",
     "shell.execute_reply.started": "2022-02-25T19:20:04.727011Z"
    },
    "papermill": {
     "duration": 0.119915,
     "end_time": "2022-02-25T19:30:55.172126",
     "exception": false,
     "start_time": "2022-02-25T19:30:55.052211",
     "status": "completed"
    },
    "tags": []
   },
   "outputs": [
    {
     "data": {
      "text/html": [
       "<div>\n",
       "<style scoped>\n",
       "    .dataframe tbody tr th:only-of-type {\n",
       "        vertical-align: middle;\n",
       "    }\n",
       "\n",
       "    .dataframe tbody tr th {\n",
       "        vertical-align: top;\n",
       "    }\n",
       "\n",
       "    .dataframe thead th {\n",
       "        text-align: right;\n",
       "    }\n",
       "</style>\n",
       "<table border=\"1\" class=\"dataframe\">\n",
       "  <thead>\n",
       "    <tr style=\"text-align: right;\">\n",
       "      <th></th>\n",
       "      <th>Random forest</th>\n",
       "      <th>Extra trees</th>\n",
       "      <th>Ada boost</th>\n",
       "      <th>Gradient boosting</th>\n",
       "      <th>SVC</th>\n",
       "      <th>LR</th>\n",
       "      <th>MLP</th>\n",
       "      <th>K Neighbours</th>\n",
       "    </tr>\n",
       "  </thead>\n",
       "  <tbody>\n",
       "    <tr>\n",
       "      <th>0</th>\n",
       "      <td>0.0</td>\n",
       "      <td>0.0</td>\n",
       "      <td>0.0</td>\n",
       "      <td>0.0</td>\n",
       "      <td>0.0</td>\n",
       "      <td>0.0</td>\n",
       "      <td>0.0</td>\n",
       "      <td>0.0</td>\n",
       "    </tr>\n",
       "    <tr>\n",
       "      <th>1</th>\n",
       "      <td>1.0</td>\n",
       "      <td>1.0</td>\n",
       "      <td>1.0</td>\n",
       "      <td>1.0</td>\n",
       "      <td>1.0</td>\n",
       "      <td>1.0</td>\n",
       "      <td>1.0</td>\n",
       "      <td>1.0</td>\n",
       "    </tr>\n",
       "    <tr>\n",
       "      <th>2</th>\n",
       "      <td>0.0</td>\n",
       "      <td>0.0</td>\n",
       "      <td>1.0</td>\n",
       "      <td>1.0</td>\n",
       "      <td>1.0</td>\n",
       "      <td>1.0</td>\n",
       "      <td>1.0</td>\n",
       "      <td>1.0</td>\n",
       "    </tr>\n",
       "    <tr>\n",
       "      <th>3</th>\n",
       "      <td>1.0</td>\n",
       "      <td>1.0</td>\n",
       "      <td>1.0</td>\n",
       "      <td>1.0</td>\n",
       "      <td>1.0</td>\n",
       "      <td>1.0</td>\n",
       "      <td>1.0</td>\n",
       "      <td>1.0</td>\n",
       "    </tr>\n",
       "    <tr>\n",
       "      <th>4</th>\n",
       "      <td>0.0</td>\n",
       "      <td>0.0</td>\n",
       "      <td>0.0</td>\n",
       "      <td>0.0</td>\n",
       "      <td>0.0</td>\n",
       "      <td>0.0</td>\n",
       "      <td>0.0</td>\n",
       "      <td>0.0</td>\n",
       "    </tr>\n",
       "  </tbody>\n",
       "</table>\n",
       "</div>"
      ],
      "text/plain": [
       "   Random forest  Extra trees  Ada boost  Gradient boosting  SVC   LR  MLP  \\\n",
       "0            0.0          0.0        0.0                0.0  0.0  0.0  0.0   \n",
       "1            1.0          1.0        1.0                1.0  1.0  1.0  1.0   \n",
       "2            0.0          0.0        1.0                1.0  1.0  1.0  1.0   \n",
       "3            1.0          1.0        1.0                1.0  1.0  1.0  1.0   \n",
       "4            0.0          0.0        0.0                0.0  0.0  0.0  0.0   \n",
       "\n",
       "   K Neighbours  \n",
       "0           0.0  \n",
       "1           1.0  \n",
       "2           1.0  \n",
       "3           1.0  \n",
       "4           0.0  "
      ]
     },
     "execution_count": 60,
     "metadata": {},
     "output_type": "execute_result"
    }
   ],
   "source": [
    "base_predictions_train = pd.DataFrame(\n",
    "    {\n",
    "        'Random forest': rf_oof_train.ravel(),\n",
    "        'Extra trees': et_oof_train.ravel(),\n",
    "        'Ada boost': ada_oof_train.ravel(),\n",
    "        'Gradient boosting': gb_oof_train.ravel(),\n",
    "        'SVC': svc_oof_train.ravel(),\n",
    "        'LR': lr_oof_train.ravel(),\n",
    "        'MLP': mlp_oof_train.ravel(),\n",
    "        'K Neighbours': kn_oof_train.ravel()\n",
    "    }\n",
    ")\n",
    "base_predictions_train.head()"
   ]
  },
  {
   "cell_type": "code",
   "execution_count": 61,
   "id": "understood-guarantee",
   "metadata": {
    "execution": {
     "iopub.execute_input": "2022-02-25T19:30:55.310970Z",
     "iopub.status.busy": "2022-02-25T19:30:55.310220Z",
     "iopub.status.idle": "2022-02-25T19:30:55.353982Z",
     "shell.execute_reply": "2022-02-25T19:30:55.353559Z",
     "shell.execute_reply.started": "2022-02-25T19:20:04.750576Z"
    },
    "papermill": {
     "duration": 0.11715,
     "end_time": "2022-02-25T19:30:55.354078",
     "exception": false,
     "start_time": "2022-02-25T19:30:55.236928",
     "status": "completed"
    },
    "tags": []
   },
   "outputs": [
    {
     "data": {
      "application/vnd.plotly.v1+json": {
       "config": {
        "linkText": "Export to plot.ly",
        "plotlyServerURL": "https://plot.ly",
        "showLink": false
       },
       "data": [
        {
         "colorscale": [
          [
           0.0,
           "#440154"
          ],
          [
           0.1111111111111111,
           "#482878"
          ],
          [
           0.2222222222222222,
           "#3e4989"
          ],
          [
           0.3333333333333333,
           "#31688e"
          ],
          [
           0.4444444444444444,
           "#26828e"
          ],
          [
           0.5555555555555556,
           "#1f9e89"
          ],
          [
           0.6666666666666666,
           "#35b779"
          ],
          [
           0.7777777777777778,
           "#6ece58"
          ],
          [
           0.8888888888888888,
           "#b5de2b"
          ],
          [
           1.0,
           "#fde725"
          ]
         ],
         "reversescale": true,
         "showscale": true,
         "type": "heatmap",
         "x": [
          "Random forest",
          "Extra trees",
          "Ada boost",
          "Gradient boosting",
          "SVC",
          "LR",
          "MLP",
          "K Neighbours"
         ],
         "y": [
          "Random forest",
          "Extra trees",
          "Ada boost",
          "Gradient boosting",
          "SVC",
          "LR",
          "MLP",
          "K Neighbours"
         ],
         "z": [
          [
           1.0,
           0.9272502944328221,
           0.8015472329835787,
           0.7533352249012477,
           0.8051370445457119,
           0.8809606228988701,
           0.8709616242260352,
           0.7201357847057805
          ],
          [
           0.9272502944328221,
           1.0,
           0.7552465407553509,
           0.7319317987906491,
           0.7507390308230029,
           0.8498403408508799,
           0.8621329024754127,
           0.7328926318167732
          ],
          [
           0.8015472329835787,
           0.7552465407553509,
           1.0,
           0.7481690473816843,
           0.7086464120181074,
           0.7923874046859638,
           0.7593953990291226,
           0.6869747079482286
          ],
          [
           0.7533352249012477,
           0.7319317987906491,
           0.7481690473816843,
           1.0,
           0.5874176497494399,
           0.6809707881805726,
           0.6717023679705616,
           0.7023274179500169
          ],
          [
           0.8051370445457119,
           0.7507390308230029,
           0.7086464120181074,
           0.5874176497494399,
           1.0,
           0.8170591368185371,
           0.812570082283528,
           0.5985704048982962
          ],
          [
           0.8809606228988701,
           0.8498403408508799,
           0.7923874046859638,
           0.6809707881805726,
           0.8170591368185371,
           1.0,
           0.913447075108938,
           0.7021209712953308
          ],
          [
           0.8709616242260352,
           0.8621329024754127,
           0.7593953990291226,
           0.6717023679705616,
           0.812570082283528,
           0.913447075108938,
           1.0,
           0.7076860552043713
          ],
          [
           0.7201357847057805,
           0.7328926318167732,
           0.6869747079482286,
           0.7023274179500169,
           0.5985704048982962,
           0.7021209712953308,
           0.7076860552043713,
           1.0
          ]
         ]
        }
       ],
       "layout": {
        "template": {
         "data": {
          "bar": [
           {
            "error_x": {
             "color": "#2a3f5f"
            },
            "error_y": {
             "color": "#2a3f5f"
            },
            "marker": {
             "line": {
              "color": "#E5ECF6",
              "width": 0.5
             }
            },
            "type": "bar"
           }
          ],
          "barpolar": [
           {
            "marker": {
             "line": {
              "color": "#E5ECF6",
              "width": 0.5
             }
            },
            "type": "barpolar"
           }
          ],
          "carpet": [
           {
            "aaxis": {
             "endlinecolor": "#2a3f5f",
             "gridcolor": "white",
             "linecolor": "white",
             "minorgridcolor": "white",
             "startlinecolor": "#2a3f5f"
            },
            "baxis": {
             "endlinecolor": "#2a3f5f",
             "gridcolor": "white",
             "linecolor": "white",
             "minorgridcolor": "white",
             "startlinecolor": "#2a3f5f"
            },
            "type": "carpet"
           }
          ],
          "choropleth": [
           {
            "colorbar": {
             "outlinewidth": 0,
             "ticks": ""
            },
            "type": "choropleth"
           }
          ],
          "contour": [
           {
            "colorbar": {
             "outlinewidth": 0,
             "ticks": ""
            },
            "colorscale": [
             [
              0.0,
              "#0d0887"
             ],
             [
              0.1111111111111111,
              "#46039f"
             ],
             [
              0.2222222222222222,
              "#7201a8"
             ],
             [
              0.3333333333333333,
              "#9c179e"
             ],
             [
              0.4444444444444444,
              "#bd3786"
             ],
             [
              0.5555555555555556,
              "#d8576b"
             ],
             [
              0.6666666666666666,
              "#ed7953"
             ],
             [
              0.7777777777777778,
              "#fb9f3a"
             ],
             [
              0.8888888888888888,
              "#fdca26"
             ],
             [
              1.0,
              "#f0f921"
             ]
            ],
            "type": "contour"
           }
          ],
          "contourcarpet": [
           {
            "colorbar": {
             "outlinewidth": 0,
             "ticks": ""
            },
            "type": "contourcarpet"
           }
          ],
          "heatmap": [
           {
            "colorbar": {
             "outlinewidth": 0,
             "ticks": ""
            },
            "colorscale": [
             [
              0.0,
              "#0d0887"
             ],
             [
              0.1111111111111111,
              "#46039f"
             ],
             [
              0.2222222222222222,
              "#7201a8"
             ],
             [
              0.3333333333333333,
              "#9c179e"
             ],
             [
              0.4444444444444444,
              "#bd3786"
             ],
             [
              0.5555555555555556,
              "#d8576b"
             ],
             [
              0.6666666666666666,
              "#ed7953"
             ],
             [
              0.7777777777777778,
              "#fb9f3a"
             ],
             [
              0.8888888888888888,
              "#fdca26"
             ],
             [
              1.0,
              "#f0f921"
             ]
            ],
            "type": "heatmap"
           }
          ],
          "heatmapgl": [
           {
            "colorbar": {
             "outlinewidth": 0,
             "ticks": ""
            },
            "colorscale": [
             [
              0.0,
              "#0d0887"
             ],
             [
              0.1111111111111111,
              "#46039f"
             ],
             [
              0.2222222222222222,
              "#7201a8"
             ],
             [
              0.3333333333333333,
              "#9c179e"
             ],
             [
              0.4444444444444444,
              "#bd3786"
             ],
             [
              0.5555555555555556,
              "#d8576b"
             ],
             [
              0.6666666666666666,
              "#ed7953"
             ],
             [
              0.7777777777777778,
              "#fb9f3a"
             ],
             [
              0.8888888888888888,
              "#fdca26"
             ],
             [
              1.0,
              "#f0f921"
             ]
            ],
            "type": "heatmapgl"
           }
          ],
          "histogram": [
           {
            "marker": {
             "colorbar": {
              "outlinewidth": 0,
              "ticks": ""
             }
            },
            "type": "histogram"
           }
          ],
          "histogram2d": [
           {
            "colorbar": {
             "outlinewidth": 0,
             "ticks": ""
            },
            "colorscale": [
             [
              0.0,
              "#0d0887"
             ],
             [
              0.1111111111111111,
              "#46039f"
             ],
             [
              0.2222222222222222,
              "#7201a8"
             ],
             [
              0.3333333333333333,
              "#9c179e"
             ],
             [
              0.4444444444444444,
              "#bd3786"
             ],
             [
              0.5555555555555556,
              "#d8576b"
             ],
             [
              0.6666666666666666,
              "#ed7953"
             ],
             [
              0.7777777777777778,
              "#fb9f3a"
             ],
             [
              0.8888888888888888,
              "#fdca26"
             ],
             [
              1.0,
              "#f0f921"
             ]
            ],
            "type": "histogram2d"
           }
          ],
          "histogram2dcontour": [
           {
            "colorbar": {
             "outlinewidth": 0,
             "ticks": ""
            },
            "colorscale": [
             [
              0.0,
              "#0d0887"
             ],
             [
              0.1111111111111111,
              "#46039f"
             ],
             [
              0.2222222222222222,
              "#7201a8"
             ],
             [
              0.3333333333333333,
              "#9c179e"
             ],
             [
              0.4444444444444444,
              "#bd3786"
             ],
             [
              0.5555555555555556,
              "#d8576b"
             ],
             [
              0.6666666666666666,
              "#ed7953"
             ],
             [
              0.7777777777777778,
              "#fb9f3a"
             ],
             [
              0.8888888888888888,
              "#fdca26"
             ],
             [
              1.0,
              "#f0f921"
             ]
            ],
            "type": "histogram2dcontour"
           }
          ],
          "mesh3d": [
           {
            "colorbar": {
             "outlinewidth": 0,
             "ticks": ""
            },
            "type": "mesh3d"
           }
          ],
          "parcoords": [
           {
            "line": {
             "colorbar": {
              "outlinewidth": 0,
              "ticks": ""
             }
            },
            "type": "parcoords"
           }
          ],
          "pie": [
           {
            "automargin": true,
            "type": "pie"
           }
          ],
          "scatter": [
           {
            "marker": {
             "colorbar": {
              "outlinewidth": 0,
              "ticks": ""
             }
            },
            "type": "scatter"
           }
          ],
          "scatter3d": [
           {
            "line": {
             "colorbar": {
              "outlinewidth": 0,
              "ticks": ""
             }
            },
            "marker": {
             "colorbar": {
              "outlinewidth": 0,
              "ticks": ""
             }
            },
            "type": "scatter3d"
           }
          ],
          "scattercarpet": [
           {
            "marker": {
             "colorbar": {
              "outlinewidth": 0,
              "ticks": ""
             }
            },
            "type": "scattercarpet"
           }
          ],
          "scattergeo": [
           {
            "marker": {
             "colorbar": {
              "outlinewidth": 0,
              "ticks": ""
             }
            },
            "type": "scattergeo"
           }
          ],
          "scattergl": [
           {
            "marker": {
             "colorbar": {
              "outlinewidth": 0,
              "ticks": ""
             }
            },
            "type": "scattergl"
           }
          ],
          "scattermapbox": [
           {
            "marker": {
             "colorbar": {
              "outlinewidth": 0,
              "ticks": ""
             }
            },
            "type": "scattermapbox"
           }
          ],
          "scatterpolar": [
           {
            "marker": {
             "colorbar": {
              "outlinewidth": 0,
              "ticks": ""
             }
            },
            "type": "scatterpolar"
           }
          ],
          "scatterpolargl": [
           {
            "marker": {
             "colorbar": {
              "outlinewidth": 0,
              "ticks": ""
             }
            },
            "type": "scatterpolargl"
           }
          ],
          "scatterternary": [
           {
            "marker": {
             "colorbar": {
              "outlinewidth": 0,
              "ticks": ""
             }
            },
            "type": "scatterternary"
           }
          ],
          "surface": [
           {
            "colorbar": {
             "outlinewidth": 0,
             "ticks": ""
            },
            "colorscale": [
             [
              0.0,
              "#0d0887"
             ],
             [
              0.1111111111111111,
              "#46039f"
             ],
             [
              0.2222222222222222,
              "#7201a8"
             ],
             [
              0.3333333333333333,
              "#9c179e"
             ],
             [
              0.4444444444444444,
              "#bd3786"
             ],
             [
              0.5555555555555556,
              "#d8576b"
             ],
             [
              0.6666666666666666,
              "#ed7953"
             ],
             [
              0.7777777777777778,
              "#fb9f3a"
             ],
             [
              0.8888888888888888,
              "#fdca26"
             ],
             [
              1.0,
              "#f0f921"
             ]
            ],
            "type": "surface"
           }
          ],
          "table": [
           {
            "cells": {
             "fill": {
              "color": "#EBF0F8"
             },
             "line": {
              "color": "white"
             }
            },
            "header": {
             "fill": {
              "color": "#C8D4E3"
             },
             "line": {
              "color": "white"
             }
            },
            "type": "table"
           }
          ]
         },
         "layout": {
          "annotationdefaults": {
           "arrowcolor": "#2a3f5f",
           "arrowhead": 0,
           "arrowwidth": 1
          },
          "autotypenumbers": "strict",
          "coloraxis": {
           "colorbar": {
            "outlinewidth": 0,
            "ticks": ""
           }
          },
          "colorscale": {
           "diverging": [
            [
             0,
             "#8e0152"
            ],
            [
             0.1,
             "#c51b7d"
            ],
            [
             0.2,
             "#de77ae"
            ],
            [
             0.3,
             "#f1b6da"
            ],
            [
             0.4,
             "#fde0ef"
            ],
            [
             0.5,
             "#f7f7f7"
            ],
            [
             0.6,
             "#e6f5d0"
            ],
            [
             0.7,
             "#b8e186"
            ],
            [
             0.8,
             "#7fbc41"
            ],
            [
             0.9,
             "#4d9221"
            ],
            [
             1,
             "#276419"
            ]
           ],
           "sequential": [
            [
             0.0,
             "#0d0887"
            ],
            [
             0.1111111111111111,
             "#46039f"
            ],
            [
             0.2222222222222222,
             "#7201a8"
            ],
            [
             0.3333333333333333,
             "#9c179e"
            ],
            [
             0.4444444444444444,
             "#bd3786"
            ],
            [
             0.5555555555555556,
             "#d8576b"
            ],
            [
             0.6666666666666666,
             "#ed7953"
            ],
            [
             0.7777777777777778,
             "#fb9f3a"
            ],
            [
             0.8888888888888888,
             "#fdca26"
            ],
            [
             1.0,
             "#f0f921"
            ]
           ],
           "sequentialminus": [
            [
             0.0,
             "#0d0887"
            ],
            [
             0.1111111111111111,
             "#46039f"
            ],
            [
             0.2222222222222222,
             "#7201a8"
            ],
            [
             0.3333333333333333,
             "#9c179e"
            ],
            [
             0.4444444444444444,
             "#bd3786"
            ],
            [
             0.5555555555555556,
             "#d8576b"
            ],
            [
             0.6666666666666666,
             "#ed7953"
            ],
            [
             0.7777777777777778,
             "#fb9f3a"
            ],
            [
             0.8888888888888888,
             "#fdca26"
            ],
            [
             1.0,
             "#f0f921"
            ]
           ]
          },
          "colorway": [
           "#636efa",
           "#EF553B",
           "#00cc96",
           "#ab63fa",
           "#FFA15A",
           "#19d3f3",
           "#FF6692",
           "#B6E880",
           "#FF97FF",
           "#FECB52"
          ],
          "font": {
           "color": "#2a3f5f"
          },
          "geo": {
           "bgcolor": "white",
           "lakecolor": "white",
           "landcolor": "#E5ECF6",
           "showlakes": true,
           "showland": true,
           "subunitcolor": "white"
          },
          "hoverlabel": {
           "align": "left"
          },
          "hovermode": "closest",
          "mapbox": {
           "style": "light"
          },
          "paper_bgcolor": "white",
          "plot_bgcolor": "#E5ECF6",
          "polar": {
           "angularaxis": {
            "gridcolor": "white",
            "linecolor": "white",
            "ticks": ""
           },
           "bgcolor": "#E5ECF6",
           "radialaxis": {
            "gridcolor": "white",
            "linecolor": "white",
            "ticks": ""
           }
          },
          "scene": {
           "xaxis": {
            "backgroundcolor": "#E5ECF6",
            "gridcolor": "white",
            "gridwidth": 2,
            "linecolor": "white",
            "showbackground": true,
            "ticks": "",
            "zerolinecolor": "white"
           },
           "yaxis": {
            "backgroundcolor": "#E5ECF6",
            "gridcolor": "white",
            "gridwidth": 2,
            "linecolor": "white",
            "showbackground": true,
            "ticks": "",
            "zerolinecolor": "white"
           },
           "zaxis": {
            "backgroundcolor": "#E5ECF6",
            "gridcolor": "white",
            "gridwidth": 2,
            "linecolor": "white",
            "showbackground": true,
            "ticks": "",
            "zerolinecolor": "white"
           }
          },
          "shapedefaults": {
           "line": {
            "color": "#2a3f5f"
           }
          },
          "ternary": {
           "aaxis": {
            "gridcolor": "white",
            "linecolor": "white",
            "ticks": ""
           },
           "baxis": {
            "gridcolor": "white",
            "linecolor": "white",
            "ticks": ""
           },
           "bgcolor": "#E5ECF6",
           "caxis": {
            "gridcolor": "white",
            "linecolor": "white",
            "ticks": ""
           }
          },
          "title": {
           "x": 0.05
          },
          "xaxis": {
           "automargin": true,
           "gridcolor": "white",
           "linecolor": "white",
           "ticks": "",
           "title": {
            "standoff": 15
           },
           "zerolinecolor": "white",
           "zerolinewidth": 2
          },
          "yaxis": {
           "automargin": true,
           "gridcolor": "white",
           "linecolor": "white",
           "ticks": "",
           "title": {
            "standoff": 15
           },
           "zerolinecolor": "white",
           "zerolinewidth": 2
          }
         }
        }
       }
      },
      "text/html": [
       "<div>                            <div id=\"0d0f814b-cd11-46d4-813a-dcc634a64b04\" class=\"plotly-graph-div\" style=\"height:525px; width:100%;\"></div>            <script type=\"text/javascript\">                require([\"plotly\"], function(Plotly) {                    window.PLOTLYENV=window.PLOTLYENV || {};                                    if (document.getElementById(\"0d0f814b-cd11-46d4-813a-dcc634a64b04\")) {                    Plotly.newPlot(                        \"0d0f814b-cd11-46d4-813a-dcc634a64b04\",                        [{\"colorscale\": [[0.0, \"#440154\"], [0.1111111111111111, \"#482878\"], [0.2222222222222222, \"#3e4989\"], [0.3333333333333333, \"#31688e\"], [0.4444444444444444, \"#26828e\"], [0.5555555555555556, \"#1f9e89\"], [0.6666666666666666, \"#35b779\"], [0.7777777777777778, \"#6ece58\"], [0.8888888888888888, \"#b5de2b\"], [1.0, \"#fde725\"]], \"reversescale\": true, \"showscale\": true, \"type\": \"heatmap\", \"x\": [\"Random forest\", \"Extra trees\", \"Ada boost\", \"Gradient boosting\", \"SVC\", \"LR\", \"MLP\", \"K Neighbours\"], \"y\": [\"Random forest\", \"Extra trees\", \"Ada boost\", \"Gradient boosting\", \"SVC\", \"LR\", \"MLP\", \"K Neighbours\"], \"z\": [[1.0, 0.9272502944328221, 0.8015472329835787, 0.7533352249012477, 0.8051370445457119, 0.8809606228988701, 0.8709616242260352, 0.7201357847057805], [0.9272502944328221, 1.0, 0.7552465407553509, 0.7319317987906491, 0.7507390308230029, 0.8498403408508799, 0.8621329024754127, 0.7328926318167732], [0.8015472329835787, 0.7552465407553509, 1.0, 0.7481690473816843, 0.7086464120181074, 0.7923874046859638, 0.7593953990291226, 0.6869747079482286], [0.7533352249012477, 0.7319317987906491, 0.7481690473816843, 1.0, 0.5874176497494399, 0.6809707881805726, 0.6717023679705616, 0.7023274179500169], [0.8051370445457119, 0.7507390308230029, 0.7086464120181074, 0.5874176497494399, 1.0, 0.8170591368185371, 0.812570082283528, 0.5985704048982962], [0.8809606228988701, 0.8498403408508799, 0.7923874046859638, 0.6809707881805726, 0.8170591368185371, 1.0, 0.913447075108938, 0.7021209712953308], [0.8709616242260352, 0.8621329024754127, 0.7593953990291226, 0.6717023679705616, 0.812570082283528, 0.913447075108938, 1.0, 0.7076860552043713], [0.7201357847057805, 0.7328926318167732, 0.6869747079482286, 0.7023274179500169, 0.5985704048982962, 0.7021209712953308, 0.7076860552043713, 1.0]]}],                        {\"template\": {\"data\": {\"bar\": [{\"error_x\": {\"color\": \"#2a3f5f\"}, \"error_y\": {\"color\": \"#2a3f5f\"}, \"marker\": {\"line\": {\"color\": \"#E5ECF6\", \"width\": 0.5}}, \"type\": \"bar\"}], \"barpolar\": [{\"marker\": {\"line\": {\"color\": \"#E5ECF6\", \"width\": 0.5}}, \"type\": \"barpolar\"}], \"carpet\": [{\"aaxis\": {\"endlinecolor\": \"#2a3f5f\", \"gridcolor\": \"white\", \"linecolor\": \"white\", \"minorgridcolor\": \"white\", \"startlinecolor\": \"#2a3f5f\"}, \"baxis\": {\"endlinecolor\": \"#2a3f5f\", \"gridcolor\": \"white\", \"linecolor\": \"white\", \"minorgridcolor\": \"white\", \"startlinecolor\": \"#2a3f5f\"}, \"type\": \"carpet\"}], \"choropleth\": [{\"colorbar\": {\"outlinewidth\": 0, \"ticks\": \"\"}, \"type\": \"choropleth\"}], \"contour\": [{\"colorbar\": {\"outlinewidth\": 0, \"ticks\": \"\"}, \"colorscale\": [[0.0, \"#0d0887\"], [0.1111111111111111, \"#46039f\"], [0.2222222222222222, \"#7201a8\"], [0.3333333333333333, \"#9c179e\"], [0.4444444444444444, \"#bd3786\"], [0.5555555555555556, \"#d8576b\"], [0.6666666666666666, \"#ed7953\"], [0.7777777777777778, \"#fb9f3a\"], [0.8888888888888888, \"#fdca26\"], [1.0, \"#f0f921\"]], \"type\": \"contour\"}], \"contourcarpet\": [{\"colorbar\": {\"outlinewidth\": 0, \"ticks\": \"\"}, \"type\": \"contourcarpet\"}], \"heatmap\": [{\"colorbar\": {\"outlinewidth\": 0, \"ticks\": \"\"}, \"colorscale\": [[0.0, \"#0d0887\"], [0.1111111111111111, \"#46039f\"], [0.2222222222222222, \"#7201a8\"], [0.3333333333333333, \"#9c179e\"], [0.4444444444444444, \"#bd3786\"], [0.5555555555555556, \"#d8576b\"], [0.6666666666666666, \"#ed7953\"], [0.7777777777777778, \"#fb9f3a\"], [0.8888888888888888, \"#fdca26\"], [1.0, \"#f0f921\"]], \"type\": \"heatmap\"}], \"heatmapgl\": [{\"colorbar\": {\"outlinewidth\": 0, \"ticks\": \"\"}, \"colorscale\": [[0.0, \"#0d0887\"], [0.1111111111111111, \"#46039f\"], [0.2222222222222222, \"#7201a8\"], [0.3333333333333333, \"#9c179e\"], [0.4444444444444444, \"#bd3786\"], [0.5555555555555556, \"#d8576b\"], [0.6666666666666666, \"#ed7953\"], [0.7777777777777778, \"#fb9f3a\"], [0.8888888888888888, \"#fdca26\"], [1.0, \"#f0f921\"]], \"type\": \"heatmapgl\"}], \"histogram\": [{\"marker\": {\"colorbar\": {\"outlinewidth\": 0, \"ticks\": \"\"}}, \"type\": \"histogram\"}], \"histogram2d\": [{\"colorbar\": {\"outlinewidth\": 0, \"ticks\": \"\"}, \"colorscale\": [[0.0, \"#0d0887\"], [0.1111111111111111, \"#46039f\"], [0.2222222222222222, \"#7201a8\"], [0.3333333333333333, \"#9c179e\"], [0.4444444444444444, \"#bd3786\"], [0.5555555555555556, \"#d8576b\"], [0.6666666666666666, \"#ed7953\"], [0.7777777777777778, \"#fb9f3a\"], [0.8888888888888888, \"#fdca26\"], [1.0, \"#f0f921\"]], \"type\": \"histogram2d\"}], \"histogram2dcontour\": [{\"colorbar\": {\"outlinewidth\": 0, \"ticks\": \"\"}, \"colorscale\": [[0.0, \"#0d0887\"], [0.1111111111111111, \"#46039f\"], [0.2222222222222222, \"#7201a8\"], [0.3333333333333333, \"#9c179e\"], [0.4444444444444444, \"#bd3786\"], [0.5555555555555556, \"#d8576b\"], [0.6666666666666666, \"#ed7953\"], [0.7777777777777778, \"#fb9f3a\"], [0.8888888888888888, \"#fdca26\"], [1.0, \"#f0f921\"]], \"type\": \"histogram2dcontour\"}], \"mesh3d\": [{\"colorbar\": {\"outlinewidth\": 0, \"ticks\": \"\"}, \"type\": \"mesh3d\"}], \"parcoords\": [{\"line\": {\"colorbar\": {\"outlinewidth\": 0, \"ticks\": \"\"}}, \"type\": \"parcoords\"}], \"pie\": [{\"automargin\": true, \"type\": \"pie\"}], \"scatter\": [{\"marker\": {\"colorbar\": {\"outlinewidth\": 0, \"ticks\": \"\"}}, \"type\": \"scatter\"}], \"scatter3d\": [{\"line\": {\"colorbar\": {\"outlinewidth\": 0, \"ticks\": \"\"}}, \"marker\": {\"colorbar\": {\"outlinewidth\": 0, \"ticks\": \"\"}}, \"type\": \"scatter3d\"}], \"scattercarpet\": [{\"marker\": {\"colorbar\": {\"outlinewidth\": 0, \"ticks\": \"\"}}, \"type\": \"scattercarpet\"}], \"scattergeo\": [{\"marker\": {\"colorbar\": {\"outlinewidth\": 0, \"ticks\": \"\"}}, \"type\": \"scattergeo\"}], \"scattergl\": [{\"marker\": {\"colorbar\": {\"outlinewidth\": 0, \"ticks\": \"\"}}, \"type\": \"scattergl\"}], \"scattermapbox\": [{\"marker\": {\"colorbar\": {\"outlinewidth\": 0, \"ticks\": \"\"}}, \"type\": \"scattermapbox\"}], \"scatterpolar\": [{\"marker\": {\"colorbar\": {\"outlinewidth\": 0, \"ticks\": \"\"}}, \"type\": \"scatterpolar\"}], \"scatterpolargl\": [{\"marker\": {\"colorbar\": {\"outlinewidth\": 0, \"ticks\": \"\"}}, \"type\": \"scatterpolargl\"}], \"scatterternary\": [{\"marker\": {\"colorbar\": {\"outlinewidth\": 0, \"ticks\": \"\"}}, \"type\": \"scatterternary\"}], \"surface\": [{\"colorbar\": {\"outlinewidth\": 0, \"ticks\": \"\"}, \"colorscale\": [[0.0, \"#0d0887\"], [0.1111111111111111, \"#46039f\"], [0.2222222222222222, \"#7201a8\"], [0.3333333333333333, \"#9c179e\"], [0.4444444444444444, \"#bd3786\"], [0.5555555555555556, \"#d8576b\"], [0.6666666666666666, \"#ed7953\"], [0.7777777777777778, \"#fb9f3a\"], [0.8888888888888888, \"#fdca26\"], [1.0, \"#f0f921\"]], \"type\": \"surface\"}], \"table\": [{\"cells\": {\"fill\": {\"color\": \"#EBF0F8\"}, \"line\": {\"color\": \"white\"}}, \"header\": {\"fill\": {\"color\": \"#C8D4E3\"}, \"line\": {\"color\": \"white\"}}, \"type\": \"table\"}]}, \"layout\": {\"annotationdefaults\": {\"arrowcolor\": \"#2a3f5f\", \"arrowhead\": 0, \"arrowwidth\": 1}, \"autotypenumbers\": \"strict\", \"coloraxis\": {\"colorbar\": {\"outlinewidth\": 0, \"ticks\": \"\"}}, \"colorscale\": {\"diverging\": [[0, \"#8e0152\"], [0.1, \"#c51b7d\"], [0.2, \"#de77ae\"], [0.3, \"#f1b6da\"], [0.4, \"#fde0ef\"], [0.5, \"#f7f7f7\"], [0.6, \"#e6f5d0\"], [0.7, \"#b8e186\"], [0.8, \"#7fbc41\"], [0.9, \"#4d9221\"], [1, \"#276419\"]], \"sequential\": [[0.0, \"#0d0887\"], [0.1111111111111111, \"#46039f\"], [0.2222222222222222, \"#7201a8\"], [0.3333333333333333, \"#9c179e\"], [0.4444444444444444, \"#bd3786\"], [0.5555555555555556, \"#d8576b\"], [0.6666666666666666, \"#ed7953\"], [0.7777777777777778, \"#fb9f3a\"], [0.8888888888888888, \"#fdca26\"], [1.0, \"#f0f921\"]], \"sequentialminus\": [[0.0, \"#0d0887\"], [0.1111111111111111, \"#46039f\"], [0.2222222222222222, \"#7201a8\"], [0.3333333333333333, \"#9c179e\"], [0.4444444444444444, \"#bd3786\"], [0.5555555555555556, \"#d8576b\"], [0.6666666666666666, \"#ed7953\"], [0.7777777777777778, \"#fb9f3a\"], [0.8888888888888888, \"#fdca26\"], [1.0, \"#f0f921\"]]}, \"colorway\": [\"#636efa\", \"#EF553B\", \"#00cc96\", \"#ab63fa\", \"#FFA15A\", \"#19d3f3\", \"#FF6692\", \"#B6E880\", \"#FF97FF\", \"#FECB52\"], \"font\": {\"color\": \"#2a3f5f\"}, \"geo\": {\"bgcolor\": \"white\", \"lakecolor\": \"white\", \"landcolor\": \"#E5ECF6\", \"showlakes\": true, \"showland\": true, \"subunitcolor\": \"white\"}, \"hoverlabel\": {\"align\": \"left\"}, \"hovermode\": \"closest\", \"mapbox\": {\"style\": \"light\"}, \"paper_bgcolor\": \"white\", \"plot_bgcolor\": \"#E5ECF6\", \"polar\": {\"angularaxis\": {\"gridcolor\": \"white\", \"linecolor\": \"white\", \"ticks\": \"\"}, \"bgcolor\": \"#E5ECF6\", \"radialaxis\": {\"gridcolor\": \"white\", \"linecolor\": \"white\", \"ticks\": \"\"}}, \"scene\": {\"xaxis\": {\"backgroundcolor\": \"#E5ECF6\", \"gridcolor\": \"white\", \"gridwidth\": 2, \"linecolor\": \"white\", \"showbackground\": true, \"ticks\": \"\", \"zerolinecolor\": \"white\"}, \"yaxis\": {\"backgroundcolor\": \"#E5ECF6\", \"gridcolor\": \"white\", \"gridwidth\": 2, \"linecolor\": \"white\", \"showbackground\": true, \"ticks\": \"\", \"zerolinecolor\": \"white\"}, \"zaxis\": {\"backgroundcolor\": \"#E5ECF6\", \"gridcolor\": \"white\", \"gridwidth\": 2, \"linecolor\": \"white\", \"showbackground\": true, \"ticks\": \"\", \"zerolinecolor\": \"white\"}}, \"shapedefaults\": {\"line\": {\"color\": \"#2a3f5f\"}}, \"ternary\": {\"aaxis\": {\"gridcolor\": \"white\", \"linecolor\": \"white\", \"ticks\": \"\"}, \"baxis\": {\"gridcolor\": \"white\", \"linecolor\": \"white\", \"ticks\": \"\"}, \"bgcolor\": \"#E5ECF6\", \"caxis\": {\"gridcolor\": \"white\", \"linecolor\": \"white\", \"ticks\": \"\"}}, \"title\": {\"x\": 0.05}, \"xaxis\": {\"automargin\": true, \"gridcolor\": \"white\", \"linecolor\": \"white\", \"ticks\": \"\", \"title\": {\"standoff\": 15}, \"zerolinecolor\": \"white\", \"zerolinewidth\": 2}, \"yaxis\": {\"automargin\": true, \"gridcolor\": \"white\", \"linecolor\": \"white\", \"ticks\": \"\", \"title\": {\"standoff\": 15}, \"zerolinecolor\": \"white\", \"zerolinewidth\": 2}}}},                        {\"responsive\": true}                    ).then(function(){\n",
       "                            \n",
       "var gd = document.getElementById('0d0f814b-cd11-46d4-813a-dcc634a64b04');\n",
       "var x = new MutationObserver(function (mutations, observer) {{\n",
       "        var display = window.getComputedStyle(gd).display;\n",
       "        if (!display || display === 'none') {{\n",
       "            console.log([gd, 'removed!']);\n",
       "            Plotly.purge(gd);\n",
       "            observer.disconnect();\n",
       "        }}\n",
       "}});\n",
       "\n",
       "// Listen for the removal of the full notebook cells\n",
       "var notebookContainer = gd.closest('#notebook-container');\n",
       "if (notebookContainer) {{\n",
       "    x.observe(notebookContainer, {childList: true});\n",
       "}}\n",
       "\n",
       "// Listen for the clearing of the current output cell\n",
       "var outputEl = gd.closest('.output');\n",
       "if (outputEl) {{\n",
       "    x.observe(outputEl, {childList: true});\n",
       "}}\n",
       "\n",
       "                        })                };                });            </script>        </div>"
      ]
     },
     "metadata": {},
     "output_type": "display_data"
    }
   ],
   "source": [
    "data = [\n",
    "    go.Heatmap(\n",
    "        z= base_predictions_train.astype(float).corr().values ,\n",
    "        x=base_predictions_train.columns.values,\n",
    "        y= base_predictions_train.columns.values,\n",
    "          colorscale='Viridis',\n",
    "            showscale=True,\n",
    "            reversescale = True\n",
    "    )\n",
    "]\n",
    "py.iplot(data, filename='labelled-heatmap')"
   ]
  },
  {
   "cell_type": "code",
   "execution_count": 62,
   "id": "essential-crash",
   "metadata": {
    "execution": {
     "iopub.execute_input": "2022-02-25T19:30:55.501167Z",
     "iopub.status.busy": "2022-02-25T19:30:55.500563Z",
     "iopub.status.idle": "2022-02-25T19:30:55.503485Z",
     "shell.execute_reply": "2022-02-25T19:30:55.504383Z",
     "shell.execute_reply.started": "2022-02-25T19:20:04.791881Z"
    },
    "papermill": {
     "duration": 0.079483,
     "end_time": "2022-02-25T19:30:55.504686",
     "exception": false,
     "start_time": "2022-02-25T19:30:55.425203",
     "status": "completed"
    },
    "tags": []
   },
   "outputs": [],
   "source": [
    "x_train = np.concatenate((rf_oof_train, et_oof_train, ada_oof_train, gb_oof_train, svc_oof_train, lr_oof_train, mlp_oof_train, kn_oof_train), axis=1)\n",
    "x_test = np.concatenate((rf_oof_test, et_oof_test, ada_oof_test, gb_oof_test, svc_oof_test, lr_oof_test, mlp_oof_test, kn_oof_test), axis=1)"
   ]
  },
  {
   "cell_type": "code",
   "execution_count": 63,
   "id": "frank-access",
   "metadata": {
    "execution": {
     "iopub.execute_input": "2022-02-25T19:30:55.730192Z",
     "iopub.status.busy": "2022-02-25T19:30:55.729509Z",
     "iopub.status.idle": "2022-02-25T19:30:55.809505Z",
     "shell.execute_reply": "2022-02-25T19:30:55.810214Z",
     "shell.execute_reply.started": "2022-02-25T19:20:04.800443Z"
    },
    "papermill": {
     "duration": 0.195565,
     "end_time": "2022-02-25T19:30:55.810400",
     "exception": false,
     "start_time": "2022-02-25T19:30:55.614835",
     "status": "completed"
    },
    "tags": []
   },
   "outputs": [
    {
     "name": "stdout",
     "output_type": "stream",
     "text": [
      "[19:30:55] WARNING: ../src/learner.cc:1061: Starting in XGBoost 1.3.0, the default evaluation metric used with the objective 'binary:logistic' was changed from 'error' to 'logloss'. Explicitly set eval_metric if you'd like to restore the old behavior.\n"
     ]
    }
   ],
   "source": [
    "model = XGBClassifier(use_label_encoder=False, random_state=1, gamma=2, max_depth=8, min_child_weight=5, subsample=1.0)\n",
    "model.fit(x_train, y)\n",
    "pred = model.predict(x_test)"
   ]
  },
  {
   "cell_type": "code",
   "execution_count": 64,
   "id": "cheap-hybrid",
   "metadata": {
    "execution": {
     "iopub.execute_input": "2022-02-25T19:30:56.037843Z",
     "iopub.status.busy": "2022-02-25T19:30:56.037198Z",
     "iopub.status.idle": "2022-02-25T19:30:56.038457Z",
     "shell.execute_reply": "2022-02-25T19:30:56.038955Z",
     "shell.execute_reply.started": "2022-02-25T19:20:04.882825Z"
    },
    "papermill": {
     "duration": 0.116065,
     "end_time": "2022-02-25T19:30:56.039123",
     "exception": false,
     "start_time": "2022-02-25T19:30:55.923058",
     "status": "completed"
    },
    "tags": []
   },
   "outputs": [],
   "source": [
    "d={'PassengerId': pass_ids, 'Survived': pred}\n",
    "results = pd.DataFrame(data=d)"
   ]
  },
  {
   "cell_type": "code",
   "execution_count": 65,
   "id": "upset-embassy",
   "metadata": {
    "execution": {
     "iopub.execute_input": "2022-02-25T19:30:56.259383Z",
     "iopub.status.busy": "2022-02-25T19:30:56.258745Z",
     "iopub.status.idle": "2022-02-25T19:30:56.263038Z",
     "shell.execute_reply": "2022-02-25T19:30:56.263551Z",
     "shell.execute_reply.started": "2022-02-25T19:20:04.890068Z"
    },
    "papermill": {
     "duration": 0.118867,
     "end_time": "2022-02-25T19:30:56.263731",
     "exception": false,
     "start_time": "2022-02-25T19:30:56.144864",
     "status": "completed"
    },
    "tags": []
   },
   "outputs": [
    {
     "data": {
      "text/html": [
       "<div>\n",
       "<style scoped>\n",
       "    .dataframe tbody tr th:only-of-type {\n",
       "        vertical-align: middle;\n",
       "    }\n",
       "\n",
       "    .dataframe tbody tr th {\n",
       "        vertical-align: top;\n",
       "    }\n",
       "\n",
       "    .dataframe thead th {\n",
       "        text-align: right;\n",
       "    }\n",
       "</style>\n",
       "<table border=\"1\" class=\"dataframe\">\n",
       "  <thead>\n",
       "    <tr style=\"text-align: right;\">\n",
       "      <th></th>\n",
       "      <th>PassengerId</th>\n",
       "      <th>Survived</th>\n",
       "    </tr>\n",
       "  </thead>\n",
       "  <tbody>\n",
       "    <tr>\n",
       "      <th>0</th>\n",
       "      <td>892</td>\n",
       "      <td>0</td>\n",
       "    </tr>\n",
       "    <tr>\n",
       "      <th>1</th>\n",
       "      <td>893</td>\n",
       "      <td>1</td>\n",
       "    </tr>\n",
       "    <tr>\n",
       "      <th>2</th>\n",
       "      <td>894</td>\n",
       "      <td>0</td>\n",
       "    </tr>\n",
       "    <tr>\n",
       "      <th>3</th>\n",
       "      <td>895</td>\n",
       "      <td>0</td>\n",
       "    </tr>\n",
       "    <tr>\n",
       "      <th>4</th>\n",
       "      <td>896</td>\n",
       "      <td>1</td>\n",
       "    </tr>\n",
       "  </tbody>\n",
       "</table>\n",
       "</div>"
      ],
      "text/plain": [
       "   PassengerId  Survived\n",
       "0          892         0\n",
       "1          893         1\n",
       "2          894         0\n",
       "3          895         0\n",
       "4          896         1"
      ]
     },
     "execution_count": 65,
     "metadata": {},
     "output_type": "execute_result"
    }
   ],
   "source": [
    "results.head()"
   ]
  },
  {
   "cell_type": "code",
   "execution_count": 66,
   "id": "distant-antarctica",
   "metadata": {
    "execution": {
     "iopub.execute_input": "2022-02-25T19:30:56.493493Z",
     "iopub.status.busy": "2022-02-25T19:30:56.492852Z",
     "iopub.status.idle": "2022-02-25T19:30:56.500013Z",
     "shell.execute_reply": "2022-02-25T19:30:56.500522Z",
     "shell.execute_reply.started": "2022-02-25T19:20:04.907851Z"
    },
    "papermill": {
     "duration": 0.125855,
     "end_time": "2022-02-25T19:30:56.500715",
     "exception": false,
     "start_time": "2022-02-25T19:30:56.374860",
     "status": "completed"
    },
    "tags": []
   },
   "outputs": [],
   "source": [
    "results.to_csv('submission.csv', index=False)"
   ]
  },
  {
   "cell_type": "markdown",
   "id": "mathematical-universe",
   "metadata": {
    "papermill": {
     "duration": 0.073663,
     "end_time": "2022-02-25T19:30:56.650426",
     "exception": false,
     "start_time": "2022-02-25T19:30:56.576763",
     "status": "completed"
    },
    "tags": []
   },
   "source": []
  },
  {
   "cell_type": "markdown",
   "id": "southeast-cowboy",
   "metadata": {
    "papermill": {
     "duration": 0.07401,
     "end_time": "2022-02-25T19:30:56.800584",
     "exception": false,
     "start_time": "2022-02-25T19:30:56.726574",
     "status": "completed"
    },
    "tags": []
   },
   "source": [
    "## Credits"
   ]
  },
  {
   "cell_type": "markdown",
   "id": "frank-winter",
   "metadata": {
    "papermill": {
     "duration": 0.0674,
     "end_time": "2022-02-25T19:30:56.941157",
     "exception": false,
     "start_time": "2022-02-25T19:30:56.873757",
     "status": "completed"
    },
    "tags": []
   },
   "source": [
    "https://www.kaggle.com/arthurtok/introduction-to-ensembling-stacking-in-python Awesome notebook about model stacking"
   ]
  }
 ],
 "metadata": {
  "kernelspec": {
   "display_name": "Python 3",
   "language": "python",
   "name": "python3"
  },
  "language_info": {
   "codemirror_mode": {
    "name": "ipython",
    "version": 3
   },
   "file_extension": ".py",
   "mimetype": "text/x-python",
   "name": "python",
   "nbconvert_exporter": "python",
   "pygments_lexer": "ipython3",
   "version": "3.7.9"
  },
  "papermill": {
   "default_parameters": {},
   "duration": 58.51372,
   "end_time": "2022-02-25T19:30:58.019502",
   "environment_variables": {},
   "exception": null,
   "input_path": "__notebook__.ipynb",
   "output_path": "__notebook__.ipynb",
   "parameters": {},
   "start_time": "2022-02-25T19:29:59.505782",
   "version": "2.3.2"
  }
 },
 "nbformat": 4,
 "nbformat_minor": 5
}
